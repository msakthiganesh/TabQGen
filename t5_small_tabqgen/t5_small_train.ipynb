{
 "cells": [
  {
   "cell_type": "code",
   "execution_count": 1,
   "metadata": {
    "id": "OlhhBdBbgHtd"
   },
   "outputs": [],
   "source": [
    "# !pip -q install transformers sentencepiece rouge nltk==3.6.2"
   ]
  },
  {
   "cell_type": "code",
   "execution_count": 2,
   "metadata": {
    "id": "jZrQ1Ymhf6r1"
   },
   "outputs": [],
   "source": [
    "# !wget -q https://storage.googleapis.com/tabqgen/tabqgen_processed_csv.zip"
   ]
  },
  {
   "cell_type": "code",
   "execution_count": 3,
   "metadata": {
    "id": "DjUsdVsXf_mP"
   },
   "outputs": [],
   "source": [
    "# !unzip tabqgen_processed_csv.zip -d ./datasets/"
   ]
  },
  {
   "cell_type": "code",
   "execution_count": 1,
   "metadata": {},
   "outputs": [
    {
     "name": "stdout",
     "output_type": "stream",
     "text": [
      "Mon Jun 14 15:31:36 2021       \n",
      "+-----------------------------------------------------------------------------+\n",
      "| NVIDIA-SMI 450.80.02    Driver Version: 450.80.02    CUDA Version: 11.0     |\n",
      "|-------------------------------+----------------------+----------------------+\n",
      "| GPU  Name        Persistence-M| Bus-Id        Disp.A | Volatile Uncorr. ECC |\n",
      "| Fan  Temp  Perf  Pwr:Usage/Cap|         Memory-Usage | GPU-Util  Compute M. |\n",
      "|                               |                      |               MIG M. |\n",
      "|===============================+======================+======================|\n",
      "|   0  Tesla T4            On   | 00000000:00:1E.0 Off |                    0 |\n",
      "| N/A   30C    P8     9W /  70W |      0MiB / 15109MiB |      0%      Default |\n",
      "|                               |                      |                  N/A |\n",
      "+-------------------------------+----------------------+----------------------+\n",
      "                                                                               \n",
      "+-----------------------------------------------------------------------------+\n",
      "| Processes:                                                                  |\n",
      "|  GPU   GI   CI        PID   Type   Process name                  GPU Memory |\n",
      "|        ID   ID                                                   Usage      |\n",
      "|=============================================================================|\n",
      "|  No running processes found                                                 |\n",
      "+-----------------------------------------------------------------------------+\n"
     ]
    }
   ],
   "source": [
    "!nvidia-smi"
   ]
  },
  {
   "cell_type": "code",
   "execution_count": 2,
   "metadata": {},
   "outputs": [],
   "source": [
    "datasets = './datasets/'"
   ]
  },
  {
   "cell_type": "code",
   "execution_count": 3,
   "metadata": {
    "id": "wdcYQJ0bZfPK"
   },
   "outputs": [],
   "source": [
    "save_path = './'"
   ]
  },
  {
   "cell_type": "code",
   "execution_count": 4,
   "metadata": {
    "id": "whVfeVXNgh0Z"
   },
   "outputs": [],
   "source": [
    "from transformers import get_linear_schedule_with_warmup, AdamW, T5TokenizerFast, T5ForConditionalGeneration\n",
    "import pandas as pd\n",
    "import numpy as np\n",
    "from tqdm.notebook import tqdm_notebook\n",
    "import torch\n",
    "from torch.utils.data import TensorDataset, Dataset, DataLoader\n",
    "import time, datetime\n",
    "import nltk\n",
    "from rouge import Rouge\n",
    "from sklearn.model_selection import train_test_split\n",
    "%matplotlib inline\n",
    "import matplotlib.pyplot as plt"
   ]
  },
  {
   "cell_type": "code",
   "execution_count": 5,
   "metadata": {
    "colab": {
     "base_uri": "https://localhost:8080/"
    },
    "id": "RjS9U_2dXXNf",
    "outputId": "b037b0ca-fe27-4287-d1d1-8aad9c73d865"
   },
   "outputs": [],
   "source": [
    "# nltk.download('wordnet')"
   ]
  },
  {
   "cell_type": "code",
   "execution_count": 6,
   "metadata": {
    "id": "moIT2SLZW3JL"
   },
   "outputs": [],
   "source": [
    "rouge_calculator = Rouge()"
   ]
  },
  {
   "cell_type": "code",
   "execution_count": 7,
   "metadata": {
    "id": "DS8sn-EEgGMe"
   },
   "outputs": [],
   "source": [
    "tokenizer = T5TokenizerFast.from_pretrained(\"t5-small\")"
   ]
  },
  {
   "cell_type": "code",
   "execution_count": 8,
   "metadata": {
    "id": "NOMTsGzmgR7U"
   },
   "outputs": [],
   "source": [
    "model = T5ForConditionalGeneration.from_pretrained(\"t5-small\").cuda()"
   ]
  },
  {
   "cell_type": "code",
   "execution_count": 9,
   "metadata": {
    "id": "lLmhFMTLgvz2"
   },
   "outputs": [],
   "source": [
    "totto_tokens = {'additional_special_tokens': ['<page_title>', '</page_title>', \n",
    "                                           '<section_title>', '</section_title>',\n",
    "                                           '<table>', '</table>',\n",
    "                                           '<cell>', '</cell>',\n",
    "                                           '<col_header>', '</col_header>',\n",
    "                                           '<highlighted_cell>','</highlighted_cell>',\n",
    "                                           '<row>','</row>',\n",
    "                                           '<row_header>','</row_header>',]}"
   ]
  },
  {
   "cell_type": "code",
   "execution_count": 10,
   "metadata": {
    "colab": {
     "base_uri": "https://localhost:8080/"
    },
    "id": "VN6oc6AOg5zw",
    "outputId": "d87a4f99-b8f8-4600-dbe2-6e6c1ea005fc"
   },
   "outputs": [
    {
     "data": {
      "text/plain": [
       "16"
      ]
     },
     "execution_count": 10,
     "metadata": {},
     "output_type": "execute_result"
    }
   ],
   "source": [
    "tokenizer.add_special_tokens(totto_tokens)"
   ]
  },
  {
   "cell_type": "code",
   "execution_count": 11,
   "metadata": {
    "colab": {
     "base_uri": "https://localhost:8080/"
    },
    "id": "Js0kLIFFZuEV",
    "outputId": "b1de9baf-089c-46d8-abd8-078703c85c5a"
   },
   "outputs": [
    {
     "data": {
      "text/plain": [
       "Embedding(32116, 512)"
      ]
     },
     "execution_count": 11,
     "metadata": {},
     "output_type": "execute_result"
    }
   ],
   "source": [
    "model.resize_token_embeddings(len(tokenizer))"
   ]
  },
  {
   "cell_type": "code",
   "execution_count": 12,
   "metadata": {
    "id": "_HJr1XYdhHs9"
   },
   "outputs": [],
   "source": [
    "df = pd.read_csv(f'{datasets}/tabqgen_train.csv')"
   ]
  },
  {
   "cell_type": "code",
   "execution_count": 13,
   "metadata": {
    "id": "NeQU_q9uc8K9"
   },
   "outputs": [],
   "source": [
    "train, val = train_test_split(df, test_size=0.0828, random_state=42)"
   ]
  },
  {
   "cell_type": "code",
   "execution_count": 14,
   "metadata": {
    "colab": {
     "base_uri": "https://localhost:8080/"
    },
    "id": "iuU-LGh_dekc",
    "outputId": "28d544a0-760f-4b27-b2f7-7995e31d7940"
   },
   "outputs": [
    {
     "data": {
      "text/plain": [
       "((110761, 4), (10000, 4))"
      ]
     },
     "execution_count": 14,
     "metadata": {},
     "output_type": "execute_result"
    }
   ],
   "source": [
    "train.shape, val.shape"
   ]
  },
  {
   "cell_type": "code",
   "execution_count": 15,
   "metadata": {
    "colab": {
     "base_uri": "https://localhost:8080/"
    },
    "id": "PcqLv6vahp_J",
    "outputId": "d5ec76d0-846c-4a76-cc95-8e93dba0683f"
   },
   "outputs": [
    {
     "data": {
      "text/plain": [
       "(Index(['Unnamed: 0', 'subtable_text', 'label', 'questions'], dtype='object'),\n",
       " Index(['Unnamed: 0', 'subtable_text', 'label', 'questions'], dtype='object'))"
      ]
     },
     "execution_count": 15,
     "metadata": {},
     "output_type": "execute_result"
    }
   ],
   "source": [
    "train.columns, val.columns"
   ]
  },
  {
   "cell_type": "code",
   "execution_count": 16,
   "metadata": {
    "id": "knW3xZoJhuzV"
   },
   "outputs": [
    {
     "name": "stderr",
     "output_type": "stream",
     "text": [
      "/home/ubuntu/anaconda3/envs/torch/lib/python3.7/site-packages/pandas/core/frame.py:4315: SettingWithCopyWarning: \n",
      "A value is trying to be set on a copy of a slice from a DataFrame\n",
      "\n",
      "See the caveats in the documentation: https://pandas.pydata.org/pandas-docs/stable/user_guide/indexing.html#returning-a-view-versus-a-copy\n",
      "  errors=errors,\n"
     ]
    }
   ],
   "source": [
    "train.drop(columns = ['Unnamed: 0'], inplace = True)\n",
    "val.drop(columns = ['Unnamed: 0'], inplace = True)"
   ]
  },
  {
   "cell_type": "code",
   "execution_count": 17,
   "metadata": {
    "id": "il_mDiL-hxSw"
   },
   "outputs": [],
   "source": [
    "train_input_txt = train.subtable_text.values\n",
    "train_target_txt = train.questions.values\n",
    "\n",
    "val_input_txt = val.subtable_text.values\n",
    "val_target_txt = val.questions.values"
   ]
  },
  {
   "cell_type": "code",
   "execution_count": 18,
   "metadata": {
    "id": "VQXoruxYhzYh"
   },
   "outputs": [],
   "source": [
    "def encode_input(inp_txt):\n",
    "    enc_inp_ids = []\n",
    "    enc_inp_attn_mask = []\n",
    "\n",
    "    for in_txt in tqdm_notebook(inp_txt):\n",
    "        enc_input = tokenizer.encode_plus(in_txt, \n",
    "                                      add_special_tokens=True,\n",
    "                                      max_length = 512,\n",
    "                                      truncation = True,\n",
    "                                      return_tensors = 'pt',\n",
    "                                      return_attention_mask=True,\n",
    "                                      return_token_type_ids=False,\n",
    "                                      padding = 'max_length')\n",
    "        enc_inp_ids.append(enc_input.input_ids)\n",
    "        enc_inp_attn_mask.append(enc_input.attention_mask)\n",
    "\n",
    "    enc_inp_ids = torch.cat(enc_inp_ids, dim = 0)\n",
    "    enc_attn_mask = torch.cat(enc_inp_attn_mask, dim = 0)\n",
    "    \n",
    "    return(enc_inp_ids, enc_attn_mask)"
   ]
  },
  {
   "cell_type": "code",
   "execution_count": 19,
   "metadata": {
    "id": "Z3TT74mCjMk_"
   },
   "outputs": [],
   "source": [
    "def encode_target(targ_txt):\n",
    "    enc_out_ids = []\n",
    "    enc_out_attn_mask = []\n",
    "\n",
    "    for trg_txt in tqdm_notebook(targ_txt):\n",
    "        enc_output = tokenizer.encode_plus(trg_txt, \n",
    "                                       add_special_tokens=True,\n",
    "                                       max_length=64,\n",
    "                                       return_tensors='pt',\n",
    "                                       return_attention_mask=True,\n",
    "                                       return_token_type_ids=False,\n",
    "                                       padding = 'max_length',\n",
    "                                       truncation =True)\n",
    "\n",
    "        enc_out_ids.append(enc_output.input_ids)\n",
    "        enc_out_attn_mask.append(enc_output.attention_mask)\n",
    "\n",
    "    enc_out_ids = torch.cat(enc_out_ids, dim = 0)\n",
    "    enc_out_attn_mask = torch.cat(enc_out_attn_mask, dim = 0)\n",
    "    \n",
    "    return(enc_out_ids, enc_out_attn_mask)"
   ]
  },
  {
   "cell_type": "code",
   "execution_count": 20,
   "metadata": {
    "colab": {
     "base_uri": "https://localhost:8080/",
     "height": 406,
     "referenced_widgets": [
      "dd7a1f4cfe1e46b5a3850b49d34d5d25",
      "967be6587f58450085091d3509fafb19",
      "5f2939df7b43417f9b15dff5d1b63412",
      "63af33d4a224455aa300624b1619fca3",
      "73d408cb29e94c26bd49d7fdc5aa633d",
      "6ac16fe6a0e14620bd300d4e16b3a9f1",
      "e25ffe0dfa5a498aae3a7aee7f17c916",
      "eafa41760497412b905e52029109be2e"
     ]
    },
    "id": "kDmgLQW8jTsK",
    "outputId": "1312ba58-d4c2-46b5-fb58-ea49185f0ce9"
   },
   "outputs": [
    {
     "data": {
      "application/vnd.jupyter.widget-view+json": {
       "model_id": "6019b9bf97e4475c86158ee2fb64719f",
       "version_major": 2,
       "version_minor": 0
      },
      "text/plain": [
       "  0%|          | 0/110761 [00:00<?, ?it/s]"
      ]
     },
     "metadata": {},
     "output_type": "display_data"
    },
    {
     "data": {
      "application/vnd.jupyter.widget-view+json": {
       "model_id": "62f1d990a49c46a39373221f0eac3617",
       "version_major": 2,
       "version_minor": 0
      },
      "text/plain": [
       "  0%|          | 0/110761 [00:00<?, ?it/s]"
      ]
     },
     "metadata": {},
     "output_type": "display_data"
    },
    {
     "data": {
      "application/vnd.jupyter.widget-view+json": {
       "model_id": "cf82acd5d80f4f3ba5c0112e85af7063",
       "version_major": 2,
       "version_minor": 0
      },
      "text/plain": [
       "  0%|          | 0/10000 [00:00<?, ?it/s]"
      ]
     },
     "metadata": {},
     "output_type": "display_data"
    },
    {
     "data": {
      "application/vnd.jupyter.widget-view+json": {
       "model_id": "c333731c7ebf407ea24fb4909bf78533",
       "version_major": 2,
       "version_minor": 0
      },
      "text/plain": [
       "  0%|          | 0/10000 [00:00<?, ?it/s]"
      ]
     },
     "metadata": {},
     "output_type": "display_data"
    }
   ],
   "source": [
    "enc_inp_ids, enc_attn_mask = encode_input(train_input_txt)\n",
    "dec_inp_ids, dec_attn_mask = encode_target(train_target_txt)\n",
    "\n",
    "\n",
    "train_ds = TensorDataset(enc_inp_ids, enc_attn_mask,\n",
    "                  dec_inp_ids, dec_attn_mask, dec_inp_ids)\n",
    "\n",
    "\n",
    "val_enc_inp_ids, val_enc_attn_mask = encode_input(val_input_txt)\n",
    "val_dec_inp_ids, val_dec_attn_mask = encode_target(val_target_txt)\n",
    "\n",
    "val_ds = TensorDataset(val_enc_inp_ids, val_enc_attn_mask,\n",
    "                  val_dec_inp_ids, val_dec_attn_mask, val_dec_inp_ids)"
   ]
  },
  {
   "cell_type": "code",
   "execution_count": 21,
   "metadata": {
    "id": "0LTmXMbjjiH5"
   },
   "outputs": [
    {
     "data": {
      "text/plain": [
       "'What was the highest temperature ever recorded in Humboldt?'"
      ]
     },
     "execution_count": 21,
     "metadata": {},
     "output_type": "execute_result"
    }
   ],
   "source": [
    "tokenizer.decode(dec_inp_ids[1], skip_special_tokens=True)"
   ]
  },
  {
   "cell_type": "code",
   "execution_count": 22,
   "metadata": {
    "id": "RbxPZpFRjagP"
   },
   "outputs": [
    {
     "name": "stdout",
     "output_type": "stream",
     "text": [
      "Train dataset shapes: torch.Size([110761, 512]), torch.Size([110761, 64])\n",
      "Val dataset shapes: torch.Size([10000, 512]), torch.Size([10000, 64])\n"
     ]
    }
   ],
   "source": [
    "print('Train dataset shapes: {}, {}'.format(enc_inp_ids.shape, dec_inp_ids.shape))\n",
    "print('Val dataset shapes: {}, {}'.format(val_enc_inp_ids.shape, val_dec_inp_ids.shape))"
   ]
  },
  {
   "cell_type": "code",
   "execution_count": 23,
   "metadata": {
    "id": "xLR3yCovjfo0"
   },
   "outputs": [],
   "source": [
    "BATCH_SIZE = 32\n",
    "\n",
    "train_dataloader = DataLoader(train_ds, batch_size = BATCH_SIZE)\n",
    "val_dataloader = DataLoader(val_ds, batch_size = BATCH_SIZE)"
   ]
  },
  {
   "cell_type": "code",
   "execution_count": 24,
   "metadata": {
    "id": "NNsgAfsvkI_u"
   },
   "outputs": [],
   "source": [
    "EPOCHS = 10\n",
    "\n",
    "steps = len(train_dataloader) * EPOCHS\n",
    "\n",
    "optimizer = AdamW(model.parameters(), lr = 1e-4, eps=1e-8)\n",
    "\n",
    "scheduler = get_linear_schedule_with_warmup(optimizer, \n",
    "                                           num_warmup_steps = 0,\n",
    "                                           num_training_steps=steps)"
   ]
  },
  {
   "cell_type": "code",
   "execution_count": 25,
   "metadata": {
    "id": "U4QlJNnpuQrM"
   },
   "outputs": [],
   "source": [
    "def tot_bleu(ref_list_, pred_list_):\n",
    "    ref_list = []\n",
    "    pred_list = []\n",
    "    for idx, pred in enumerate(pred_list_):\n",
    "        if not len(pred.split())<=1:\n",
    "          ref_list.append(ref_list_[idx])\n",
    "          pred_list.append(pred_list_[idx])\n",
    "    if pred_list:\n",
    "      bleu = nltk.translate.bleu_score.corpus_bleu(ref_list, pred_list)\n",
    "      return bleu\n",
    "    else:\n",
    "      return 0"
   ]
  },
  {
   "cell_type": "code",
   "execution_count": 26,
   "metadata": {
    "id": "wfMz_eI0uU7D"
   },
   "outputs": [],
   "source": [
    "def tot_nist(ref_list_, pred_list_):\n",
    "    ref_list = []\n",
    "    pred_list = []\n",
    "    for idx, pred in enumerate(pred_list_):\n",
    "        if not len(pred.split())<=1:\n",
    "          ref_list.append(ref_list_[idx])\n",
    "          pred_list.append(pred_list_[idx])\n",
    "    \n",
    "    if pred_list:\n",
    "      nist = nltk.translate.nist_score.corpus_nist(ref_list, pred_list)\n",
    "      return nist\n",
    "    else:\n",
    "      return 0"
   ]
  },
  {
   "cell_type": "code",
   "execution_count": 27,
   "metadata": {
    "id": "3FThks0EuYGN"
   },
   "outputs": [],
   "source": [
    "def tot_rouge(ref_list_, pred_list_):\n",
    "    ref_list = []\n",
    "    pred_list = []\n",
    "    for idx, pred in enumerate(pred_list_):\n",
    "        if not len(pred.split())<=1:\n",
    "          ref_list.append(ref_list_[idx])\n",
    "          pred_list.append(pred_list_[idx])\n",
    "    if pred_list:\n",
    "      rouge_score = rouge_calculator.get_scores(pred_list, ref_list, avg=True, ignore_empty=True)\n",
    "      return rouge_score['rouge-l']['f']\n",
    "    else:\n",
    "      return 0"
   ]
  },
  {
   "cell_type": "code",
   "execution_count": 28,
   "metadata": {
    "id": "KYVTTuJ3uacs"
   },
   "outputs": [],
   "source": [
    "def tot_meteor(ref_list, pred_list):\n",
    "    # print(len(pred_list))\n",
    "    meteor_list = []\n",
    "    for idx in range(len(ref_list)):\n",
    "        if len(pred_list[idx].split())<=1:\n",
    "          meteor_list.append(0)\n",
    "        else:\n",
    "          meteor_list.append(nltk.translate.meteor_score.meteor_score(ref_list[idx], pred_list[idx]))\n",
    "    return sum(meteor_list)/len(meteor_list)"
   ]
  },
  {
   "cell_type": "code",
   "execution_count": 29,
   "metadata": {
    "id": "I0wwtLGRuc8K"
   },
   "outputs": [],
   "source": [
    "def compute_metrics(logits, gold):\n",
    "    preds = tokenizer.batch_decode(np.argmax(logits,axis=-1), skip_special_tokens=True)\n",
    "    labels = tokenizer.batch_decode(gold, skip_special_tokens=True)\n",
    "    corpus_refs = [[i] for i in labels]\n",
    "    \n",
    "    bbleu = tot_bleu(corpus_refs, preds)\n",
    "    bnist = tot_nist(corpus_refs, preds)\n",
    "    brouge = tot_rouge(labels, preds)\n",
    "    bmeteor = tot_meteor(corpus_refs, preds)\n",
    "    \n",
    "    return bbleu, bnist, brouge, bmeteor"
   ]
  },
  {
   "cell_type": "code",
   "execution_count": 30,
   "metadata": {
    "id": "gJ6zpWMDugnA"
   },
   "outputs": [],
   "source": [
    "def write_to_file(epoch, avg_train_loss, avg_vall_loss, avg_bleu_score, val_avg_bleu_score, avg_nist_score, val_avg_nist_score, avg_rouge_score, val_avg_rouge_score, avg_meteor_score, val_avg_meteor_score, training_time, validation_time, logits, gold):\n",
    "    pred_str = tokenizer.batch_decode(np.argmax(logits,axis=-1), skip_special_tokens=True)\n",
    "    label_str = tokenizer.batch_decode(gold, skip_special_tokens=True)\n",
    "    with open('log.txt', 'a') as f:\n",
    "        f.write(f'Epoch: {epoch + 1}; Avg Train Loss: {avg_train_loss}; Avg Val Loss: {avg_val_loss}; \\\n",
    "                Avg Train BLEU:{avg_bleu_score}; Avg Validation BLEU:{val_avg_bleu_score}; \\\n",
    "                Avg Train NIST:{avg_nist_score}; Avg Validation NIST:{val_avg_nist_score}; \\\n",
    "                Avg Train ROUGE:{avg_rouge_score}; Avg Validation ROUGE:{val_avg_rouge_score}; \\\n",
    "                Avg Train METEOR:{avg_meteor_score}; Avg Validation METEOR:{val_avg_meteor_score}; \\\n",
    "                Training Time: {training_time}; Validation Time: {validation_time}\\n\\n')\n",
    "        for i in range(len(pred_str)):\n",
    "            f.write(f\"TARGET    >>> {label_str[i]}\\n\")\n",
    "            f.write(f\"PREDICTED >>> {pred_str[i]}\\n\\n\")\n",
    "        f.write('\\n')\n",
    "        f.write(120 * '~')\n",
    "        f.write('\\n')"
   ]
  },
  {
   "cell_type": "code",
   "execution_count": 31,
   "metadata": {
    "id": "tFlB3Y91u1ip"
   },
   "outputs": [],
   "source": [
    "def format_time(elapsed):\n",
    "    '''\n",
    "    Takes a time in seconds and returns a string hh:mm:ss\n",
    "    '''\n",
    "    # Round to the nearest second.\n",
    "    elapsed_rounded = int(round((elapsed)))\n",
    "    \n",
    "    # Format as hh:mm:ss\n",
    "    return str(datetime.timedelta(seconds=elapsed_rounded))"
   ]
  },
  {
   "cell_type": "code",
   "execution_count": 32,
   "metadata": {
    "id": "eYxMoL77u33E"
   },
   "outputs": [
    {
     "name": "stdout",
     "output_type": "stream",
     "text": [
      "-------------------- EPOCH 1 / 10 --------------------\n",
      "========== TRAINING ==========\n"
     ]
    },
    {
     "data": {
      "application/vnd.jupyter.widget-view+json": {
       "model_id": "f18369cd97cb434bb2851f5173ce529a",
       "version_major": 2,
       "version_minor": 0
      },
      "text/plain": [
       "  0%|          | 0/3462 [00:00<?, ?it/s]"
      ]
     },
     "metadata": {},
     "output_type": "display_data"
    },
    {
     "name": "stdout",
     "output_type": "stream",
     "text": [
      "\n",
      ">>>>> Average Train Loss : 0.2911716180383849\n",
      "\n",
      ">>>>> Average Train BLEU Score : 0.6525057585001892\n",
      "\n",
      ">>>>> Average Train NIST Score : 7.030661594890135\n",
      "\n",
      ">>>>> Average Train ROUGE Score : 0.5846166426538695\n",
      "\n",
      ">>>>> Average Train METEOR Score : 0.526577953889256\n",
      "========== VALIDATION ==========\n"
     ]
    },
    {
     "data": {
      "application/vnd.jupyter.widget-view+json": {
       "model_id": "b10e35cd194949c7927cd309418e3002",
       "version_major": 2,
       "version_minor": 0
      },
      "text/plain": [
       "  0%|          | 0/313 [00:00<?, ?it/s]"
      ]
     },
     "metadata": {},
     "output_type": "display_data"
    },
    {
     "name": "stdout",
     "output_type": "stream",
     "text": [
      "\n",
      ">>>>> Average Validation Loss : 0.20139013140346296\n",
      "\n",
      ">>>>> Average Validation BLEU Score : 0.7143575261660358\n",
      "\n",
      ">>>>> Average Validation NIST Score : 7.550471047828741\n",
      "\n",
      ">>>>> Average Validation ROUGE Score : 0.6609583507402158\n",
      "\n",
      ">>>>> Average Validation METEOR Score : 0.6147564320163759\n",
      "-------------------- EPOCH 2 / 10 --------------------\n",
      "========== TRAINING ==========\n"
     ]
    },
    {
     "data": {
      "application/vnd.jupyter.widget-view+json": {
       "model_id": "b09dec62349d4b9fb09c52b828fdd952",
       "version_major": 2,
       "version_minor": 0
      },
      "text/plain": [
       "  0%|          | 0/3462 [00:00<?, ?it/s]"
      ]
     },
     "metadata": {},
     "output_type": "display_data"
    },
    {
     "name": "stdout",
     "output_type": "stream",
     "text": [
      "\n",
      ">>>>> Average Train Loss : 0.21693669986959002\n",
      "\n",
      ">>>>> Average Train BLEU Score : 0.6977589724398885\n",
      "\n",
      ">>>>> Average Train NIST Score : 7.428369077644386\n",
      "\n",
      ">>>>> Average Train ROUGE Score : 0.6404240256224951\n",
      "\n",
      ">>>>> Average Train METEOR Score : 0.5909698566632517\n",
      "========== VALIDATION ==========\n"
     ]
    },
    {
     "data": {
      "application/vnd.jupyter.widget-view+json": {
       "model_id": "1b9e4bac05364b1bba1ae9a756602dc1",
       "version_major": 2,
       "version_minor": 0
      },
      "text/plain": [
       "  0%|          | 0/313 [00:00<?, ?it/s]"
      ]
     },
     "metadata": {},
     "output_type": "display_data"
    },
    {
     "name": "stdout",
     "output_type": "stream",
     "text": [
      "\n",
      ">>>>> Average Validation Loss : 0.18670308435210786\n",
      "\n",
      ">>>>> Average Validation BLEU Score : 0.7296841158079839\n",
      "\n",
      ">>>>> Average Validation NIST Score : 7.666262361961808\n",
      "\n",
      ">>>>> Average Validation ROUGE Score : 0.6797282572284508\n",
      "\n",
      ">>>>> Average Validation METEOR Score : 0.636218008760176\n",
      "-------------------- EPOCH 3 / 10 --------------------\n",
      "========== TRAINING ==========\n"
     ]
    },
    {
     "data": {
      "application/vnd.jupyter.widget-view+json": {
       "model_id": "9d6ba0fc735a44d7a00baede8cccd54a",
       "version_major": 2,
       "version_minor": 0
      },
      "text/plain": [
       "  0%|          | 0/3462 [00:00<?, ?it/s]"
      ]
     },
     "metadata": {},
     "output_type": "display_data"
    },
    {
     "name": "stdout",
     "output_type": "stream",
     "text": [
      "\n",
      ">>>>> Average Train Loss : 0.20066695379288055\n",
      "\n",
      ">>>>> Average Train BLEU Score : 0.7124099213134958\n",
      "\n",
      ">>>>> Average Train NIST Score : 7.550578761234329\n",
      "\n",
      ">>>>> Average Train ROUGE Score : 0.6583306471114603\n",
      "\n",
      ">>>>> Average Train METEOR Score : 0.6111988519096789\n",
      "========== VALIDATION ==========\n"
     ]
    },
    {
     "data": {
      "application/vnd.jupyter.widget-view+json": {
       "model_id": "c82987de1f89407d98063a2c6bcbf5b7",
       "version_major": 2,
       "version_minor": 0
      },
      "text/plain": [
       "  0%|          | 0/313 [00:00<?, ?it/s]"
      ]
     },
     "metadata": {},
     "output_type": "display_data"
    },
    {
     "name": "stdout",
     "output_type": "stream",
     "text": [
      "\n",
      ">>>>> Average Validation Loss : 0.1799951439229444\n",
      "\n",
      ">>>>> Average Validation BLEU Score : 0.7374850005881874\n",
      "\n",
      ">>>>> Average Validation NIST Score : 7.73298458603237\n",
      "\n",
      ">>>>> Average Validation ROUGE Score : 0.6889800167237435\n",
      "\n",
      ">>>>> Average Validation METEOR Score : 0.6468630737404809\n",
      "-------------------- EPOCH 4 / 10 --------------------\n",
      "========== TRAINING ==========\n"
     ]
    },
    {
     "data": {
      "application/vnd.jupyter.widget-view+json": {
       "model_id": "81ed86cee5d44c30952368b6244ccf6e",
       "version_major": 2,
       "version_minor": 0
      },
      "text/plain": [
       "  0%|          | 0/3462 [00:00<?, ?it/s]"
      ]
     },
     "metadata": {},
     "output_type": "display_data"
    },
    {
     "name": "stdout",
     "output_type": "stream",
     "text": [
      "\n",
      ">>>>> Average Train Loss : 0.18968820256616323\n",
      "\n",
      ">>>>> Average Train BLEU Score : 0.7224272014554061\n",
      "\n",
      ">>>>> Average Train NIST Score : 7.635935862863702\n",
      "\n",
      ">>>>> Average Train ROUGE Score : 0.6703064578318803\n",
      "\n",
      ">>>>> Average Train METEOR Score : 0.6251093775650669\n",
      "========== VALIDATION ==========\n"
     ]
    },
    {
     "data": {
      "application/vnd.jupyter.widget-view+json": {
       "model_id": "febcdcfe84594de8ae4e0deccfae706d",
       "version_major": 2,
       "version_minor": 0
      },
      "text/plain": [
       "  0%|          | 0/313 [00:00<?, ?it/s]"
      ]
     },
     "metadata": {},
     "output_type": "display_data"
    },
    {
     "name": "stdout",
     "output_type": "stream",
     "text": [
      "\n",
      ">>>>> Average Validation Loss : 0.17482342623388425\n",
      "\n",
      ">>>>> Average Validation BLEU Score : 0.7434181507878136\n",
      "\n",
      ">>>>> Average Validation NIST Score : 7.784113148092434\n",
      "\n",
      ">>>>> Average Validation ROUGE Score : 0.6954543538518142\n",
      "\n",
      ">>>>> Average Validation METEOR Score : 0.654541883534044\n",
      "-------------------- EPOCH 5 / 10 --------------------\n",
      "========== TRAINING ==========\n"
     ]
    },
    {
     "data": {
      "application/vnd.jupyter.widget-view+json": {
       "model_id": "8306d63871fc419ca58e2675dc5b373f",
       "version_major": 2,
       "version_minor": 0
      },
      "text/plain": [
       "  0%|          | 0/3462 [00:00<?, ?it/s]"
      ]
     },
     "metadata": {},
     "output_type": "display_data"
    },
    {
     "name": "stdout",
     "output_type": "stream",
     "text": [
      "\n",
      ">>>>> Average Train Loss : 0.18168210364761964\n",
      "\n",
      ">>>>> Average Train BLEU Score : 0.7301806149604472\n",
      "\n",
      ">>>>> Average Train NIST Score : 7.701313144849515\n",
      "\n",
      ">>>>> Average Train ROUGE Score : 0.6792966067745839\n",
      "\n",
      ">>>>> Average Train METEOR Score : 0.6354477094603254\n",
      "========== VALIDATION ==========\n"
     ]
    },
    {
     "data": {
      "application/vnd.jupyter.widget-view+json": {
       "model_id": "d2e717634a26439395272e5473da01b7",
       "version_major": 2,
       "version_minor": 0
      },
      "text/plain": [
       "  0%|          | 0/313 [00:00<?, ?it/s]"
      ]
     },
     "metadata": {},
     "output_type": "display_data"
    },
    {
     "name": "stdout",
     "output_type": "stream",
     "text": [
      "\n",
      ">>>>> Average Validation Loss : 0.17231893222838546\n",
      "\n",
      ">>>>> Average Validation BLEU Score : 0.7458717509579261\n",
      "\n",
      ">>>>> Average Validation NIST Score : 7.805389458702128\n",
      "\n",
      ">>>>> Average Validation ROUGE Score : 0.6990877922347534\n",
      "\n",
      ">>>>> Average Validation METEOR Score : 0.658193061631212\n",
      "-------------------- EPOCH 6 / 10 --------------------\n",
      "========== TRAINING ==========\n"
     ]
    },
    {
     "data": {
      "application/vnd.jupyter.widget-view+json": {
       "model_id": "2952570197544331bd416ab3d87a2b7b",
       "version_major": 2,
       "version_minor": 0
      },
      "text/plain": [
       "  0%|          | 0/3462 [00:00<?, ?it/s]"
      ]
     },
     "metadata": {},
     "output_type": "display_data"
    },
    {
     "name": "stdout",
     "output_type": "stream",
     "text": [
      "\n",
      ">>>>> Average Train Loss : 0.1747375394178394\n",
      "\n",
      ">>>>> Average Train BLEU Score : 0.7364017687991253\n",
      "\n",
      ">>>>> Average Train NIST Score : 7.754990830240968\n",
      "\n",
      ">>>>> Average Train ROUGE Score : 0.6865042602405773\n",
      "\n",
      ">>>>> Average Train METEOR Score : 0.643786119720037\n",
      "========== VALIDATION ==========\n"
     ]
    },
    {
     "data": {
      "application/vnd.jupyter.widget-view+json": {
       "model_id": "707dae06cfb9408b8753f424a00e58a4",
       "version_major": 2,
       "version_minor": 0
      },
      "text/plain": [
       "  0%|          | 0/313 [00:00<?, ?it/s]"
      ]
     },
     "metadata": {},
     "output_type": "display_data"
    },
    {
     "name": "stdout",
     "output_type": "stream",
     "text": [
      "\n",
      ">>>>> Average Validation Loss : 0.169774089187098\n",
      "\n",
      ">>>>> Average Validation BLEU Score : 0.7494781622210773\n",
      "\n",
      ">>>>> Average Validation NIST Score : 7.829519931126639\n",
      "\n",
      ">>>>> Average Validation ROUGE Score : 0.7030459232747933\n",
      "\n",
      ">>>>> Average Validation METEOR Score : 0.6635445485666303\n",
      "-------------------- EPOCH 7 / 10 --------------------\n",
      "========== TRAINING ==========\n"
     ]
    },
    {
     "data": {
      "application/vnd.jupyter.widget-view+json": {
       "model_id": "28f08615497a44d8b263ba1f02910d25",
       "version_major": 2,
       "version_minor": 0
      },
      "text/plain": [
       "  0%|          | 0/3462 [00:00<?, ?it/s]"
      ]
     },
     "metadata": {},
     "output_type": "display_data"
    },
    {
     "name": "stdout",
     "output_type": "stream",
     "text": [
      "\n",
      ">>>>> Average Train Loss : 0.16911648071609364\n",
      "\n",
      ">>>>> Average Train BLEU Score : 0.7423700084402696\n",
      "\n",
      ">>>>> Average Train NIST Score : 7.80562156597771\n",
      "\n",
      ">>>>> Average Train ROUGE Score : 0.6937389710886119\n",
      "\n",
      ">>>>> Average Train METEOR Score : 0.6522297615519754\n",
      "========== VALIDATION ==========\n"
     ]
    },
    {
     "data": {
      "application/vnd.jupyter.widget-view+json": {
       "model_id": "1555de691f8a4ccfa6370abb15a52e1a",
       "version_major": 2,
       "version_minor": 0
      },
      "text/plain": [
       "  0%|          | 0/313 [00:00<?, ?it/s]"
      ]
     },
     "metadata": {},
     "output_type": "display_data"
    },
    {
     "name": "stdout",
     "output_type": "stream",
     "text": [
      "\n",
      ">>>>> Average Validation Loss : 0.16795524807212453\n",
      "\n",
      ">>>>> Average Validation BLEU Score : 0.7512488241714387\n",
      "\n",
      ">>>>> Average Validation NIST Score : 7.842650326678686\n",
      "\n",
      ">>>>> Average Validation ROUGE Score : 0.7044052973530184\n",
      "\n",
      ">>>>> Average Validation METEOR Score : 0.6648033437107975\n",
      "-------------------- EPOCH 8 / 10 --------------------\n",
      "========== TRAINING ==========\n"
     ]
    },
    {
     "data": {
      "application/vnd.jupyter.widget-view+json": {
       "model_id": "6067cb9fd19348c180f1212a9f00c3c3",
       "version_major": 2,
       "version_minor": 0
      },
      "text/plain": [
       "  0%|          | 0/3462 [00:00<?, ?it/s]"
      ]
     },
     "metadata": {},
     "output_type": "display_data"
    },
    {
     "name": "stdout",
     "output_type": "stream",
     "text": [
      "\n",
      ">>>>> Average Train Loss : 0.16406973884379086\n",
      "\n",
      ">>>>> Average Train BLEU Score : 0.7472800820566382\n",
      "\n",
      ">>>>> Average Train NIST Score : 7.8490511730060195\n",
      "\n",
      ">>>>> Average Train ROUGE Score : 0.6991750372543525\n",
      "\n",
      ">>>>> Average Train METEOR Score : 0.6583085453949683\n",
      "========== VALIDATION ==========\n"
     ]
    },
    {
     "data": {
      "application/vnd.jupyter.widget-view+json": {
       "model_id": "82a1aaf04d2f4fbe850c2055416c7af8",
       "version_major": 2,
       "version_minor": 0
      },
      "text/plain": [
       "  0%|          | 0/313 [00:00<?, ?it/s]"
      ]
     },
     "metadata": {},
     "output_type": "display_data"
    },
    {
     "name": "stdout",
     "output_type": "stream",
     "text": [
      "\n",
      ">>>>> Average Validation Loss : 0.16684400054593437\n",
      "\n",
      ">>>>> Average Validation BLEU Score : 0.7529785337572602\n",
      "\n",
      ">>>>> Average Validation NIST Score : 7.862854955363874\n",
      "\n",
      ">>>>> Average Validation ROUGE Score : 0.7074136821780184\n",
      "\n",
      ">>>>> Average Validation METEOR Score : 0.6682990868423034\n",
      "-------------------- EPOCH 9 / 10 --------------------\n",
      "========== TRAINING ==========\n"
     ]
    },
    {
     "data": {
      "application/vnd.jupyter.widget-view+json": {
       "model_id": "f42c028e00fc49af822905ea98675bc5",
       "version_major": 2,
       "version_minor": 0
      },
      "text/plain": [
       "  0%|          | 0/3462 [00:00<?, ?it/s]"
      ]
     },
     "metadata": {},
     "output_type": "display_data"
    },
    {
     "name": "stdout",
     "output_type": "stream",
     "text": [
      "\n",
      ">>>>> Average Train Loss : 0.1595250086408003\n",
      "\n",
      ">>>>> Average Train BLEU Score : 0.7517085346575075\n",
      "\n",
      ">>>>> Average Train NIST Score : 7.8857237856855384\n",
      "\n",
      ">>>>> Average Train ROUGE Score : 0.703995534561142\n",
      "\n",
      ">>>>> Average Train METEOR Score : 0.6643959470868829\n",
      "========== VALIDATION ==========\n"
     ]
    },
    {
     "data": {
      "application/vnd.jupyter.widget-view+json": {
       "model_id": "313cabe622fd452db68b7b00e25168b5",
       "version_major": 2,
       "version_minor": 0
      },
      "text/plain": [
       "  0%|          | 0/313 [00:00<?, ?it/s]"
      ]
     },
     "metadata": {},
     "output_type": "display_data"
    },
    {
     "name": "stdout",
     "output_type": "stream",
     "text": [
      "\n",
      ">>>>> Average Validation Loss : 0.16636037488524524\n",
      "\n",
      ">>>>> Average Validation BLEU Score : 0.7542471556950647\n",
      "\n",
      ">>>>> Average Validation NIST Score : 7.87052677142756\n",
      "\n",
      ">>>>> Average Validation ROUGE Score : 0.708485331042676\n",
      "\n",
      ">>>>> Average Validation METEOR Score : 0.668905372471289\n",
      "-------------------- EPOCH 10 / 10 --------------------\n",
      "========== TRAINING ==========\n"
     ]
    },
    {
     "data": {
      "application/vnd.jupyter.widget-view+json": {
       "model_id": "27cd5011d30a419ba3cc7afbf565c6b2",
       "version_major": 2,
       "version_minor": 0
      },
      "text/plain": [
       "  0%|          | 0/3462 [00:00<?, ?it/s]"
      ]
     },
     "metadata": {},
     "output_type": "display_data"
    },
    {
     "name": "stdout",
     "output_type": "stream",
     "text": [
      "\n",
      ">>>>> Average Train Loss : 0.15558672137235643\n",
      "\n",
      ">>>>> Average Train BLEU Score : 0.755986202209382\n",
      "\n",
      ">>>>> Average Train NIST Score : 7.922667362657761\n",
      "\n",
      ">>>>> Average Train ROUGE Score : 0.7097307533859544\n",
      "\n",
      ">>>>> Average Train METEOR Score : 0.6708092604490119\n",
      "========== VALIDATION ==========\n"
     ]
    },
    {
     "data": {
      "application/vnd.jupyter.widget-view+json": {
       "model_id": "7ca2d80966214432a348b33ab7de3e2e",
       "version_major": 2,
       "version_minor": 0
      },
      "text/plain": [
       "  0%|          | 0/313 [00:00<?, ?it/s]"
      ]
     },
     "metadata": {},
     "output_type": "display_data"
    },
    {
     "name": "stdout",
     "output_type": "stream",
     "text": [
      "\n",
      ">>>>> Average Validation Loss : 0.16532957446746552\n",
      "\n",
      ">>>>> Average Validation BLEU Score : 0.7557411452522905\n",
      "\n",
      ">>>>> Average Validation NIST Score : 7.886340299734235\n",
      "\n",
      ">>>>> Average Validation ROUGE Score : 0.7106395122456595\n",
      "\n",
      ">>>>> Average Validation METEOR Score : 0.6717461598751631\n"
     ]
    }
   ],
   "source": [
    "training_stats = []\n",
    "best_accuracy = 0\n",
    "best_loss = 100   # dummy value\n",
    "\n",
    "hist_loss = []\n",
    "hist_bleu_scores = []\n",
    "hist_nist_scores = []\n",
    "hist_rouge_scores = []\n",
    "hist_meteor_scores = []\n",
    "\n",
    "val_hist_loss = []\n",
    "val_hist_bleu_scores = []\n",
    "val_hist_nist_scores = []\n",
    "val_hist_rouge_scores = []\n",
    "val_hist_meteor_scores = []\n",
    "\n",
    "for epoch in range(EPOCHS):\n",
    "    \n",
    "    t0 = time.time()\n",
    "    \n",
    "    total_blue = 0\n",
    "    total_nist = 0\n",
    "    total_rouge = 0\n",
    "    total_meteor = 0\n",
    "    \n",
    "    print(20 * \"-\" + \" EPOCH {} / {} \".format(epoch+1, EPOCHS) + 20 * \"-\")\n",
    "    print(10 * \"=\" + \" TRAINING \" + 10 * \"=\")\n",
    "    \n",
    "    total_train_loss = 0\n",
    "    \n",
    "    model.train()\n",
    "    \n",
    "    for nth_batch, batch in tqdm_notebook(enumerate(train_dataloader), total = len(train_dataloader)):       \n",
    "        inp_ids = batch[0].to('cuda')\n",
    "        inp_mask = batch[1].to('cuda')\n",
    "        decoder_input_ids = batch[2].to('cuda')\n",
    "        decoder_attention_mask = batch[3].to('cuda')\n",
    "        gold = batch[4].to('cuda')\n",
    "        \n",
    "        model.zero_grad()\n",
    "        \n",
    "        train_output = model(input_ids = inp_ids, attention_mask = inp_mask, labels = gold)\n",
    "        \n",
    "        loss = train_output.loss\n",
    "        logits = train_output.logits\n",
    "        \n",
    "        total_train_loss += loss.item()\n",
    "        \n",
    "        bleu, nist, rouge, meteor = compute_metrics(logits.detach().cpu().numpy(), gold.detach().cpu().numpy())\n",
    "        \n",
    "        total_blue+=bleu\n",
    "        total_nist+=nist\n",
    "        total_rouge+=rouge\n",
    "        total_meteor+=meteor\n",
    "        \n",
    "        loss.backward()\n",
    "        \n",
    "        torch.nn.utils.clip_grad_norm_(model.parameters(), 1.0)\n",
    "        \n",
    "        optimizer.step()\n",
    "\n",
    "    avg_train_loss = total_train_loss / len(train_dataloader)\n",
    "    avg_bleu_score = total_blue / len(train_dataloader)\n",
    "    avg_nist_score = total_nist / len(train_dataloader)\n",
    "    avg_rouge_score = total_rouge / len(train_dataloader)\n",
    "    avg_meteor_score = total_meteor / len(train_dataloader)\n",
    "    \n",
    "    training_time = format_time(time.time() - t0)\n",
    "    \n",
    "    hist_loss.append(avg_train_loss)\n",
    "    hist_bleu_scores.append(avg_bleu_score)\n",
    "    hist_nist_scores.append(avg_nist_score)\n",
    "    hist_rouge_scores.append(avg_rouge_score)\n",
    "    hist_meteor_scores.append(avg_meteor_score)\n",
    "    \n",
    "    print(\"\\n>>>>> Average Train Loss : {}\".format(str(avg_train_loss)))\n",
    "    print(\"\\n>>>>> Average Train BLEU Score : {}\".format(str(avg_bleu_score)))\n",
    "    print(\"\\n>>>>> Average Train NIST Score : {}\".format(str(avg_nist_score)))\n",
    "    print(\"\\n>>>>> Average Train ROUGE Score : {}\".format(str(avg_rouge_score)))\n",
    "    print(\"\\n>>>>> Average Train METEOR Score : {}\".format(str(avg_meteor_score)))\n",
    "    \n",
    "    \n",
    "\n",
    "    print(10*\"=\" + \" VALIDATION \" + 10*\"=\")\n",
    "    total_val_loss = 0\n",
    "\n",
    "    model.eval()\n",
    "    \n",
    "    val_total_blue = 0\n",
    "    val_total_nist = 0\n",
    "    val_total_rouge = 0\n",
    "    val_total_meteor = 0\n",
    "    \n",
    "    t0 = time.time()\n",
    "\n",
    "    for nth_batch, batch in tqdm_notebook(enumerate(val_dataloader), total = len(val_dataloader)):\n",
    "        inp_ids = batch[0].to('cuda')\n",
    "        inp_mask = batch[1].to('cuda')\n",
    "        decoder_input_ids = batch[2].to('cuda')\n",
    "        decoder_attention_mask = batch[3].to('cuda')\n",
    "        gold = batch[2].to('cuda')\n",
    "\n",
    "        with torch.no_grad():\n",
    "\n",
    "            val_output = model(input_ids = inp_ids, attention_mask = inp_mask,labels = gold)\n",
    "\n",
    "            loss = val_output.loss\n",
    "            logits = val_output.logits\n",
    "\n",
    "        total_val_loss += loss.item()\n",
    "\n",
    "        bleu, nist, rouge, meteor = compute_metrics(logits.detach().cpu().numpy(), gold.detach().cpu().numpy())\n",
    "        \n",
    "        val_total_blue+=bleu\n",
    "        val_total_nist+=nist\n",
    "        val_total_rouge+=rouge\n",
    "        val_total_meteor+=meteor\n",
    "\n",
    "\n",
    "    avg_val_loss = total_val_loss / len(val_dataloader)\n",
    "    val_avg_bleu_score = val_total_blue / len(val_dataloader)\n",
    "    val_avg_nist_score = val_total_nist / len(val_dataloader)\n",
    "    val_avg_rouge_score = val_total_rouge / len(val_dataloader)\n",
    "    val_avg_meteor_score = val_total_meteor / len(val_dataloader)\n",
    "    \n",
    "    validation_time = format_time(time.time() - t0)\n",
    "\n",
    "    val_hist_loss.append(avg_val_loss)\n",
    "    val_hist_bleu_scores.append(val_avg_bleu_score)\n",
    "    val_hist_nist_scores.append(val_avg_nist_score)\n",
    "    val_hist_rouge_scores.append(val_avg_rouge_score)\n",
    "    val_hist_meteor_scores.append(val_avg_meteor_score)\n",
    "    \n",
    "    print(\"\\n>>>>> Average Validation Loss : {}\".format(str(avg_val_loss)))\n",
    "    print(\"\\n>>>>> Average Validation BLEU Score : {}\".format(str(val_avg_bleu_score)))\n",
    "    print(\"\\n>>>>> Average Validation NIST Score : {}\".format(str(val_avg_nist_score)))\n",
    "    print(\"\\n>>>>> Average Validation ROUGE Score : {}\".format(str(val_avg_rouge_score)))\n",
    "    print(\"\\n>>>>> Average Validation METEOR Score : {}\".format(str(val_avg_meteor_score)))\n",
    "    \n",
    "    write_to_file(epoch, avg_train_loss, avg_val_loss, avg_bleu_score, val_avg_bleu_score, avg_nist_score, val_avg_nist_score, avg_rouge_score, val_avg_rouge_score, avg_meteor_score, val_avg_meteor_score, training_time, validation_time, logits.detach().cpu().numpy(), gold.detach().cpu().numpy())    "
   ]
  },
  {
   "cell_type": "code",
   "execution_count": 33,
   "metadata": {
    "id": "jjRs0igzu6uk"
   },
   "outputs": [
    {
     "name": "stdout",
     "output_type": "stream",
     "text": [
      "CPU times: user 217 ms, sys: 193 ms, total: 409 ms\n",
      "Wall time: 415 ms\n"
     ]
    }
   ],
   "source": [
    "%%time\n",
    "model.save_pretrained('table_qgen')"
   ]
  },
  {
   "cell_type": "code",
   "execution_count": 34,
   "metadata": {
    "id": "UYK3aglLvFWa"
   },
   "outputs": [
    {
     "data": {
      "text/plain": [
       "('table_qgen/tokenizer_config.json',\n",
       " 'table_qgen/special_tokens_map.json',\n",
       " 'table_qgen/spiece.model',\n",
       " 'table_qgen/added_tokens.json',\n",
       " 'table_qgen/tokenizer.json')"
      ]
     },
     "execution_count": 34,
     "metadata": {},
     "output_type": "execute_result"
    }
   ],
   "source": [
    "tokenizer.save_pretrained('table_qgen')"
   ]
  },
  {
   "cell_type": "code",
   "execution_count": 35,
   "metadata": {
    "id": "NfvWLNUzvQ04"
   },
   "outputs": [
    {
     "data": {
      "text/plain": [
       "[0.2911716180383849,\n",
       " 0.21693669986959002,\n",
       " 0.20066695379288055,\n",
       " 0.18968820256616323,\n",
       " 0.18168210364761964,\n",
       " 0.1747375394178394,\n",
       " 0.16911648071609364,\n",
       " 0.16406973884379086,\n",
       " 0.1595250086408003,\n",
       " 0.15558672137235643]"
      ]
     },
     "execution_count": 35,
     "metadata": {},
     "output_type": "execute_result"
    }
   ],
   "source": [
    "hist_loss"
   ]
  },
  {
   "cell_type": "code",
   "execution_count": 36,
   "metadata": {
    "id": "iDx9RwoCvRgF"
   },
   "outputs": [
    {
     "data": {
      "text/plain": [
       "[0.20139013140346296,\n",
       " 0.18670308435210786,\n",
       " 0.1799951439229444,\n",
       " 0.17482342623388425,\n",
       " 0.17231893222838546,\n",
       " 0.169774089187098,\n",
       " 0.16795524807212453,\n",
       " 0.16684400054593437,\n",
       " 0.16636037488524524,\n",
       " 0.16532957446746552]"
      ]
     },
     "execution_count": 36,
     "metadata": {},
     "output_type": "execute_result"
    }
   ],
   "source": [
    "val_hist_loss"
   ]
  },
  {
   "cell_type": "code",
   "execution_count": 37,
   "metadata": {
    "id": "Jjw_gBt4vTjD"
   },
   "outputs": [
    {
     "data": {
      "text/plain": [
       "[0.6525057585001892,\n",
       " 0.6977589724398885,\n",
       " 0.7124099213134958,\n",
       " 0.7224272014554061,\n",
       " 0.7301806149604472,\n",
       " 0.7364017687991253,\n",
       " 0.7423700084402696,\n",
       " 0.7472800820566382,\n",
       " 0.7517085346575075,\n",
       " 0.755986202209382]"
      ]
     },
     "execution_count": 37,
     "metadata": {},
     "output_type": "execute_result"
    }
   ],
   "source": [
    "hist_bleu_scores"
   ]
  },
  {
   "cell_type": "code",
   "execution_count": 38,
   "metadata": {
    "id": "OpEF7W88vWKv"
   },
   "outputs": [
    {
     "data": {
      "text/plain": [
       "[0.7143575261660358,\n",
       " 0.7296841158079839,\n",
       " 0.7374850005881874,\n",
       " 0.7434181507878136,\n",
       " 0.7458717509579261,\n",
       " 0.7494781622210773,\n",
       " 0.7512488241714387,\n",
       " 0.7529785337572602,\n",
       " 0.7542471556950647,\n",
       " 0.7557411452522905]"
      ]
     },
     "execution_count": 38,
     "metadata": {},
     "output_type": "execute_result"
    }
   ],
   "source": [
    "val_hist_bleu_scores"
   ]
  },
  {
   "cell_type": "code",
   "execution_count": 39,
   "metadata": {
    "id": "ETZP_9tRvY-8"
   },
   "outputs": [
    {
     "data": {
      "text/plain": [
       "[7.030661594890135,\n",
       " 7.428369077644386,\n",
       " 7.550578761234329,\n",
       " 7.635935862863702,\n",
       " 7.701313144849515,\n",
       " 7.754990830240968,\n",
       " 7.80562156597771,\n",
       " 7.8490511730060195,\n",
       " 7.8857237856855384,\n",
       " 7.922667362657761]"
      ]
     },
     "execution_count": 39,
     "metadata": {},
     "output_type": "execute_result"
    }
   ],
   "source": [
    "hist_nist_scores"
   ]
  },
  {
   "cell_type": "code",
   "execution_count": 40,
   "metadata": {
    "id": "qyNBTMjQvbe-"
   },
   "outputs": [
    {
     "data": {
      "text/plain": [
       "[7.550471047828741,\n",
       " 7.666262361961808,\n",
       " 7.73298458603237,\n",
       " 7.784113148092434,\n",
       " 7.805389458702128,\n",
       " 7.829519931126639,\n",
       " 7.842650326678686,\n",
       " 7.862854955363874,\n",
       " 7.87052677142756,\n",
       " 7.886340299734235]"
      ]
     },
     "execution_count": 40,
     "metadata": {},
     "output_type": "execute_result"
    }
   ],
   "source": [
    "val_hist_nist_scores"
   ]
  },
  {
   "cell_type": "code",
   "execution_count": 41,
   "metadata": {
    "id": "IxfZzoT6vbZJ"
   },
   "outputs": [
    {
     "data": {
      "text/plain": [
       "[0.5846166426538695,\n",
       " 0.6404240256224951,\n",
       " 0.6583306471114603,\n",
       " 0.6703064578318803,\n",
       " 0.6792966067745839,\n",
       " 0.6865042602405773,\n",
       " 0.6937389710886119,\n",
       " 0.6991750372543525,\n",
       " 0.703995534561142,\n",
       " 0.7097307533859544]"
      ]
     },
     "execution_count": 41,
     "metadata": {},
     "output_type": "execute_result"
    }
   ],
   "source": [
    "hist_rouge_scores"
   ]
  },
  {
   "cell_type": "code",
   "execution_count": 42,
   "metadata": {
    "id": "ZisbL2d8vbRx"
   },
   "outputs": [
    {
     "data": {
      "text/plain": [
       "[0.6609583507402158,\n",
       " 0.6797282572284508,\n",
       " 0.6889800167237435,\n",
       " 0.6954543538518142,\n",
       " 0.6990877922347534,\n",
       " 0.7030459232747933,\n",
       " 0.7044052973530184,\n",
       " 0.7074136821780184,\n",
       " 0.708485331042676,\n",
       " 0.7106395122456595]"
      ]
     },
     "execution_count": 42,
     "metadata": {},
     "output_type": "execute_result"
    }
   ],
   "source": [
    "val_hist_rouge_scores"
   ]
  },
  {
   "cell_type": "code",
   "execution_count": 43,
   "metadata": {
    "id": "3u54D-TgvfNW"
   },
   "outputs": [
    {
     "data": {
      "text/plain": [
       "[0.526577953889256,\n",
       " 0.5909698566632517,\n",
       " 0.6111988519096789,\n",
       " 0.6251093775650669,\n",
       " 0.6354477094603254,\n",
       " 0.643786119720037,\n",
       " 0.6522297615519754,\n",
       " 0.6583085453949683,\n",
       " 0.6643959470868829,\n",
       " 0.6708092604490119]"
      ]
     },
     "execution_count": 43,
     "metadata": {},
     "output_type": "execute_result"
    }
   ],
   "source": [
    "hist_meteor_scores"
   ]
  },
  {
   "cell_type": "code",
   "execution_count": 44,
   "metadata": {
    "id": "_FJHZBrzvjJL"
   },
   "outputs": [
    {
     "data": {
      "text/plain": [
       "[0.6147564320163759,\n",
       " 0.636218008760176,\n",
       " 0.6468630737404809,\n",
       " 0.654541883534044,\n",
       " 0.658193061631212,\n",
       " 0.6635445485666303,\n",
       " 0.6648033437107975,\n",
       " 0.6682990868423034,\n",
       " 0.668905372471289,\n",
       " 0.6717461598751631]"
      ]
     },
     "execution_count": 44,
     "metadata": {},
     "output_type": "execute_result"
    }
   ],
   "source": [
    "val_hist_meteor_scores"
   ]
  },
  {
   "cell_type": "code",
   "execution_count": 45,
   "metadata": {
    "id": "MLBw1SkbTzfT"
   },
   "outputs": [],
   "source": [
    "def plot_graphs(train_scores, val_scores, name):\n",
    "  plt.plot(train_scores)\n",
    "  plt.plot(val_scores)\n",
    "  plt.xlabel(\"Epochs\")\n",
    "  plt.ylabel(name)\n",
    "  plt.legend(['train_'+name, 'val_'+name])\n",
    "  plt.show()"
   ]
  },
  {
   "cell_type": "code",
   "execution_count": 46,
   "metadata": {},
   "outputs": [
    {
     "data": {
      "image/png": "[encoded data removed]",
      "text/plain": [
       "<Figure size 432x288 with 1 Axes>"
      ]
     },
     "metadata": {
      "needs_background": "light"
     },
     "output_type": "display_data"
    }
   ],
   "source": [
    "plot_graphs(hist_loss, val_hist_loss, 'loss')"
   ]
  },
  {
   "cell_type": "code",
   "execution_count": 47,
   "metadata": {},
   "outputs": [
    {
     "data": {
      "image/png": "[encoded data removed]",
      "text/plain": [
       "<Figure size 432x288 with 1 Axes>"
      ]
     },
     "metadata": {
      "needs_background": "light"
     },
     "output_type": "display_data"
    }
   ],
   "source": [
    "plot_graphs(hist_bleu_scores, val_hist_bleu_scores, 'bleu_score')"
   ]
  },
  {
   "cell_type": "code",
   "execution_count": 48,
   "metadata": {},
   "outputs": [
    {
     "data": {
      "image/png": "[encoded data removed]",
      "text/plain": [
       "<Figure size 432x288 with 1 Axes>"
      ]
     },
     "metadata": {
      "needs_background": "light"
     },
     "output_type": "display_data"
    }
   ],
   "source": [
    "plot_graphs(hist_nist_scores, val_hist_nist_scores, 'nist_score')"
   ]
  },
  {
   "cell_type": "code",
   "execution_count": 49,
   "metadata": {},
   "outputs": [
    {
     "data": {
      "image/png": "[encoded data removed]",
      "text/plain": [
       "<Figure size 432x288 with 1 Axes>"
      ]
     },
     "metadata": {
      "needs_background": "light"
     },
     "output_type": "display_data"
    }
   ],
   "source": [
    "plot_graphs(hist_rouge_scores, val_hist_rouge_scores, 'rouge_score')"
   ]
  },
  {
   "cell_type": "code",
   "execution_count": 50,
   "metadata": {},
   "outputs": [
    {
     "data": {
      "image/png": "[encoded data removed]",
      "text/plain": [
       "<Figure size 432x288 with 1 Axes>"
      ]
     },
     "metadata": {
      "needs_background": "light"
     },
     "output_type": "display_data"
    }
   ],
   "source": [
    "plot_graphs(hist_meteor_scores, val_hist_meteor_scores, 'meteor_score')"
   ]
  },
  {
   "cell_type": "code",
   "execution_count": null,
   "metadata": {},
   "outputs": [],
   "source": []
  }
 ],
 "metadata": {
  "accelerator": "GPU",
  "colab": {
   "collapsed_sections": [],
   "name": "t5_small_tabqgen.ipynb",
   "provenance": []
  },
  "kernelspec": {
   "display_name": "Python 3",
   "language": "python",
   "name": "python3"
  },
  "language_info": {
   "codemirror_mode": {
    "name": "ipython",
    "version": 3
   },
   "file_extension": ".py",
   "mimetype": "text/x-python",
   "name": "python",
   "nbconvert_exporter": "python",
   "pygments_lexer": "ipython3",
   "version": "3.7.9"
  },
  "widgets": {
   "application/vnd.jupyter.widget-state+json": {
    "state": {
     "0028bc5153f7466085d4a085c886dfb3": {
      "model_module": "@jupyter-widgets/controls",
      "model_module_version": "1.5.0",
      "model_name": "HTMLModel",
      "state": {
       "layout": "IPY_MODEL_67e27b135bf143e2a72812d83f508d69",
       "style": "IPY_MODEL_d53ac0e881a3464c93c0ee92983a118c",
       "value": " 3462/3462 [1:14:13&lt;00:00,  1.01s/it]"
      }
     },
     "00d975f29bd24b2c832ad7bc03d3cc9a": {
      "model_module": "@jupyter-widgets/controls",
      "model_module_version": "1.5.0",
      "model_name": "HTMLModel",
      "state": {
       "layout": "IPY_MODEL_bec9888543e04790afae87651dd50a16",
       "style": "IPY_MODEL_86dd09597f74422dbbd287bf51771ef0",
       "value": " 3462/3462 [1:14:07&lt;00:00,  1.02s/it]"
      }
     },
     "059d7e6ce130469f99cfb44cc8dcdd78": {
      "model_module": "@jupyter-widgets/base",
      "model_module_version": "1.2.0",
      "model_name": "LayoutModel",
      "state": {}
     },
     "06b85350576942b3822f7f195b398de2": {
      "model_module": "@jupyter-widgets/base",
      "model_module_version": "1.2.0",
      "model_name": "LayoutModel",
      "state": {}
     },
     "08bfa55fd64842f1b3f2c6fa584f05df": {
      "model_module": "@jupyter-widgets/controls",
      "model_module_version": "1.5.0",
      "model_name": "DescriptionStyleModel",
      "state": {
       "description_width": ""
      }
     },
     "08c4f4854e964067abbf5c97d47485a2": {
      "model_module": "@jupyter-widgets/controls",
      "model_module_version": "1.5.0",
      "model_name": "ProgressStyleModel",
      "state": {
       "description_width": ""
      }
     },
     "08e6aebe09f74f99b3df20e5f3cd12a1": {
      "model_module": "@jupyter-widgets/controls",
      "model_module_version": "1.5.0",
      "model_name": "HTMLModel",
      "state": {
       "layout": "IPY_MODEL_6344e462345f460783657fd4c7be8eac",
       "style": "IPY_MODEL_3bf9700afd2140d0b0edf8b6f701197d",
       "value": "100%"
      }
     },
     "09326d0faf134dbe96424caf12e7ca51": {
      "model_module": "@jupyter-widgets/controls",
      "model_module_version": "1.5.0",
      "model_name": "DescriptionStyleModel",
      "state": {
       "description_width": ""
      }
     },
     "0939084528c34a99ae2036083111eb75": {
      "model_module": "@jupyter-widgets/controls",
      "model_module_version": "1.5.0",
      "model_name": "HTMLModel",
      "state": {
       "layout": "IPY_MODEL_a063ed85efa64143a2fff8e022c846f8",
       "style": "IPY_MODEL_b03494caa08546c5933c682a7f472782",
       "value": " 3462/3462 [1:14:34&lt;00:00,  1.01s/it]"
      }
     },
     "09d11d6b9abc4c39b34d6459c2446b6a": {
      "model_module": "@jupyter-widgets/base",
      "model_module_version": "1.2.0",
      "model_name": "LayoutModel",
      "state": {}
     },
     "0b69ab10daab4bea92f09db898f11ca2": {
      "model_module": "@jupyter-widgets/controls",
      "model_module_version": "1.5.0",
      "model_name": "FloatProgressModel",
      "state": {
       "bar_style": "success",
       "layout": "IPY_MODEL_116a41ce678041ddad4bcd3ee403d2f8",
       "max": 313,
       "style": "IPY_MODEL_2908b2aa7382426da9891d96035cd22c",
       "value": 313
      }
     },
     "0c0696b96ebd4f979f959030a56586e2": {
      "model_module": "@jupyter-widgets/controls",
      "model_module_version": "1.5.0",
      "model_name": "ProgressStyleModel",
      "state": {
       "description_width": ""
      }
     },
     "0d55aa48e5b94ccfa786368fd2983fda": {
      "model_module": "@jupyter-widgets/base",
      "model_module_version": "1.2.0",
      "model_name": "LayoutModel",
      "state": {}
     },
     "0de90a45536c4a9dad809ec841816856": {
      "model_module": "@jupyter-widgets/controls",
      "model_module_version": "1.5.0",
      "model_name": "FloatProgressModel",
      "state": {
       "bar_style": "success",
       "layout": "IPY_MODEL_8054f55158264ee9a8b792ce7c9b4f60",
       "max": 313,
       "style": "IPY_MODEL_ddefb957bc09464eb93cb21576f00efb",
       "value": 313
      }
     },
     "0eefaac8954d4676b4b0479ebfffa8b5": {
      "model_module": "@jupyter-widgets/controls",
      "model_module_version": "1.5.0",
      "model_name": "HTMLModel",
      "state": {
       "layout": "IPY_MODEL_92773028f1da48efb0d7827f4aeb2671",
       "style": "IPY_MODEL_be0951e39d8d4808823cfc62b16a1ee0",
       "value": "100%"
      }
     },
     "0f73b8cca70d45b289d3fed37f78a7e1": {
      "model_module": "@jupyter-widgets/base",
      "model_module_version": "1.2.0",
      "model_name": "LayoutModel",
      "state": {}
     },
     "116a41ce678041ddad4bcd3ee403d2f8": {
      "model_module": "@jupyter-widgets/base",
      "model_module_version": "1.2.0",
      "model_name": "LayoutModel",
      "state": {}
     },
     "12468e114fd0403aa9616027f8f0dcd5": {
      "model_module": "@jupyter-widgets/controls",
      "model_module_version": "1.5.0",
      "model_name": "HTMLModel",
      "state": {
       "layout": "IPY_MODEL_436e62789c084134a179b266ade19a2f",
       "style": "IPY_MODEL_5fa0207fed254f8dbbe4b38d7e1382d8",
       "value": " 313/313 [03:18&lt;00:00,  1.87it/s]"
      }
     },
     "151222fdbcf049b58b14af9f79dc1751": {
      "model_module": "@jupyter-widgets/controls",
      "model_module_version": "1.5.0",
      "model_name": "DescriptionStyleModel",
      "state": {
       "description_width": ""
      }
     },
     "1555de691f8a4ccfa6370abb15a52e1a": {
      "model_module": "@jupyter-widgets/controls",
      "model_module_version": "1.5.0",
      "model_name": "HBoxModel",
      "state": {
       "children": [
        "IPY_MODEL_e3f346be26fe4e90a8d84def53142617",
        "IPY_MODEL_3d09e52cc7ec4ee08be2a472d45169d0",
        "IPY_MODEL_5c594b4d0ea74e4ab4585f5a73003e34"
       ],
       "layout": "IPY_MODEL_805c56f2597e4e2da0dbd409f4c99adf"
      }
     },
     "15af9b11077947bb833b725e0d6292dd": {
      "model_module": "@jupyter-widgets/controls",
      "model_module_version": "1.5.0",
      "model_name": "DescriptionStyleModel",
      "state": {
       "description_width": ""
      }
     },
     "16ac59f3b72c44f9b708ef6c77bc4840": {
      "model_module": "@jupyter-widgets/controls",
      "model_module_version": "1.5.0",
      "model_name": "FloatProgressModel",
      "state": {
       "bar_style": "success",
       "layout": "IPY_MODEL_307afcea97c64b37809fbcbc574bd9d9",
       "max": 313,
       "style": "IPY_MODEL_3da6591d2ecd45daa46f9507d816e810",
       "value": 313
      }
     },
     "19ca9cfce3a74297be96265767fd1a36": {
      "model_module": "@jupyter-widgets/controls",
      "model_module_version": "1.5.0",
      "model_name": "FloatProgressModel",
      "state": {
       "bar_style": "success",
       "layout": "IPY_MODEL_9f13e5b5aec4497b9fd0bfb96d31e602",
       "max": 313,
       "style": "IPY_MODEL_bc8d5f19ab644efd86b32a1af32a4660",
       "value": 313
      }
     },
     "1a4f081724814b82af32ef9d7231efaf": {
      "model_module": "@jupyter-widgets/base",
      "model_module_version": "1.2.0",
      "model_name": "LayoutModel",
      "state": {}
     },
     "1b9e4bac05364b1bba1ae9a756602dc1": {
      "model_module": "@jupyter-widgets/controls",
      "model_module_version": "1.5.0",
      "model_name": "HBoxModel",
      "state": {
       "children": [
        "IPY_MODEL_d2606f3add6844f395f2dba190065532",
        "IPY_MODEL_0b69ab10daab4bea92f09db898f11ca2",
        "IPY_MODEL_1ffa4475d17f4c989c3282e4bfe62ac5"
       ],
       "layout": "IPY_MODEL_dc290ac8aca34ab6bb8bb9cd6f28075c"
      }
     },
     "1bc56e0f97be4473a9edf3a8e1e2e3b6": {
      "model_module": "@jupyter-widgets/controls",
      "model_module_version": "1.5.0",
      "model_name": "HTMLModel",
      "state": {
       "layout": "IPY_MODEL_818a07e345dc4b1dbe8d20be007d890c",
       "style": "IPY_MODEL_295c647af90d4d89b8e173ae0ddb0311",
       "value": " 110761/110761 [00:16&lt;00:00, 6712.02it/s]"
      }
     },
     "1c56ac7408504e3c8f9350c9282e9817": {
      "model_module": "@jupyter-widgets/controls",
      "model_module_version": "1.5.0",
      "model_name": "DescriptionStyleModel",
      "state": {
       "description_width": ""
      }
     },
     "1c95274f62e44bc2b2d17d87b5779d8a": {
      "model_module": "@jupyter-widgets/controls",
      "model_module_version": "1.5.0",
      "model_name": "DescriptionStyleModel",
      "state": {
       "description_width": ""
      }
     },
     "1e13bfd2825346b297b57b64712a779d": {
      "model_module": "@jupyter-widgets/controls",
      "model_module_version": "1.5.0",
      "model_name": "HTMLModel",
      "state": {
       "layout": "IPY_MODEL_1a4f081724814b82af32ef9d7231efaf",
       "style": "IPY_MODEL_15af9b11077947bb833b725e0d6292dd",
       "value": " 313/313 [03:18&lt;00:00,  1.86it/s]"
      }
     },
     "1e5b593644db41dd947a119e91712d5c": {
      "model_module": "@jupyter-widgets/base",
      "model_module_version": "1.2.0",
      "model_name": "LayoutModel",
      "state": {}
     },
     "1f17f60ab52742e0aba85af46eb90f7f": {
      "model_module": "@jupyter-widgets/base",
      "model_module_version": "1.2.0",
      "model_name": "LayoutModel",
      "state": {}
     },
     "1f96d7fd63ec4aca9461fe659e53b6f4": {
      "model_module": "@jupyter-widgets/base",
      "model_module_version": "1.2.0",
      "model_name": "LayoutModel",
      "state": {}
     },
     "1ffa4475d17f4c989c3282e4bfe62ac5": {
      "model_module": "@jupyter-widgets/controls",
      "model_module_version": "1.5.0",
      "model_name": "HTMLModel",
      "state": {
       "layout": "IPY_MODEL_9270be07a7d64abdb3b2e0b385f339f6",
       "style": "IPY_MODEL_151222fdbcf049b58b14af9f79dc1751",
       "value": " 313/313 [03:19&lt;00:00,  1.86it/s]"
      }
     },
     "207848225dd441d4937da1ea10b1cfb5": {
      "model_module": "@jupyter-widgets/base",
      "model_module_version": "1.2.0",
      "model_name": "LayoutModel",
      "state": {}
     },
     "21334d486e5e4c8a8953db18bfe74762": {
      "model_module": "@jupyter-widgets/controls",
      "model_module_version": "1.5.0",
      "model_name": "DescriptionStyleModel",
      "state": {
       "description_width": ""
      }
     },
     "2270d29fa0d04fdca84c93fcd56a4aa4": {
      "model_module": "@jupyter-widgets/controls",
      "model_module_version": "1.5.0",
      "model_name": "DescriptionStyleModel",
      "state": {
       "description_width": ""
      }
     },
     "2670c521852d4d5d91f7f04544c889dd": {
      "model_module": "@jupyter-widgets/base",
      "model_module_version": "1.2.0",
      "model_name": "LayoutModel",
      "state": {}
     },
     "272725d5e0fd41ae8cd12b6ed8584cc8": {
      "model_module": "@jupyter-widgets/base",
      "model_module_version": "1.2.0",
      "model_name": "LayoutModel",
      "state": {}
     },
     "27cac4c75a2c4315abcd4bafb219f1e4": {
      "model_module": "@jupyter-widgets/controls",
      "model_module_version": "1.5.0",
      "model_name": "HTMLModel",
      "state": {
       "layout": "IPY_MODEL_f209792ea45947d0b468d53fae821e9e",
       "style": "IPY_MODEL_966482c147f94576afa59f21a2d77823",
       "value": "100%"
      }
     },
     "27cd5011d30a419ba3cc7afbf565c6b2": {
      "model_module": "@jupyter-widgets/controls",
      "model_module_version": "1.5.0",
      "model_name": "HBoxModel",
      "state": {
       "children": [
        "IPY_MODEL_dcc4e3eb4adc41ec81ba811ac9d7b088",
        "IPY_MODEL_5e9a47e0fd364ebb965a2b0cbf5ffbcc",
        "IPY_MODEL_42ae8f8e4a1745d2b4e3dcf3f5f17e43"
       ],
       "layout": "IPY_MODEL_b5a984db4472481aacd56eb0248a0e3e"
      }
     },
     "28e377b8a8f54e359611f73f06af1038": {
      "model_module": "@jupyter-widgets/base",
      "model_module_version": "1.2.0",
      "model_name": "LayoutModel",
      "state": {}
     },
     "28e6d78acc3c451189c365b01d0ab216": {
      "model_module": "@jupyter-widgets/controls",
      "model_module_version": "1.5.0",
      "model_name": "HTMLModel",
      "state": {
       "layout": "IPY_MODEL_dc7101d68d6c4fd0a8928bc21f685443",
       "style": "IPY_MODEL_9905c9a0f4ef4319ae5cff3015012b5c",
       "value": "100%"
      }
     },
     "28eb885ab66f474ca0f502996cade258": {
      "model_module": "@jupyter-widgets/controls",
      "model_module_version": "1.5.0",
      "model_name": "FloatProgressModel",
      "state": {
       "bar_style": "success",
       "layout": "IPY_MODEL_cd94b961a2474276bf27b2bc16bfdeca",
       "max": 313,
       "style": "IPY_MODEL_2ac3e5d647194d4e9860dd5f13073c44",
       "value": 313
      }
     },
     "28f08615497a44d8b263ba1f02910d25": {
      "model_module": "@jupyter-widgets/controls",
      "model_module_version": "1.5.0",
      "model_name": "HBoxModel",
      "state": {
       "children": [
        "IPY_MODEL_cab4d5293ad547eca3e5d7d8289e18d6",
        "IPY_MODEL_e0515eb0981e492cb49ccec1c9bdddee",
        "IPY_MODEL_0028bc5153f7466085d4a085c886dfb3"
       ],
       "layout": "IPY_MODEL_bc7304d435b24f8382ab04bbeab1474d"
      }
     },
     "2908b2aa7382426da9891d96035cd22c": {
      "model_module": "@jupyter-widgets/controls",
      "model_module_version": "1.5.0",
      "model_name": "ProgressStyleModel",
      "state": {
       "description_width": ""
      }
     },
     "2952570197544331bd416ab3d87a2b7b": {
      "model_module": "@jupyter-widgets/controls",
      "model_module_version": "1.5.0",
      "model_name": "HBoxModel",
      "state": {
       "children": [
        "IPY_MODEL_64cd52c946454a88bf5b3d2829b34bb2",
        "IPY_MODEL_9094a4f02fb142a28028aa029aeea180",
        "IPY_MODEL_00d975f29bd24b2c832ad7bc03d3cc9a"
       ],
       "layout": "IPY_MODEL_d5c78c846eca4a1caeea4799d894d802"
      }
     },
     "295c647af90d4d89b8e173ae0ddb0311": {
      "model_module": "@jupyter-widgets/controls",
      "model_module_version": "1.5.0",
      "model_name": "DescriptionStyleModel",
      "state": {
       "description_width": ""
      }
     },
     "29df259e8247461ca116de39dbaf9a11": {
      "model_module": "@jupyter-widgets/base",
      "model_module_version": "1.2.0",
      "model_name": "LayoutModel",
      "state": {}
     },
     "2a7368c160184b42b0f08df3068e473e": {
      "model_module": "@jupyter-widgets/base",
      "model_module_version": "1.2.0",
      "model_name": "LayoutModel",
      "state": {}
     },
     "2ac3e5d647194d4e9860dd5f13073c44": {
      "model_module": "@jupyter-widgets/controls",
      "model_module_version": "1.5.0",
      "model_name": "ProgressStyleModel",
      "state": {
       "description_width": ""
      }
     },
     "2c02fb9b677b45a7a68827b8c62dfedd": {
      "model_module": "@jupyter-widgets/controls",
      "model_module_version": "1.5.0",
      "model_name": "HTMLModel",
      "state": {
       "layout": "IPY_MODEL_1f96d7fd63ec4aca9461fe659e53b6f4",
       "style": "IPY_MODEL_9bbe749d6bbc418d84b49833df2ee2ad",
       "value": "100%"
      }
     },
     "2c4b181696034333be59eb1ee00b1b4b": {
      "model_module": "@jupyter-widgets/controls",
      "model_module_version": "1.5.0",
      "model_name": "HTMLModel",
      "state": {
       "layout": "IPY_MODEL_59462c0ec64b47f5ae14806330544063",
       "style": "IPY_MODEL_bb46ced21d174e9093a72537794ead5c",
       "value": "100%"
      }
     },
     "2ccd4126edfd475a96a515b5467e770e": {
      "model_module": "@jupyter-widgets/controls",
      "model_module_version": "1.5.0",
      "model_name": "HTMLModel",
      "state": {
       "layout": "IPY_MODEL_a01d54ad66344be4b6f94b6a79d5a356",
       "style": "IPY_MODEL_daf8dc25c3bc426ea652c832057e5f93",
       "value": " 10000/10000 [00:01&lt;00:00, 7085.70it/s]"
      }
     },
     "2d6396a4a6634ac0af1ecae8acc5a63d": {
      "model_module": "@jupyter-widgets/controls",
      "model_module_version": "1.5.0",
      "model_name": "HTMLModel",
      "state": {
       "layout": "IPY_MODEL_a6a5ca2cf5bb44f0806a53ea5747931c",
       "style": "IPY_MODEL_09326d0faf134dbe96424caf12e7ca51",
       "value": " 313/313 [03:18&lt;00:00,  1.82it/s]"
      }
     },
     "301678ef209246b7b1e8e21064801193": {
      "model_module": "@jupyter-widgets/base",
      "model_module_version": "1.2.0",
      "model_name": "LayoutModel",
      "state": {}
     },
     "303be52fa89d41ebabf8f5321725463c": {
      "model_module": "@jupyter-widgets/base",
      "model_module_version": "1.2.0",
      "model_name": "LayoutModel",
      "state": {}
     },
     "307afcea97c64b37809fbcbc574bd9d9": {
      "model_module": "@jupyter-widgets/base",
      "model_module_version": "1.2.0",
      "model_name": "LayoutModel",
      "state": {}
     },
     "313cabe622fd452db68b7b00e25168b5": {
      "model_module": "@jupyter-widgets/controls",
      "model_module_version": "1.5.0",
      "model_name": "HBoxModel",
      "state": {
       "children": [
        "IPY_MODEL_6220c7774025495c9613991fb52986ae",
        "IPY_MODEL_16ac59f3b72c44f9b708ef6c77bc4840",
        "IPY_MODEL_a6c0259e28ac423b9ec9a79f185f8b50"
       ],
       "layout": "IPY_MODEL_c2f4fbdf1017438e8c3081fe5d910678"
      }
     },
     "31f8b77af6ea4235a701a0a014d111be": {
      "model_module": "@jupyter-widgets/base",
      "model_module_version": "1.2.0",
      "model_name": "LayoutModel",
      "state": {}
     },
     "335c1275a53f41f3b6af19b18faae682": {
      "model_module": "@jupyter-widgets/controls",
      "model_module_version": "1.5.0",
      "model_name": "DescriptionStyleModel",
      "state": {
       "description_width": ""
      }
     },
     "34e2ca53de224610958db0bcdee40a8f": {
      "model_module": "@jupyter-widgets/base",
      "model_module_version": "1.2.0",
      "model_name": "LayoutModel",
      "state": {}
     },
     "37f43526747544b0a53480023f9929c9": {
      "model_module": "@jupyter-widgets/base",
      "model_module_version": "1.2.0",
      "model_name": "LayoutModel",
      "state": {}
     },
     "3891897d84ca4096b3ed38be5e78a6db": {
      "model_module": "@jupyter-widgets/base",
      "model_module_version": "1.2.0",
      "model_name": "LayoutModel",
      "state": {}
     },
     "39387760fe91417aa288425446bf453e": {
      "model_module": "@jupyter-widgets/controls",
      "model_module_version": "1.5.0",
      "model_name": "DescriptionStyleModel",
      "state": {
       "description_width": ""
      }
     },
     "3a0341e23d4f4fe6af38cc4487e7d5e3": {
      "model_module": "@jupyter-widgets/controls",
      "model_module_version": "1.5.0",
      "model_name": "HTMLModel",
      "state": {
       "layout": "IPY_MODEL_6cfcb1ef08af438ca1c948d2d5186231",
       "style": "IPY_MODEL_65fd42c5c3ac4d2a81ca2b234f980f76",
       "value": " 3462/3462 [1:14:05&lt;00:00,  1.02s/it]"
      }
     },
     "3bf9700afd2140d0b0edf8b6f701197d": {
      "model_module": "@jupyter-widgets/controls",
      "model_module_version": "1.5.0",
      "model_name": "DescriptionStyleModel",
      "state": {
       "description_width": ""
      }
     },
     "3c57f20a694a4aabbd65da20ad1a83c0": {
      "model_module": "@jupyter-widgets/controls",
      "model_module_version": "1.5.0",
      "model_name": "HTMLModel",
      "state": {
       "layout": "IPY_MODEL_b6ef23aec953449fb392f43ead5c96ab",
       "style": "IPY_MODEL_e64e188aefd848519fe6cd00fd168812",
       "value": "100%"
      }
     },
     "3d09e52cc7ec4ee08be2a472d45169d0": {
      "model_module": "@jupyter-widgets/controls",
      "model_module_version": "1.5.0",
      "model_name": "FloatProgressModel",
      "state": {
       "bar_style": "success",
       "layout": "IPY_MODEL_cd1ecafdca654e5091e286714040569b",
       "max": 313,
       "style": "IPY_MODEL_a973cc9e76504a1ca43d84b4e8bff06c",
       "value": 313
      }
     },
     "3d3e502b0289478aa065cf929899c8c5": {
      "model_module": "@jupyter-widgets/controls",
      "model_module_version": "1.5.0",
      "model_name": "ProgressStyleModel",
      "state": {
       "description_width": ""
      }
     },
     "3da6591d2ecd45daa46f9507d816e810": {
      "model_module": "@jupyter-widgets/controls",
      "model_module_version": "1.5.0",
      "model_name": "ProgressStyleModel",
      "state": {
       "description_width": ""
      }
     },
     "4254565297c8456ca36901b36b986114": {
      "model_module": "@jupyter-widgets/base",
      "model_module_version": "1.2.0",
      "model_name": "LayoutModel",
      "state": {}
     },
     "4290206d5f164f61b5d39c056a0e45c9": {
      "model_module": "@jupyter-widgets/base",
      "model_module_version": "1.2.0",
      "model_name": "LayoutModel",
      "state": {}
     },
     "42ae8f8e4a1745d2b4e3dcf3f5f17e43": {
      "model_module": "@jupyter-widgets/controls",
      "model_module_version": "1.5.0",
      "model_name": "HTMLModel",
      "state": {
       "layout": "IPY_MODEL_53088c0aff0e449499f7fb35e7a102fb",
       "style": "IPY_MODEL_9e243097ad244367803afe0dafb190d3",
       "value": " 3462/3462 [1:13:45&lt;00:00,  1.01s/it]"
      }
     },
     "42e4c51ed6074a07ba94b1dc5ba00e89": {
      "model_module": "@jupyter-widgets/controls",
      "model_module_version": "1.5.0",
      "model_name": "FloatProgressModel",
      "state": {
       "bar_style": "success",
       "layout": "IPY_MODEL_94c1f3a0904147658bd772eb1e7ee190",
       "max": 10000,
       "style": "IPY_MODEL_46d627114bd247ea968aa6cdaabeca3d",
       "value": 10000
      }
     },
     "436e62789c084134a179b266ade19a2f": {
      "model_module": "@jupyter-widgets/base",
      "model_module_version": "1.2.0",
      "model_name": "LayoutModel",
      "state": {}
     },
     "46d627114bd247ea968aa6cdaabeca3d": {
      "model_module": "@jupyter-widgets/controls",
      "model_module_version": "1.5.0",
      "model_name": "ProgressStyleModel",
      "state": {
       "description_width": ""
      }
     },
     "49bfd4c8b6e5407d90361cca0198edc4": {
      "model_module": "@jupyter-widgets/controls",
      "model_module_version": "1.5.0",
      "model_name": "FloatProgressModel",
      "state": {
       "bar_style": "success",
       "layout": "IPY_MODEL_e751566a0b754b2f88153394df6d6ad2",
       "max": 3462,
       "style": "IPY_MODEL_e568fe039c634cd1aafe32d5bfdfa7de",
       "value": 3462
      }
     },
     "4a100fa8470743b3a846815b48d44958": {
      "model_module": "@jupyter-widgets/base",
      "model_module_version": "1.2.0",
      "model_name": "LayoutModel",
      "state": {}
     },
     "4b3cee9d8c0b4dd28099bb09dd63100d": {
      "model_module": "@jupyter-widgets/controls",
      "model_module_version": "1.5.0",
      "model_name": "DescriptionStyleModel",
      "state": {
       "description_width": ""
      }
     },
     "4c46920e3199418da1b591d7d63ae46f": {
      "model_module": "@jupyter-widgets/controls",
      "model_module_version": "1.5.0",
      "model_name": "DescriptionStyleModel",
      "state": {
       "description_width": ""
      }
     },
     "4cdf3d730ce144ac8794682aafb437a4": {
      "model_module": "@jupyter-widgets/controls",
      "model_module_version": "1.5.0",
      "model_name": "HTMLModel",
      "state": {
       "layout": "IPY_MODEL_6b794dbf3a4448dd9331ddfeeb58322d",
       "style": "IPY_MODEL_6b42b30efcf64c5ead9471144320bf4b",
       "value": "100%"
      }
     },
     "4ce98d34bcfb4c8a8d946aee154c590d": {
      "model_module": "@jupyter-widgets/base",
      "model_module_version": "1.2.0",
      "model_name": "LayoutModel",
      "state": {}
     },
     "4dc08ef0eedf4c6d8f71d32a6bf68f06": {
      "model_module": "@jupyter-widgets/base",
      "model_module_version": "1.2.0",
      "model_name": "LayoutModel",
      "state": {}
     },
     "53088c0aff0e449499f7fb35e7a102fb": {
      "model_module": "@jupyter-widgets/base",
      "model_module_version": "1.2.0",
      "model_name": "LayoutModel",
      "state": {}
     },
     "544d9ccc5b07415f967c02e412a0e535": {
      "model_module": "@jupyter-widgets/controls",
      "model_module_version": "1.5.0",
      "model_name": "HTMLModel",
      "state": {
       "layout": "IPY_MODEL_31f8b77af6ea4235a701a0a014d111be",
       "style": "IPY_MODEL_e224ee5781ac46b79bc3afe3dd8468d3",
       "value": "100%"
      }
     },
     "546d7c41d7674e58b342227ab1889832": {
      "model_module": "@jupyter-widgets/controls",
      "model_module_version": "1.5.0",
      "model_name": "DescriptionStyleModel",
      "state": {
       "description_width": ""
      }
     },
     "54a122ce98124b37b326b8eb6824f180": {
      "model_module": "@jupyter-widgets/controls",
      "model_module_version": "1.5.0",
      "model_name": "DescriptionStyleModel",
      "state": {
       "description_width": ""
      }
     },
     "56d39366601248e9b28782447eb88a47": {
      "model_module": "@jupyter-widgets/base",
      "model_module_version": "1.2.0",
      "model_name": "LayoutModel",
      "state": {}
     },
     "5701adf9437f442b962a0284c70da87e": {
      "model_module": "@jupyter-widgets/controls",
      "model_module_version": "1.5.0",
      "model_name": "HTMLModel",
      "state": {
       "layout": "IPY_MODEL_faf86f89f4f84c19a583a7556f420889",
       "style": "IPY_MODEL_4b3cee9d8c0b4dd28099bb09dd63100d",
       "value": " 313/313 [03:17&lt;00:00,  1.88it/s]"
      }
     },
     "59462c0ec64b47f5ae14806330544063": {
      "model_module": "@jupyter-widgets/base",
      "model_module_version": "1.2.0",
      "model_name": "LayoutModel",
      "state": {}
     },
     "59b00640cdfe4250ab97255ba30fdeee": {
      "model_module": "@jupyter-widgets/controls",
      "model_module_version": "1.5.0",
      "model_name": "DescriptionStyleModel",
      "state": {
       "description_width": ""
      }
     },
     "5bfaa515d89540e0812226d8046b5533": {
      "model_module": "@jupyter-widgets/base",
      "model_module_version": "1.2.0",
      "model_name": "LayoutModel",
      "state": {}
     },
     "5c594b4d0ea74e4ab4585f5a73003e34": {
      "model_module": "@jupyter-widgets/controls",
      "model_module_version": "1.5.0",
      "model_name": "HTMLModel",
      "state": {
       "layout": "IPY_MODEL_781b7726ebd74befb28f373b96a0aa53",
       "style": "IPY_MODEL_08bfa55fd64842f1b3f2c6fa584f05df",
       "value": " 313/313 [03:18&lt;00:00,  1.85it/s]"
      }
     },
     "5e9a47e0fd364ebb965a2b0cbf5ffbcc": {
      "model_module": "@jupyter-widgets/controls",
      "model_module_version": "1.5.0",
      "model_name": "FloatProgressModel",
      "state": {
       "bar_style": "success",
       "layout": "IPY_MODEL_301678ef209246b7b1e8e21064801193",
       "max": 3462,
       "style": "IPY_MODEL_df4502ee2511496094d074c5c560ac8b",
       "value": 3462
      }
     },
     "5fa0207fed254f8dbbe4b38d7e1382d8": {
      "model_module": "@jupyter-widgets/controls",
      "model_module_version": "1.5.0",
      "model_name": "DescriptionStyleModel",
      "state": {
       "description_width": ""
      }
     },
     "6019b9bf97e4475c86158ee2fb64719f": {
      "model_module": "@jupyter-widgets/controls",
      "model_module_version": "1.5.0",
      "model_name": "HBoxModel",
      "state": {
       "children": [
        "IPY_MODEL_cdc9fc8b2f984d23972523be5e302fb5",
        "IPY_MODEL_72d404971e524c4d9e3fe15c6f7be571",
        "IPY_MODEL_a980ac3d5a344d6e9615518f19c22a6b"
       ],
       "layout": "IPY_MODEL_cb1e6e5193bb47958d9e6b42e54bf5f2"
      }
     },
     "6067cb9fd19348c180f1212a9f00c3c3": {
      "model_module": "@jupyter-widgets/controls",
      "model_module_version": "1.5.0",
      "model_name": "HBoxModel",
      "state": {
       "children": [
        "IPY_MODEL_a0552f571b2942f0a66a251e473f4aae",
        "IPY_MODEL_d7794ce0b4424fd8954fff3415908061",
        "IPY_MODEL_b8f96645670b4353be92fbbd177cd1ce"
       ],
       "layout": "IPY_MODEL_b37e3f81aba34f799493c85dd81abef4"
      }
     },
     "607da49de3044e698b599b6e5157c2df": {
      "model_module": "@jupyter-widgets/base",
      "model_module_version": "1.2.0",
      "model_name": "LayoutModel",
      "state": {}
     },
     "60f8aaffa87d4027adf8a67c6d128944": {
      "model_module": "@jupyter-widgets/controls",
      "model_module_version": "1.5.0",
      "model_name": "ProgressStyleModel",
      "state": {
       "description_width": ""
      }
     },
     "61f4a9085c6d49ac86ad440cfcf91822": {
      "model_module": "@jupyter-widgets/controls",
      "model_module_version": "1.5.0",
      "model_name": "DescriptionStyleModel",
      "state": {
       "description_width": ""
      }
     },
     "6220c7774025495c9613991fb52986ae": {
      "model_module": "@jupyter-widgets/controls",
      "model_module_version": "1.5.0",
      "model_name": "HTMLModel",
      "state": {
       "layout": "IPY_MODEL_c7d4d817d5124fb7b5f54106c529ccb5",
       "style": "IPY_MODEL_f0d0da94cbe347cc9a931a4bf9feffb4",
       "value": "100%"
      }
     },
     "62f1d990a49c46a39373221f0eac3617": {
      "model_module": "@jupyter-widgets/controls",
      "model_module_version": "1.5.0",
      "model_name": "HBoxModel",
      "state": {
       "children": [
        "IPY_MODEL_c301ec4257784f489dfae1ff9b1e0513",
        "IPY_MODEL_b464c493850044c99295fdde0ffed355",
        "IPY_MODEL_1bc56e0f97be4473a9edf3a8e1e2e3b6"
       ],
       "layout": "IPY_MODEL_de532196e3a34c38a979595792cc7a34"
      }
     },
     "6344e462345f460783657fd4c7be8eac": {
      "model_module": "@jupyter-widgets/base",
      "model_module_version": "1.2.0",
      "model_name": "LayoutModel",
      "state": {}
     },
     "63e4fb6917d34770af3447cefd13c207": {
      "model_module": "@jupyter-widgets/controls",
      "model_module_version": "1.5.0",
      "model_name": "HTMLModel",
      "state": {
       "layout": "IPY_MODEL_607da49de3044e698b599b6e5157c2df",
       "style": "IPY_MODEL_bfbec92c908b456684a7582f0fcf22ad",
       "value": "100%"
      }
     },
     "64069f5e687a428b843b3cf1c541f232": {
      "model_module": "@jupyter-widgets/controls",
      "model_module_version": "1.5.0",
      "model_name": "DescriptionStyleModel",
      "state": {
       "description_width": ""
      }
     },
     "64b8c3f859094306811d417838ad2b0b": {
      "model_module": "@jupyter-widgets/controls",
      "model_module_version": "1.5.0",
      "model_name": "DescriptionStyleModel",
      "state": {
       "description_width": ""
      }
     },
     "64cd52c946454a88bf5b3d2829b34bb2": {
      "model_module": "@jupyter-widgets/controls",
      "model_module_version": "1.5.0",
      "model_name": "HTMLModel",
      "state": {
       "layout": "IPY_MODEL_303be52fa89d41ebabf8f5321725463c",
       "style": "IPY_MODEL_546d7c41d7674e58b342227ab1889832",
       "value": "100%"
      }
     },
     "65414ad5f8a04c12a1455e79ab124e4b": {
      "model_module": "@jupyter-widgets/controls",
      "model_module_version": "1.5.0",
      "model_name": "ProgressStyleModel",
      "state": {
       "description_width": ""
      }
     },
     "65fd42c5c3ac4d2a81ca2b234f980f76": {
      "model_module": "@jupyter-widgets/controls",
      "model_module_version": "1.5.0",
      "model_name": "DescriptionStyleModel",
      "state": {
       "description_width": ""
      }
     },
     "67e27b135bf143e2a72812d83f508d69": {
      "model_module": "@jupyter-widgets/base",
      "model_module_version": "1.2.0",
      "model_name": "LayoutModel",
      "state": {}
     },
     "6b33be840058440984bc5e9b34fdf7fc": {
      "model_module": "@jupyter-widgets/base",
      "model_module_version": "1.2.0",
      "model_name": "LayoutModel",
      "state": {}
     },
     "6b42b30efcf64c5ead9471144320bf4b": {
      "model_module": "@jupyter-widgets/controls",
      "model_module_version": "1.5.0",
      "model_name": "DescriptionStyleModel",
      "state": {
       "description_width": ""
      }
     },
     "6b78a731d7ff44bf80c62cdf8b6dd034": {
      "model_module": "@jupyter-widgets/controls",
      "model_module_version": "1.5.0",
      "model_name": "ProgressStyleModel",
      "state": {
       "description_width": ""
      }
     },
     "6b794dbf3a4448dd9331ddfeeb58322d": {
      "model_module": "@jupyter-widgets/base",
      "model_module_version": "1.2.0",
      "model_name": "LayoutModel",
      "state": {}
     },
     "6cfcb1ef08af438ca1c948d2d5186231": {
      "model_module": "@jupyter-widgets/base",
      "model_module_version": "1.2.0",
      "model_name": "LayoutModel",
      "state": {}
     },
     "6e6c0e38a72a4d61b7b0776ed9c04fbd": {
      "model_module": "@jupyter-widgets/controls",
      "model_module_version": "1.5.0",
      "model_name": "DescriptionStyleModel",
      "state": {
       "description_width": ""
      }
     },
     "6f09880153eb4d7d9ef404a469df4b40": {
      "model_module": "@jupyter-widgets/controls",
      "model_module_version": "1.5.0",
      "model_name": "HTMLModel",
      "state": {
       "layout": "IPY_MODEL_0d55aa48e5b94ccfa786368fd2983fda",
       "style": "IPY_MODEL_9911686078634e75a199459beb1d3d02",
       "value": " 3462/3462 [1:14:12&lt;00:00,  1.00s/it]"
      }
     },
     "707dae06cfb9408b8753f424a00e58a4": {
      "model_module": "@jupyter-widgets/controls",
      "model_module_version": "1.5.0",
      "model_name": "HBoxModel",
      "state": {
       "children": [
        "IPY_MODEL_4cdf3d730ce144ac8794682aafb437a4",
        "IPY_MODEL_28eb885ab66f474ca0f502996cade258",
        "IPY_MODEL_f906f0bb21c14e8cbdee172bc5832ed7"
       ],
       "layout": "IPY_MODEL_37f43526747544b0a53480023f9929c9"
      }
     },
     "7106fe2399a24388b98577792359cef6": {
      "model_module": "@jupyter-widgets/controls",
      "model_module_version": "1.5.0",
      "model_name": "HTMLModel",
      "state": {
       "layout": "IPY_MODEL_1e5b593644db41dd947a119e91712d5c",
       "style": "IPY_MODEL_59b00640cdfe4250ab97255ba30fdeee",
       "value": "100%"
      }
     },
     "71e745ac3f4a4c56a040b2368b2bc913": {
      "model_module": "@jupyter-widgets/base",
      "model_module_version": "1.2.0",
      "model_name": "LayoutModel",
      "state": {}
     },
     "72d404971e524c4d9e3fe15c6f7be571": {
      "model_module": "@jupyter-widgets/controls",
      "model_module_version": "1.5.0",
      "model_name": "FloatProgressModel",
      "state": {
       "bar_style": "success",
       "layout": "IPY_MODEL_b874d3ca9ad045d4bab889314788de1a",
       "max": 110761,
       "style": "IPY_MODEL_6b78a731d7ff44bf80c62cdf8b6dd034",
       "value": 110761
      }
     },
     "742477f1a4b64a908e67cbcf003a1bcc": {
      "model_module": "@jupyter-widgets/controls",
      "model_module_version": "1.5.0",
      "model_name": "HTMLModel",
      "state": {
       "layout": "IPY_MODEL_775ef565f95341a69805d04953d56c93",
       "style": "IPY_MODEL_a823a6db179540beaa014b470a690c95",
       "value": " 3462/3462 [1:14:13&lt;00:00,  1.02s/it]"
      }
     },
     "749de9786e164ec088f250e7fb71f5db": {
      "model_module": "@jupyter-widgets/controls",
      "model_module_version": "1.5.0",
      "model_name": "FloatProgressModel",
      "state": {
       "bar_style": "success",
       "layout": "IPY_MODEL_d74cc1b1db954d59b870fd9c26c6bbd0",
       "max": 3462,
       "style": "IPY_MODEL_ded9a28d558540e6bfc3f2ffd7324867",
       "value": 3462
      }
     },
     "775ef565f95341a69805d04953d56c93": {
      "model_module": "@jupyter-widgets/base",
      "model_module_version": "1.2.0",
      "model_name": "LayoutModel",
      "state": {}
     },
     "781b7726ebd74befb28f373b96a0aa53": {
      "model_module": "@jupyter-widgets/base",
      "model_module_version": "1.2.0",
      "model_name": "LayoutModel",
      "state": {}
     },
     "79654957ab33475fb3398bd84b60f364": {
      "model_module": "@jupyter-widgets/controls",
      "model_module_version": "1.5.0",
      "model_name": "HTMLModel",
      "state": {
       "layout": "IPY_MODEL_e23eb63ac28147c4894709ac4a9289af",
       "style": "IPY_MODEL_8b6d306ec9874a80bf1a94e2879edb7f",
       "value": "100%"
      }
     },
     "7b4beddfb6fb4568ab7c464b269a20e1": {
      "model_module": "@jupyter-widgets/controls",
      "model_module_version": "1.5.0",
      "model_name": "FloatProgressModel",
      "state": {
       "bar_style": "success",
       "layout": "IPY_MODEL_eb0b2b1bb59f4dbd82cb3fccadfdb487",
       "max": 3462,
       "style": "IPY_MODEL_3d3e502b0289478aa065cf929899c8c5",
       "value": 3462
      }
     },
     "7ca2d80966214432a348b33ab7de3e2e": {
      "model_module": "@jupyter-widgets/controls",
      "model_module_version": "1.5.0",
      "model_name": "HBoxModel",
      "state": {
       "children": [
        "IPY_MODEL_79654957ab33475fb3398bd84b60f364",
        "IPY_MODEL_a3bed358805443bf99a317c1d01d5cd4",
        "IPY_MODEL_12468e114fd0403aa9616027f8f0dcd5"
       ],
       "layout": "IPY_MODEL_98bed97fdd56405ba2c5cbc341856ae9"
      }
     },
     "7e9cea1fa2924d19b956919ad538d2b4": {
      "model_module": "@jupyter-widgets/controls",
      "model_module_version": "1.5.0",
      "model_name": "ProgressStyleModel",
      "state": {
       "description_width": ""
      }
     },
     "8054f55158264ee9a8b792ce7c9b4f60": {
      "model_module": "@jupyter-widgets/base",
      "model_module_version": "1.2.0",
      "model_name": "LayoutModel",
      "state": {}
     },
     "805c56f2597e4e2da0dbd409f4c99adf": {
      "model_module": "@jupyter-widgets/base",
      "model_module_version": "1.2.0",
      "model_name": "LayoutModel",
      "state": {}
     },
     "818a07e345dc4b1dbe8d20be007d890c": {
      "model_module": "@jupyter-widgets/base",
      "model_module_version": "1.2.0",
      "model_name": "LayoutModel",
      "state": {}
     },
     "81ada0373e794e88a89b495c222dff23": {
      "model_module": "@jupyter-widgets/controls",
      "model_module_version": "1.5.0",
      "model_name": "FloatProgressModel",
      "state": {
       "bar_style": "success",
       "layout": "IPY_MODEL_f0be24fc833b45e195a59c1c2ac1df8a",
       "max": 10000,
       "style": "IPY_MODEL_991da9a27bda4f069d8bb00bb1bdd65b",
       "value": 10000
      }
     },
     "81ed86cee5d44c30952368b6244ccf6e": {
      "model_module": "@jupyter-widgets/controls",
      "model_module_version": "1.5.0",
      "model_name": "HBoxModel",
      "state": {
       "children": [
        "IPY_MODEL_27cac4c75a2c4315abcd4bafb219f1e4",
        "IPY_MODEL_49bfd4c8b6e5407d90361cca0198edc4",
        "IPY_MODEL_742477f1a4b64a908e67cbcf003a1bcc"
       ],
       "layout": "IPY_MODEL_2670c521852d4d5d91f7f04544c889dd"
      }
     },
     "82a1aaf04d2f4fbe850c2055416c7af8": {
      "model_module": "@jupyter-widgets/controls",
      "model_module_version": "1.5.0",
      "model_name": "HBoxModel",
      "state": {
       "children": [
        "IPY_MODEL_544d9ccc5b07415f967c02e412a0e535",
        "IPY_MODEL_0de90a45536c4a9dad809ec841816856",
        "IPY_MODEL_5701adf9437f442b962a0284c70da87e"
       ],
       "layout": "IPY_MODEL_3891897d84ca4096b3ed38be5e78a6db"
      }
     },
     "8306d63871fc419ca58e2675dc5b373f": {
      "model_module": "@jupyter-widgets/controls",
      "model_module_version": "1.5.0",
      "model_name": "HBoxModel",
      "state": {
       "children": [
        "IPY_MODEL_0eefaac8954d4676b4b0479ebfffa8b5",
        "IPY_MODEL_85797b2e55b2427f9be9681ca0ded3b8",
        "IPY_MODEL_6f09880153eb4d7d9ef404a469df4b40"
       ],
       "layout": "IPY_MODEL_eea7abedfeb34aed9d1e97bbfa904b6b"
      }
     },
     "83f31297837d49a6958da43383081107": {
      "model_module": "@jupyter-widgets/base",
      "model_module_version": "1.2.0",
      "model_name": "LayoutModel",
      "state": {}
     },
     "85797b2e55b2427f9be9681ca0ded3b8": {
      "model_module": "@jupyter-widgets/controls",
      "model_module_version": "1.5.0",
      "model_name": "FloatProgressModel",
      "state": {
       "bar_style": "success",
       "layout": "IPY_MODEL_bb3fd9180ecf45df8ccc372aa439bc8b",
       "max": 3462,
       "style": "IPY_MODEL_7e9cea1fa2924d19b956919ad538d2b4",
       "value": 3462
      }
     },
     "8656ce0a18e249f4993dc30898ceee50": {
      "model_module": "@jupyter-widgets/base",
      "model_module_version": "1.2.0",
      "model_name": "LayoutModel",
      "state": {}
     },
     "86dd09597f74422dbbd287bf51771ef0": {
      "model_module": "@jupyter-widgets/controls",
      "model_module_version": "1.5.0",
      "model_name": "DescriptionStyleModel",
      "state": {
       "description_width": ""
      }
     },
     "889e33488d9847e2bfe128e68b6b6574": {
      "model_module": "@jupyter-widgets/controls",
      "model_module_version": "1.5.0",
      "model_name": "DescriptionStyleModel",
      "state": {
       "description_width": ""
      }
     },
     "8b6d306ec9874a80bf1a94e2879edb7f": {
      "model_module": "@jupyter-widgets/controls",
      "model_module_version": "1.5.0",
      "model_name": "DescriptionStyleModel",
      "state": {
       "description_width": ""
      }
     },
     "8baec4d3b1a44d3a88b27a2a8a673826": {
      "model_module": "@jupyter-widgets/controls",
      "model_module_version": "1.5.0",
      "model_name": "HTMLModel",
      "state": {
       "layout": "IPY_MODEL_5bfaa515d89540e0812226d8046b5533",
       "style": "IPY_MODEL_ad07aae6babe48cca3493116f7868adf",
       "value": "100%"
      }
     },
     "9094a4f02fb142a28028aa029aeea180": {
      "model_module": "@jupyter-widgets/controls",
      "model_module_version": "1.5.0",
      "model_name": "FloatProgressModel",
      "state": {
       "bar_style": "success",
       "layout": "IPY_MODEL_e7b0272ce0394ac49a218b7718fedee4",
       "max": 3462,
       "style": "IPY_MODEL_b19becc153024f6ba670bd6547f71807",
       "value": 3462
      }
     },
     "9270be07a7d64abdb3b2e0b385f339f6": {
      "model_module": "@jupyter-widgets/base",
      "model_module_version": "1.2.0",
      "model_name": "LayoutModel",
      "state": {}
     },
     "92773028f1da48efb0d7827f4aeb2671": {
      "model_module": "@jupyter-widgets/base",
      "model_module_version": "1.2.0",
      "model_name": "LayoutModel",
      "state": {}
     },
     "937f52101c994f1fbb2bfc4685792b95": {
      "model_module": "@jupyter-widgets/controls",
      "model_module_version": "1.5.0",
      "model_name": "ProgressStyleModel",
      "state": {
       "description_width": ""
      }
     },
     "943f1420027c46498f5743ccfb5a1e6b": {
      "model_module": "@jupyter-widgets/base",
      "model_module_version": "1.2.0",
      "model_name": "LayoutModel",
      "state": {}
     },
     "94c1f3a0904147658bd772eb1e7ee190": {
      "model_module": "@jupyter-widgets/base",
      "model_module_version": "1.2.0",
      "model_name": "LayoutModel",
      "state": {}
     },
     "966482c147f94576afa59f21a2d77823": {
      "model_module": "@jupyter-widgets/controls",
      "model_module_version": "1.5.0",
      "model_name": "DescriptionStyleModel",
      "state": {
       "description_width": ""
      }
     },
     "98bed97fdd56405ba2c5cbc341856ae9": {
      "model_module": "@jupyter-widgets/base",
      "model_module_version": "1.2.0",
      "model_name": "LayoutModel",
      "state": {}
     },
     "9905c9a0f4ef4319ae5cff3015012b5c": {
      "model_module": "@jupyter-widgets/controls",
      "model_module_version": "1.5.0",
      "model_name": "DescriptionStyleModel",
      "state": {
       "description_width": ""
      }
     },
     "9911686078634e75a199459beb1d3d02": {
      "model_module": "@jupyter-widgets/controls",
      "model_module_version": "1.5.0",
      "model_name": "DescriptionStyleModel",
      "state": {
       "description_width": ""
      }
     },
     "991da9a27bda4f069d8bb00bb1bdd65b": {
      "model_module": "@jupyter-widgets/controls",
      "model_module_version": "1.5.0",
      "model_name": "ProgressStyleModel",
      "state": {
       "description_width": ""
      }
     },
     "9b2d8e73cd044640a6ccce11c23ef210": {
      "model_module": "@jupyter-widgets/base",
      "model_module_version": "1.2.0",
      "model_name": "LayoutModel",
      "state": {}
     },
     "9bbe749d6bbc418d84b49833df2ee2ad": {
      "model_module": "@jupyter-widgets/controls",
      "model_module_version": "1.5.0",
      "model_name": "DescriptionStyleModel",
      "state": {
       "description_width": ""
      }
     },
     "9d5e2bf9bd36480ca72a2ff8a08bc4a4": {
      "model_module": "@jupyter-widgets/base",
      "model_module_version": "1.2.0",
      "model_name": "LayoutModel",
      "state": {}
     },
     "9d60d665707841cdb410338ebf2bf3c3": {
      "model_module": "@jupyter-widgets/base",
      "model_module_version": "1.2.0",
      "model_name": "LayoutModel",
      "state": {}
     },
     "9d6ba0fc735a44d7a00baede8cccd54a": {
      "model_module": "@jupyter-widgets/controls",
      "model_module_version": "1.5.0",
      "model_name": "HBoxModel",
      "state": {
       "children": [
        "IPY_MODEL_2c4b181696034333be59eb1ee00b1b4b",
        "IPY_MODEL_749de9786e164ec088f250e7fb71f5db",
        "IPY_MODEL_e9b413a1ae78444a97c7d95507f34707"
       ],
       "layout": "IPY_MODEL_34e2ca53de224610958db0bcdee40a8f"
      }
     },
     "9e243097ad244367803afe0dafb190d3": {
      "model_module": "@jupyter-widgets/controls",
      "model_module_version": "1.5.0",
      "model_name": "DescriptionStyleModel",
      "state": {
       "description_width": ""
      }
     },
     "9f13e5b5aec4497b9fd0bfb96d31e602": {
      "model_module": "@jupyter-widgets/base",
      "model_module_version": "1.2.0",
      "model_name": "LayoutModel",
      "state": {}
     },
     "a01d54ad66344be4b6f94b6a79d5a356": {
      "model_module": "@jupyter-widgets/base",
      "model_module_version": "1.2.0",
      "model_name": "LayoutModel",
      "state": {}
     },
     "a0552f571b2942f0a66a251e473f4aae": {
      "model_module": "@jupyter-widgets/controls",
      "model_module_version": "1.5.0",
      "model_name": "HTMLModel",
      "state": {
       "layout": "IPY_MODEL_a6a0c97a42064b7c9655b0aeaaf27f88",
       "style": "IPY_MODEL_e8af807e354c48db966ed8cea5e04c4e",
       "value": "100%"
      }
     },
     "a063ed85efa64143a2fff8e022c846f8": {
      "model_module": "@jupyter-widgets/base",
      "model_module_version": "1.2.0",
      "model_name": "LayoutModel",
      "state": {}
     },
     "a3bed358805443bf99a317c1d01d5cd4": {
      "model_module": "@jupyter-widgets/controls",
      "model_module_version": "1.5.0",
      "model_name": "FloatProgressModel",
      "state": {
       "bar_style": "success",
       "layout": "IPY_MODEL_943f1420027c46498f5743ccfb5a1e6b",
       "max": 313,
       "style": "IPY_MODEL_ca656bc99cba4d198bf2e75eda3bcc94",
       "value": 313
      }
     },
     "a49b0b80aec24c70bf3b6c95a69007d0": {
      "model_module": "@jupyter-widgets/base",
      "model_module_version": "1.2.0",
      "model_name": "LayoutModel",
      "state": {}
     },
     "a553b4b5038f4b2684dcabc4662e06a1": {
      "model_module": "@jupyter-widgets/controls",
      "model_module_version": "1.5.0",
      "model_name": "HTMLModel",
      "state": {
       "layout": "IPY_MODEL_6b33be840058440984bc5e9b34fdf7fc",
       "style": "IPY_MODEL_1c95274f62e44bc2b2d17d87b5779d8a",
       "value": " 313/313 [03:18&lt;00:00,  1.84it/s]"
      }
     },
     "a6a0c97a42064b7c9655b0aeaaf27f88": {
      "model_module": "@jupyter-widgets/base",
      "model_module_version": "1.2.0",
      "model_name": "LayoutModel",
      "state": {}
     },
     "a6a5ca2cf5bb44f0806a53ea5747931c": {
      "model_module": "@jupyter-widgets/base",
      "model_module_version": "1.2.0",
      "model_name": "LayoutModel",
      "state": {}
     },
     "a6c0259e28ac423b9ec9a79f185f8b50": {
      "model_module": "@jupyter-widgets/controls",
      "model_module_version": "1.5.0",
      "model_name": "HTMLModel",
      "state": {
       "layout": "IPY_MODEL_9d5e2bf9bd36480ca72a2ff8a08bc4a4",
       "style": "IPY_MODEL_6e6c0e38a72a4d61b7b0776ed9c04fbd",
       "value": " 313/313 [03:16&lt;00:00,  1.86it/s]"
      }
     },
     "a7fac773d6d04a7590c403f8223f7efe": {
      "model_module": "@jupyter-widgets/controls",
      "model_module_version": "1.5.0",
      "model_name": "ProgressStyleModel",
      "state": {
       "description_width": ""
      }
     },
     "a823a6db179540beaa014b470a690c95": {
      "model_module": "@jupyter-widgets/controls",
      "model_module_version": "1.5.0",
      "model_name": "DescriptionStyleModel",
      "state": {
       "description_width": ""
      }
     },
     "a973cc9e76504a1ca43d84b4e8bff06c": {
      "model_module": "@jupyter-widgets/controls",
      "model_module_version": "1.5.0",
      "model_name": "ProgressStyleModel",
      "state": {
       "description_width": ""
      }
     },
     "a980ac3d5a344d6e9615518f19c22a6b": {
      "model_module": "@jupyter-widgets/controls",
      "model_module_version": "1.5.0",
      "model_name": "HTMLModel",
      "state": {
       "layout": "IPY_MODEL_059d7e6ce130469f99cfb44cc8dcdd78",
       "style": "IPY_MODEL_39387760fe91417aa288425446bf453e",
       "value": " 110761/110761 [01:23&lt;00:00, 1219.50it/s]"
      }
     },
     "ad07aae6babe48cca3493116f7868adf": {
      "model_module": "@jupyter-widgets/controls",
      "model_module_version": "1.5.0",
      "model_name": "DescriptionStyleModel",
      "state": {
       "description_width": ""
      }
     },
     "b01b7c3429044a70ac7121f01cd429b3": {
      "model_module": "@jupyter-widgets/base",
      "model_module_version": "1.2.0",
      "model_name": "LayoutModel",
      "state": {}
     },
     "b03494caa08546c5933c682a7f472782": {
      "model_module": "@jupyter-widgets/controls",
      "model_module_version": "1.5.0",
      "model_name": "DescriptionStyleModel",
      "state": {
       "description_width": ""
      }
     },
     "b09dec62349d4b9fb09c52b828fdd952": {
      "model_module": "@jupyter-widgets/controls",
      "model_module_version": "1.5.0",
      "model_name": "HBoxModel",
      "state": {
       "children": [
        "IPY_MODEL_28e6d78acc3c451189c365b01d0ab216",
        "IPY_MODEL_7b4beddfb6fb4568ab7c464b269a20e1",
        "IPY_MODEL_3a0341e23d4f4fe6af38cc4487e7d5e3"
       ],
       "layout": "IPY_MODEL_0f73b8cca70d45b289d3fed37f78a7e1"
      }
     },
     "b10e35cd194949c7927cd309418e3002": {
      "model_module": "@jupyter-widgets/controls",
      "model_module_version": "1.5.0",
      "model_name": "HBoxModel",
      "state": {
       "children": [
        "IPY_MODEL_7106fe2399a24388b98577792359cef6",
        "IPY_MODEL_c201f98e784d485aa3cb7af124929c42",
        "IPY_MODEL_2d6396a4a6634ac0af1ecae8acc5a63d"
       ],
       "layout": "IPY_MODEL_09d11d6b9abc4c39b34d6459c2446b6a"
      }
     },
     "b19becc153024f6ba670bd6547f71807": {
      "model_module": "@jupyter-widgets/controls",
      "model_module_version": "1.5.0",
      "model_name": "ProgressStyleModel",
      "state": {
       "description_width": ""
      }
     },
     "b37e3f81aba34f799493c85dd81abef4": {
      "model_module": "@jupyter-widgets/base",
      "model_module_version": "1.2.0",
      "model_name": "LayoutModel",
      "state": {}
     },
     "b3d7254d864d45ce9f10624e52b3423b": {
      "model_module": "@jupyter-widgets/controls",
      "model_module_version": "1.5.0",
      "model_name": "HTMLModel",
      "state": {
       "layout": "IPY_MODEL_cb75f90908fb4cb785b9724c013d5c63",
       "style": "IPY_MODEL_b969db988db34bdd9a97bd6274585cb7",
       "value": " 10000/10000 [00:07&lt;00:00, 1101.09it/s]"
      }
     },
     "b464c493850044c99295fdde0ffed355": {
      "model_module": "@jupyter-widgets/controls",
      "model_module_version": "1.5.0",
      "model_name": "FloatProgressModel",
      "state": {
       "bar_style": "success",
       "layout": "IPY_MODEL_b01b7c3429044a70ac7121f01cd429b3",
       "max": 110761,
       "style": "IPY_MODEL_60f8aaffa87d4027adf8a67c6d128944",
       "value": 110761
      }
     },
     "b4bab9efcc0947c3ac434e52ca26346a": {
      "model_module": "@jupyter-widgets/controls",
      "model_module_version": "1.5.0",
      "model_name": "DescriptionStyleModel",
      "state": {
       "description_width": ""
      }
     },
     "b4e89670edb14416a42d9f809807296e": {
      "model_module": "@jupyter-widgets/base",
      "model_module_version": "1.2.0",
      "model_name": "LayoutModel",
      "state": {}
     },
     "b52382fcde77402f83c653a092b15ae2": {
      "model_module": "@jupyter-widgets/base",
      "model_module_version": "1.2.0",
      "model_name": "LayoutModel",
      "state": {}
     },
     "b5a984db4472481aacd56eb0248a0e3e": {
      "model_module": "@jupyter-widgets/base",
      "model_module_version": "1.2.0",
      "model_name": "LayoutModel",
      "state": {}
     },
     "b6ef23aec953449fb392f43ead5c96ab": {
      "model_module": "@jupyter-widgets/base",
      "model_module_version": "1.2.0",
      "model_name": "LayoutModel",
      "state": {}
     },
     "b874d3ca9ad045d4bab889314788de1a": {
      "model_module": "@jupyter-widgets/base",
      "model_module_version": "1.2.0",
      "model_name": "LayoutModel",
      "state": {}
     },
     "b8f96645670b4353be92fbbd177cd1ce": {
      "model_module": "@jupyter-widgets/controls",
      "model_module_version": "1.5.0",
      "model_name": "HTMLModel",
      "state": {
       "layout": "IPY_MODEL_4a100fa8470743b3a846815b48d44958",
       "style": "IPY_MODEL_61f4a9085c6d49ac86ad440cfcf91822",
       "value": " 3462/3462 [1:14:03&lt;00:00,  1.01s/it]"
      }
     },
     "b969db988db34bdd9a97bd6274585cb7": {
      "model_module": "@jupyter-widgets/controls",
      "model_module_version": "1.5.0",
      "model_name": "DescriptionStyleModel",
      "state": {
       "description_width": ""
      }
     },
     "bb3fd9180ecf45df8ccc372aa439bc8b": {
      "model_module": "@jupyter-widgets/base",
      "model_module_version": "1.2.0",
      "model_name": "LayoutModel",
      "state": {}
     },
     "bb46ced21d174e9093a72537794ead5c": {
      "model_module": "@jupyter-widgets/controls",
      "model_module_version": "1.5.0",
      "model_name": "DescriptionStyleModel",
      "state": {
       "description_width": ""
      }
     },
     "bc7304d435b24f8382ab04bbeab1474d": {
      "model_module": "@jupyter-widgets/base",
      "model_module_version": "1.2.0",
      "model_name": "LayoutModel",
      "state": {}
     },
     "bc8d5f19ab644efd86b32a1af32a4660": {
      "model_module": "@jupyter-widgets/controls",
      "model_module_version": "1.5.0",
      "model_name": "ProgressStyleModel",
      "state": {
       "description_width": ""
      }
     },
     "be0951e39d8d4808823cfc62b16a1ee0": {
      "model_module": "@jupyter-widgets/controls",
      "model_module_version": "1.5.0",
      "model_name": "DescriptionStyleModel",
      "state": {
       "description_width": ""
      }
     },
     "bec9888543e04790afae87651dd50a16": {
      "model_module": "@jupyter-widgets/base",
      "model_module_version": "1.2.0",
      "model_name": "LayoutModel",
      "state": {}
     },
     "bf419c5ca7154cd081a6de64ad9c0522": {
      "model_module": "@jupyter-widgets/controls",
      "model_module_version": "1.5.0",
      "model_name": "DescriptionStyleModel",
      "state": {
       "description_width": ""
      }
     },
     "bfbec92c908b456684a7582f0fcf22ad": {
      "model_module": "@jupyter-widgets/controls",
      "model_module_version": "1.5.0",
      "model_name": "DescriptionStyleModel",
      "state": {
       "description_width": ""
      }
     },
     "c1e0ce6df746466a85899f8a849f5ffc": {
      "model_module": "@jupyter-widgets/controls",
      "model_module_version": "1.5.0",
      "model_name": "HTMLModel",
      "state": {
       "layout": "IPY_MODEL_272725d5e0fd41ae8cd12b6ed8584cc8",
       "style": "IPY_MODEL_fbcf187b827a4d87942dcb8664fd718b",
       "value": "100%"
      }
     },
     "c201f98e784d485aa3cb7af124929c42": {
      "model_module": "@jupyter-widgets/controls",
      "model_module_version": "1.5.0",
      "model_name": "FloatProgressModel",
      "state": {
       "bar_style": "success",
       "layout": "IPY_MODEL_29df259e8247461ca116de39dbaf9a11",
       "max": 313,
       "style": "IPY_MODEL_08c4f4854e964067abbf5c97d47485a2",
       "value": 313
      }
     },
     "c2f4fbdf1017438e8c3081fe5d910678": {
      "model_module": "@jupyter-widgets/base",
      "model_module_version": "1.2.0",
      "model_name": "LayoutModel",
      "state": {}
     },
     "c301ec4257784f489dfae1ff9b1e0513": {
      "model_module": "@jupyter-widgets/controls",
      "model_module_version": "1.5.0",
      "model_name": "HTMLModel",
      "state": {
       "layout": "IPY_MODEL_06b85350576942b3822f7f195b398de2",
       "style": "IPY_MODEL_889e33488d9847e2bfe128e68b6b6574",
       "value": "100%"
      }
     },
     "c333731c7ebf407ea24fb4909bf78533": {
      "model_module": "@jupyter-widgets/controls",
      "model_module_version": "1.5.0",
      "model_name": "HBoxModel",
      "state": {
       "children": [
        "IPY_MODEL_daf04afb2a144c23841097f45c9c5af0",
        "IPY_MODEL_81ada0373e794e88a89b495c222dff23",
        "IPY_MODEL_2ccd4126edfd475a96a515b5467e770e"
       ],
       "layout": "IPY_MODEL_4ce98d34bcfb4c8a8d946aee154c590d"
      }
     },
     "c4bbb4273b134f29b85c8ccb92063e36": {
      "model_module": "@jupyter-widgets/base",
      "model_module_version": "1.2.0",
      "model_name": "LayoutModel",
      "state": {}
     },
     "c7d4d817d5124fb7b5f54106c529ccb5": {
      "model_module": "@jupyter-widgets/base",
      "model_module_version": "1.2.0",
      "model_name": "LayoutModel",
      "state": {}
     },
     "c82987de1f89407d98063a2c6bcbf5b7": {
      "model_module": "@jupyter-widgets/controls",
      "model_module_version": "1.5.0",
      "model_name": "HBoxModel",
      "state": {
       "children": [
        "IPY_MODEL_63e4fb6917d34770af3447cefd13c207",
        "IPY_MODEL_e97d6d3d17424a0a8c615b09f9f16682",
        "IPY_MODEL_d024ad374dea40eea7c44638a078d754"
       ],
       "layout": "IPY_MODEL_e7f2b914f71c4eb3a7da384743bbc1f1"
      }
     },
     "ca656bc99cba4d198bf2e75eda3bcc94": {
      "model_module": "@jupyter-widgets/controls",
      "model_module_version": "1.5.0",
      "model_name": "ProgressStyleModel",
      "state": {
       "description_width": ""
      }
     },
     "cab4d5293ad547eca3e5d7d8289e18d6": {
      "model_module": "@jupyter-widgets/controls",
      "model_module_version": "1.5.0",
      "model_name": "HTMLModel",
      "state": {
       "layout": "IPY_MODEL_2a7368c160184b42b0f08df3068e473e",
       "style": "IPY_MODEL_2270d29fa0d04fdca84c93fcd56a4aa4",
       "value": "100%"
      }
     },
     "cb1e6e5193bb47958d9e6b42e54bf5f2": {
      "model_module": "@jupyter-widgets/base",
      "model_module_version": "1.2.0",
      "model_name": "LayoutModel",
      "state": {}
     },
     "cb75f90908fb4cb785b9724c013d5c63": {
      "model_module": "@jupyter-widgets/base",
      "model_module_version": "1.2.0",
      "model_name": "LayoutModel",
      "state": {}
     },
     "cd1ecafdca654e5091e286714040569b": {
      "model_module": "@jupyter-widgets/base",
      "model_module_version": "1.2.0",
      "model_name": "LayoutModel",
      "state": {}
     },
     "cd94b961a2474276bf27b2bc16bfdeca": {
      "model_module": "@jupyter-widgets/base",
      "model_module_version": "1.2.0",
      "model_name": "LayoutModel",
      "state": {}
     },
     "cdc9fc8b2f984d23972523be5e302fb5": {
      "model_module": "@jupyter-widgets/controls",
      "model_module_version": "1.5.0",
      "model_name": "HTMLModel",
      "state": {
       "layout": "IPY_MODEL_28e377b8a8f54e359611f73f06af1038",
       "style": "IPY_MODEL_4c46920e3199418da1b591d7d63ae46f",
       "value": "100%"
      }
     },
     "cf23f186fae142a68c9eb8b4a15c5b57": {
      "model_module": "@jupyter-widgets/base",
      "model_module_version": "1.2.0",
      "model_name": "LayoutModel",
      "state": {}
     },
     "cf82acd5d80f4f3ba5c0112e85af7063": {
      "model_module": "@jupyter-widgets/controls",
      "model_module_version": "1.5.0",
      "model_name": "HBoxModel",
      "state": {
       "children": [
        "IPY_MODEL_8baec4d3b1a44d3a88b27a2a8a673826",
        "IPY_MODEL_42e4c51ed6074a07ba94b1dc5ba00e89",
        "IPY_MODEL_b3d7254d864d45ce9f10624e52b3423b"
       ],
       "layout": "IPY_MODEL_cf23f186fae142a68c9eb8b4a15c5b57"
      }
     },
     "d024ad374dea40eea7c44638a078d754": {
      "model_module": "@jupyter-widgets/controls",
      "model_module_version": "1.5.0",
      "model_name": "HTMLModel",
      "state": {
       "layout": "IPY_MODEL_207848225dd441d4937da1ea10b1cfb5",
       "style": "IPY_MODEL_bf419c5ca7154cd081a6de64ad9c0522",
       "value": " 313/313 [03:18&lt;00:00,  1.84it/s]"
      }
     },
     "d20fe67b5df54b63a303c59edd599ac8": {
      "model_module": "@jupyter-widgets/controls",
      "model_module_version": "1.5.0",
      "model_name": "FloatProgressModel",
      "state": {
       "bar_style": "success",
       "layout": "IPY_MODEL_56d39366601248e9b28782447eb88a47",
       "max": 3462,
       "style": "IPY_MODEL_d6e1cee0da754111a38a7560e77a2696",
       "value": 3462
      }
     },
     "d2606f3add6844f395f2dba190065532": {
      "model_module": "@jupyter-widgets/controls",
      "model_module_version": "1.5.0",
      "model_name": "HTMLModel",
      "state": {
       "layout": "IPY_MODEL_d57797863ac3437780c8bbddd78e2b14",
       "style": "IPY_MODEL_335c1275a53f41f3b6af19b18faae682",
       "value": "100%"
      }
     },
     "d2e717634a26439395272e5473da01b7": {
      "model_module": "@jupyter-widgets/controls",
      "model_module_version": "1.5.0",
      "model_name": "HBoxModel",
      "state": {
       "children": [
        "IPY_MODEL_c1e0ce6df746466a85899f8a849f5ffc",
        "IPY_MODEL_f0a0f8ffa98547d9ad5f261032cd4d01",
        "IPY_MODEL_a553b4b5038f4b2684dcabc4662e06a1"
       ],
       "layout": "IPY_MODEL_4290206d5f164f61b5d39c056a0e45c9"
      }
     },
     "d53ac0e881a3464c93c0ee92983a118c": {
      "model_module": "@jupyter-widgets/controls",
      "model_module_version": "1.5.0",
      "model_name": "DescriptionStyleModel",
      "state": {
       "description_width": ""
      }
     },
     "d57797863ac3437780c8bbddd78e2b14": {
      "model_module": "@jupyter-widgets/base",
      "model_module_version": "1.2.0",
      "model_name": "LayoutModel",
      "state": {}
     },
     "d5c78c846eca4a1caeea4799d894d802": {
      "model_module": "@jupyter-widgets/base",
      "model_module_version": "1.2.0",
      "model_name": "LayoutModel",
      "state": {}
     },
     "d646042b639b4b5fbe70b4c521301f0b": {
      "model_module": "@jupyter-widgets/controls",
      "model_module_version": "1.5.0",
      "model_name": "ProgressStyleModel",
      "state": {
       "description_width": ""
      }
     },
     "d6e1cee0da754111a38a7560e77a2696": {
      "model_module": "@jupyter-widgets/controls",
      "model_module_version": "1.5.0",
      "model_name": "ProgressStyleModel",
      "state": {
       "description_width": ""
      }
     },
     "d74cc1b1db954d59b870fd9c26c6bbd0": {
      "model_module": "@jupyter-widgets/base",
      "model_module_version": "1.2.0",
      "model_name": "LayoutModel",
      "state": {}
     },
     "d7794ce0b4424fd8954fff3415908061": {
      "model_module": "@jupyter-widgets/controls",
      "model_module_version": "1.5.0",
      "model_name": "FloatProgressModel",
      "state": {
       "bar_style": "success",
       "layout": "IPY_MODEL_c4bbb4273b134f29b85c8ccb92063e36",
       "max": 3462,
       "style": "IPY_MODEL_d646042b639b4b5fbe70b4c521301f0b",
       "value": 3462
      }
     },
     "daf04afb2a144c23841097f45c9c5af0": {
      "model_module": "@jupyter-widgets/controls",
      "model_module_version": "1.5.0",
      "model_name": "HTMLModel",
      "state": {
       "layout": "IPY_MODEL_83f31297837d49a6958da43383081107",
       "style": "IPY_MODEL_b4bab9efcc0947c3ac434e52ca26346a",
       "value": "100%"
      }
     },
     "daf8dc25c3bc426ea652c832057e5f93": {
      "model_module": "@jupyter-widgets/controls",
      "model_module_version": "1.5.0",
      "model_name": "DescriptionStyleModel",
      "state": {
       "description_width": ""
      }
     },
     "dc290ac8aca34ab6bb8bb9cd6f28075c": {
      "model_module": "@jupyter-widgets/base",
      "model_module_version": "1.2.0",
      "model_name": "LayoutModel",
      "state": {}
     },
     "dc7101d68d6c4fd0a8928bc21f685443": {
      "model_module": "@jupyter-widgets/base",
      "model_module_version": "1.2.0",
      "model_name": "LayoutModel",
      "state": {}
     },
     "dcc4e3eb4adc41ec81ba811ac9d7b088": {
      "model_module": "@jupyter-widgets/controls",
      "model_module_version": "1.5.0",
      "model_name": "HTMLModel",
      "state": {
       "layout": "IPY_MODEL_b4e89670edb14416a42d9f809807296e",
       "style": "IPY_MODEL_64b8c3f859094306811d417838ad2b0b",
       "value": "100%"
      }
     },
     "ddefb957bc09464eb93cb21576f00efb": {
      "model_module": "@jupyter-widgets/controls",
      "model_module_version": "1.5.0",
      "model_name": "ProgressStyleModel",
      "state": {
       "description_width": ""
      }
     },
     "de532196e3a34c38a979595792cc7a34": {
      "model_module": "@jupyter-widgets/base",
      "model_module_version": "1.2.0",
      "model_name": "LayoutModel",
      "state": {}
     },
     "ded9a28d558540e6bfc3f2ffd7324867": {
      "model_module": "@jupyter-widgets/controls",
      "model_module_version": "1.5.0",
      "model_name": "ProgressStyleModel",
      "state": {
       "description_width": ""
      }
     },
     "df4502ee2511496094d074c5c560ac8b": {
      "model_module": "@jupyter-widgets/controls",
      "model_module_version": "1.5.0",
      "model_name": "ProgressStyleModel",
      "state": {
       "description_width": ""
      }
     },
     "e0515eb0981e492cb49ccec1c9bdddee": {
      "model_module": "@jupyter-widgets/controls",
      "model_module_version": "1.5.0",
      "model_name": "FloatProgressModel",
      "state": {
       "bar_style": "success",
       "layout": "IPY_MODEL_71e745ac3f4a4c56a040b2368b2bc913",
       "max": 3462,
       "style": "IPY_MODEL_937f52101c994f1fbb2bfc4685792b95",
       "value": 3462
      }
     },
     "e224ee5781ac46b79bc3afe3dd8468d3": {
      "model_module": "@jupyter-widgets/controls",
      "model_module_version": "1.5.0",
      "model_name": "DescriptionStyleModel",
      "state": {
       "description_width": ""
      }
     },
     "e23eb63ac28147c4894709ac4a9289af": {
      "model_module": "@jupyter-widgets/base",
      "model_module_version": "1.2.0",
      "model_name": "LayoutModel",
      "state": {}
     },
     "e38669bfbbc54a48ab5655ef69cf31b7": {
      "model_module": "@jupyter-widgets/base",
      "model_module_version": "1.2.0",
      "model_name": "LayoutModel",
      "state": {}
     },
     "e3f346be26fe4e90a8d84def53142617": {
      "model_module": "@jupyter-widgets/controls",
      "model_module_version": "1.5.0",
      "model_name": "HTMLModel",
      "state": {
       "layout": "IPY_MODEL_1f17f60ab52742e0aba85af46eb90f7f",
       "style": "IPY_MODEL_1c56ac7408504e3c8f9350c9282e9817",
       "value": "100%"
      }
     },
     "e568fe039c634cd1aafe32d5bfdfa7de": {
      "model_module": "@jupyter-widgets/controls",
      "model_module_version": "1.5.0",
      "model_name": "ProgressStyleModel",
      "state": {
       "description_width": ""
      }
     },
     "e64e188aefd848519fe6cd00fd168812": {
      "model_module": "@jupyter-widgets/controls",
      "model_module_version": "1.5.0",
      "model_name": "DescriptionStyleModel",
      "state": {
       "description_width": ""
      }
     },
     "e751566a0b754b2f88153394df6d6ad2": {
      "model_module": "@jupyter-widgets/base",
      "model_module_version": "1.2.0",
      "model_name": "LayoutModel",
      "state": {}
     },
     "e7b0272ce0394ac49a218b7718fedee4": {
      "model_module": "@jupyter-widgets/base",
      "model_module_version": "1.2.0",
      "model_name": "LayoutModel",
      "state": {}
     },
     "e7f2b914f71c4eb3a7da384743bbc1f1": {
      "model_module": "@jupyter-widgets/base",
      "model_module_version": "1.2.0",
      "model_name": "LayoutModel",
      "state": {}
     },
     "e8af807e354c48db966ed8cea5e04c4e": {
      "model_module": "@jupyter-widgets/controls",
      "model_module_version": "1.5.0",
      "model_name": "DescriptionStyleModel",
      "state": {
       "description_width": ""
      }
     },
     "e97d6d3d17424a0a8c615b09f9f16682": {
      "model_module": "@jupyter-widgets/controls",
      "model_module_version": "1.5.0",
      "model_name": "FloatProgressModel",
      "state": {
       "bar_style": "success",
       "layout": "IPY_MODEL_e38669bfbbc54a48ab5655ef69cf31b7",
       "max": 313,
       "style": "IPY_MODEL_a7fac773d6d04a7590c403f8223f7efe",
       "value": 313
      }
     },
     "e9b413a1ae78444a97c7d95507f34707": {
      "model_module": "@jupyter-widgets/controls",
      "model_module_version": "1.5.0",
      "model_name": "HTMLModel",
      "state": {
       "layout": "IPY_MODEL_9d60d665707841cdb410338ebf2bf3c3",
       "style": "IPY_MODEL_64069f5e687a428b843b3cf1c541f232",
       "value": " 3462/3462 [1:14:12&lt;00:00,  1.01s/it]"
      }
     },
     "eb0b2b1bb59f4dbd82cb3fccadfdb487": {
      "model_module": "@jupyter-widgets/base",
      "model_module_version": "1.2.0",
      "model_name": "LayoutModel",
      "state": {}
     },
     "eea7abedfeb34aed9d1e97bbfa904b6b": {
      "model_module": "@jupyter-widgets/base",
      "model_module_version": "1.2.0",
      "model_name": "LayoutModel",
      "state": {}
     },
     "f0a0f8ffa98547d9ad5f261032cd4d01": {
      "model_module": "@jupyter-widgets/controls",
      "model_module_version": "1.5.0",
      "model_name": "FloatProgressModel",
      "state": {
       "bar_style": "success",
       "layout": "IPY_MODEL_a49b0b80aec24c70bf3b6c95a69007d0",
       "max": 313,
       "style": "IPY_MODEL_0c0696b96ebd4f979f959030a56586e2",
       "value": 313
      }
     },
     "f0be24fc833b45e195a59c1c2ac1df8a": {
      "model_module": "@jupyter-widgets/base",
      "model_module_version": "1.2.0",
      "model_name": "LayoutModel",
      "state": {}
     },
     "f0d0da94cbe347cc9a931a4bf9feffb4": {
      "model_module": "@jupyter-widgets/controls",
      "model_module_version": "1.5.0",
      "model_name": "DescriptionStyleModel",
      "state": {
       "description_width": ""
      }
     },
     "f18369cd97cb434bb2851f5173ce529a": {
      "model_module": "@jupyter-widgets/controls",
      "model_module_version": "1.5.0",
      "model_name": "HBoxModel",
      "state": {
       "children": [
        "IPY_MODEL_08e6aebe09f74f99b3df20e5f3cd12a1",
        "IPY_MODEL_d20fe67b5df54b63a303c59edd599ac8",
        "IPY_MODEL_0939084528c34a99ae2036083111eb75"
       ],
       "layout": "IPY_MODEL_9b2d8e73cd044640a6ccce11c23ef210"
      }
     },
     "f209792ea45947d0b468d53fae821e9e": {
      "model_module": "@jupyter-widgets/base",
      "model_module_version": "1.2.0",
      "model_name": "LayoutModel",
      "state": {}
     },
     "f3ea98abd7f34419ab5cc1469244c3dc": {
      "model_module": "@jupyter-widgets/controls",
      "model_module_version": "1.5.0",
      "model_name": "HTMLModel",
      "state": {
       "layout": "IPY_MODEL_fc0a735b71a5463ebb8aa19f79c6d672",
       "style": "IPY_MODEL_21334d486e5e4c8a8953db18bfe74762",
       "value": " 3462/3462 [1:13:44&lt;00:00,  1.00s/it]"
      }
     },
     "f42c028e00fc49af822905ea98675bc5": {
      "model_module": "@jupyter-widgets/controls",
      "model_module_version": "1.5.0",
      "model_name": "HBoxModel",
      "state": {
       "children": [
        "IPY_MODEL_2c02fb9b677b45a7a68827b8c62dfedd",
        "IPY_MODEL_fe9cd31e4eb24b179b68e1a029a7c9b5",
        "IPY_MODEL_f3ea98abd7f34419ab5cc1469244c3dc"
       ],
       "layout": "IPY_MODEL_4dc08ef0eedf4c6d8f71d32a6bf68f06"
      }
     },
     "f906f0bb21c14e8cbdee172bc5832ed7": {
      "model_module": "@jupyter-widgets/controls",
      "model_module_version": "1.5.0",
      "model_name": "HTMLModel",
      "state": {
       "layout": "IPY_MODEL_4254565297c8456ca36901b36b986114",
       "style": "IPY_MODEL_54a122ce98124b37b326b8eb6824f180",
       "value": " 313/313 [03:18&lt;00:00,  1.87it/s]"
      }
     },
     "faf86f89f4f84c19a583a7556f420889": {
      "model_module": "@jupyter-widgets/base",
      "model_module_version": "1.2.0",
      "model_name": "LayoutModel",
      "state": {}
     },
     "fbcf187b827a4d87942dcb8664fd718b": {
      "model_module": "@jupyter-widgets/controls",
      "model_module_version": "1.5.0",
      "model_name": "DescriptionStyleModel",
      "state": {
       "description_width": ""
      }
     },
     "fc0a735b71a5463ebb8aa19f79c6d672": {
      "model_module": "@jupyter-widgets/base",
      "model_module_version": "1.2.0",
      "model_name": "LayoutModel",
      "state": {}
     },
     "fe9cd31e4eb24b179b68e1a029a7c9b5": {
      "model_module": "@jupyter-widgets/controls",
      "model_module_version": "1.5.0",
      "model_name": "FloatProgressModel",
      "state": {
       "bar_style": "success",
       "layout": "IPY_MODEL_8656ce0a18e249f4993dc30898ceee50",
       "max": 3462,
       "style": "IPY_MODEL_65414ad5f8a04c12a1455e79ab124e4b",
       "value": 3462
      }
     },
     "febcdcfe84594de8ae4e0deccfae706d": {
      "model_module": "@jupyter-widgets/controls",
      "model_module_version": "1.5.0",
      "model_name": "HBoxModel",
      "state": {
       "children": [
        "IPY_MODEL_3c57f20a694a4aabbd65da20ad1a83c0",
        "IPY_MODEL_19ca9cfce3a74297be96265767fd1a36",
        "IPY_MODEL_1e13bfd2825346b297b57b64712a779d"
       ],
       "layout": "IPY_MODEL_b52382fcde77402f83c653a092b15ae2"
      }
     }
    },
    "version_major": 2,
    "version_minor": 0
   }
  }
 },
 "nbformat": 4,
 "nbformat_minor": 4
}
