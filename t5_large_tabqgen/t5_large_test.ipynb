{
 "cells": [
  {
   "cell_type": "code",
   "execution_count": 1,
   "metadata": {},
   "outputs": [
    {
     "name": "stdout",
     "output_type": "stream",
     "text": [
      "Wed Jun 16 12:44:26 2021       \n",
      "+-----------------------------------------------------------------------------+\n",
      "| NVIDIA-SMI 450.80.02    Driver Version: 450.80.02    CUDA Version: 11.0     |\n",
      "|-------------------------------+----------------------+----------------------+\n",
      "| GPU  Name        Persistence-M| Bus-Id        Disp.A | Volatile Uncorr. ECC |\n",
      "| Fan  Temp  Perf  Pwr:Usage/Cap|         Memory-Usage | GPU-Util  Compute M. |\n",
      "|                               |                      |               MIG M. |\n",
      "|===============================+======================+======================|\n",
      "|   0  Tesla T4            On   | 00000000:00:1E.0 Off |                    0 |\n",
      "| N/A   32C    P0    32W /  70W |      0MiB / 15109MiB |      0%      Default |\n",
      "|                               |                      |                  N/A |\n",
      "+-------------------------------+----------------------+----------------------+\n",
      "                                                                               \n",
      "+-----------------------------------------------------------------------------+\n",
      "| Processes:                                                                  |\n",
      "|  GPU   GI   CI        PID   Type   Process name                  GPU Memory |\n",
      "|        ID   ID                                                   Usage      |\n",
      "|=============================================================================|\n",
      "|  No running processes found                                                 |\n",
      "+-----------------------------------------------------------------------------+\n"
     ]
    }
   ],
   "source": [
    "!nvidia-smi"
   ]
  },
  {
   "cell_type": "code",
   "execution_count": 2,
   "metadata": {
    "id": "2fk4bckXhPlV"
   },
   "outputs": [],
   "source": [
    "from transformers import T5ForConditionalGeneration, T5TokenizerFast\n",
    "import pandas as pd\n",
    "import numpy as np\n",
    "from tqdm.notebook import tqdm_notebook\n",
    "import torch\n",
    "from torch.utils.data import TensorDataset, Dataset, DataLoader\n",
    "import nltk\n",
    "from rouge import Rouge"
   ]
  },
  {
   "cell_type": "code",
   "execution_count": 3,
   "metadata": {
    "id": "lDtghkhlhXaz"
   },
   "outputs": [],
   "source": [
    "rouge = Rouge()"
   ]
  },
  {
   "cell_type": "code",
   "execution_count": 4,
   "metadata": {},
   "outputs": [],
   "source": [
    "datasets = './datasets/'"
   ]
  },
  {
   "cell_type": "code",
   "execution_count": 5,
   "metadata": {
    "id": "QlntPrvLhzoh"
   },
   "outputs": [],
   "source": [
    "model_loc = './table_qgen/'"
   ]
  },
  {
   "cell_type": "code",
   "execution_count": 6,
   "metadata": {
    "id": "H-kS8SEkhXXh"
   },
   "outputs": [],
   "source": [
    "tok = T5TokenizerFast.from_pretrained(model_loc)\n",
    "model = T5ForConditionalGeneration.from_pretrained(model_loc).cuda()"
   ]
  },
  {
   "cell_type": "code",
   "execution_count": 7,
   "metadata": {
    "id": "dC922XaKhXVT"
   },
   "outputs": [],
   "source": [
    "test = pd.read_csv(f'{datasets}/tabqgen_test.csv')\n",
    "test.drop(columns = ['Unnamed: 0'], inplace = True)"
   ]
  },
  {
   "cell_type": "code",
   "execution_count": 8,
   "metadata": {
    "id": "cHz_KEPHhXS9"
   },
   "outputs": [],
   "source": [
    "test_input_txt = test.subtable_text.values\n",
    "test_target_txt = test.questions.values"
   ]
  },
  {
   "cell_type": "code",
   "execution_count": 9,
   "metadata": {
    "id": "fep5-YKDhXQ2"
   },
   "outputs": [
    {
     "data": {
      "text/plain": [
       "('<page_title> Alma Jodorowsky </page_title> <section_title> Filmography </section_title> <table> <cell> 2016 <col_header> Year </col_header> </cell> <cell> Kids in Love <col_header> Title </col_header> </cell> <cell> Evelyn <col_header> Role </col_header> </cell> </table>',\n",
       " 'What role did Alma play in the movie Kids in Love?')"
      ]
     },
     "execution_count": 9,
     "metadata": {},
     "output_type": "execute_result"
    }
   ],
   "source": [
    "test_input_txt[1], test_target_txt[1]"
   ]
  },
  {
   "cell_type": "code",
   "execution_count": 10,
   "metadata": {
    "id": "i239ed_chXOf"
   },
   "outputs": [],
   "source": [
    "def encode_input(inp_txt):\n",
    "    enc_inp_ids = []\n",
    "    enc_inp_attn_mask = []\n",
    "\n",
    "    for in_txt in tqdm_notebook(inp_txt):\n",
    "        enc_input = tok.encode_plus(in_txt, \n",
    "                                      add_special_tokens=True,\n",
    "                                      max_length = 128,\n",
    "                                      truncation = True,\n",
    "                                      return_tensors = 'pt',\n",
    "                                      return_attention_mask=True,\n",
    "                                      return_token_type_ids=False,\n",
    "                                      padding = 'max_length')\n",
    "        enc_inp_ids.append(enc_input.input_ids)\n",
    "        enc_inp_attn_mask.append(enc_input.attention_mask)\n",
    "\n",
    "    enc_inp_ids = torch.cat(enc_inp_ids, dim = 0)\n",
    "    enc_attn_mask = torch.cat(enc_inp_attn_mask, dim = 0)\n",
    "    \n",
    "    return(enc_inp_ids, enc_attn_mask)"
   ]
  },
  {
   "cell_type": "code",
   "execution_count": 11,
   "metadata": {
    "id": "tGae3enKhXMD"
   },
   "outputs": [
    {
     "data": {
      "application/vnd.jupyter.widget-view+json": {
       "model_id": "c54d296beee74963b4f3b5a2d5261e28",
       "version_major": 2,
       "version_minor": 0
      },
      "text/plain": [
       "  0%|          | 0/7700 [00:00<?, ?it/s]"
      ]
     },
     "metadata": {},
     "output_type": "display_data"
    }
   ],
   "source": [
    "test_enc_inp_ids, test_enc_attn_mask = encode_input(test_input_txt)"
   ]
  },
  {
   "cell_type": "code",
   "execution_count": 12,
   "metadata": {
    "id": "AENPbmfwhXJW"
   },
   "outputs": [
    {
     "data": {
      "application/vnd.jupyter.widget-view+json": {
       "model_id": "df466c2c61964ba894178435dfccbd87",
       "version_major": 2,
       "version_minor": 0
      },
      "text/plain": [
       "  0%|          | 0/7700 [00:00<?, ?it/s]"
      ]
     },
     "metadata": {},
     "output_type": "display_data"
    }
   ],
   "source": [
    "outf = open(f'test_preds.txt', 'w')\n",
    "for idx in tqdm_notebook(range(len(test_enc_inp_ids))):\n",
    "    out = model.generate(input_ids=test_enc_inp_ids[idx].reshape(1,512).to('cuda'))\n",
    "    pred_q = tok.batch_decode(out.detach().cpu().numpy(), skip_special_tokens=True)[0]\n",
    "    outf.write(f'{pred_q}\\n')\n",
    "outf.close()"
   ]
  },
  {
   "cell_type": "code",
   "execution_count": null,
   "metadata": {
    "id": "byqh7PKWhXHC"
   },
   "outputs": [],
   "source": []
  }
 ],
 "metadata": {
  "colab": {
   "collapsed_sections": [],
   "name": "t5_evaluation.ipynb",
   "provenance": []
  },
  "kernelspec": {
   "display_name": "Python 3",
   "language": "python",
   "name": "python3"
  },
  "language_info": {
   "codemirror_mode": {
    "name": "ipython",
    "version": 3
   },
   "file_extension": ".py",
   "mimetype": "text/x-python",
   "name": "python",
   "nbconvert_exporter": "python",
   "pygments_lexer": "ipython3",
   "version": "3.7.9"
  },
  "widgets": {
   "application/vnd.jupyter.widget-state+json": {
    "state": {
     "11d1df64e9e54a6a9de4286de0bc9793": {
      "model_module": "@jupyter-widgets/controls",
      "model_module_version": "1.5.0",
      "model_name": "HTMLModel",
      "state": {
       "layout": "IPY_MODEL_522989d62f554ac78c1a7c206793dc87",
       "style": "IPY_MODEL_c887309aa122469c994b38b37179b77f",
       "value": " 7700/7700 [44:50&lt;00:00,  2.88it/s]"
      }
     },
     "1edca987cd11496e8dc3eb46bd1dc64f": {
      "model_module": "@jupyter-widgets/base",
      "model_module_version": "1.2.0",
      "model_name": "LayoutModel",
      "state": {}
     },
     "2b40f5bf11d8449bab1eb8697d3cbd07": {
      "model_module": "@jupyter-widgets/controls",
      "model_module_version": "1.5.0",
      "model_name": "HTMLModel",
      "state": {
       "layout": "IPY_MODEL_d8b3f2e407a14b2daa5b3c1b5453468d",
       "style": "IPY_MODEL_765033cb5b824cdea302288e9e648900",
       "value": "100%"
      }
     },
     "2f0fbb9f526a4c38b57fe8059f147ec5": {
      "model_module": "@jupyter-widgets/base",
      "model_module_version": "1.2.0",
      "model_name": "LayoutModel",
      "state": {}
     },
     "3781c0f046a641cfaea7e5bec5fe17e8": {
      "model_module": "@jupyter-widgets/controls",
      "model_module_version": "1.5.0",
      "model_name": "ProgressStyleModel",
      "state": {
       "description_width": ""
      }
     },
     "38e547d0219e493fb4a1fb5719b7d1b4": {
      "model_module": "@jupyter-widgets/controls",
      "model_module_version": "1.5.0",
      "model_name": "FloatProgressModel",
      "state": {
       "bar_style": "success",
       "layout": "IPY_MODEL_1edca987cd11496e8dc3eb46bd1dc64f",
       "max": 7700,
       "style": "IPY_MODEL_3781c0f046a641cfaea7e5bec5fe17e8",
       "value": 7700
      }
     },
     "3ce10e718d8e4d3f9effeb30fe61fbd4": {
      "model_module": "@jupyter-widgets/base",
      "model_module_version": "1.2.0",
      "model_name": "LayoutModel",
      "state": {}
     },
     "522989d62f554ac78c1a7c206793dc87": {
      "model_module": "@jupyter-widgets/base",
      "model_module_version": "1.2.0",
      "model_name": "LayoutModel",
      "state": {}
     },
     "765033cb5b824cdea302288e9e648900": {
      "model_module": "@jupyter-widgets/controls",
      "model_module_version": "1.5.0",
      "model_name": "DescriptionStyleModel",
      "state": {
       "description_width": ""
      }
     },
     "8bcb6c1797d048bb887cfc3ebeca2d68": {
      "model_module": "@jupyter-widgets/controls",
      "model_module_version": "1.5.0",
      "model_name": "FloatProgressModel",
      "state": {
       "bar_style": "success",
       "layout": "IPY_MODEL_ba1314be8e3a4eb980ad90c92e8ef2d6",
       "max": 7700,
       "style": "IPY_MODEL_d44b10b846ab4a348ac4911257fe3c6c",
       "value": 7700
      }
     },
     "a0568d2c5b1a4dd4a1a961575ee2f78d": {
      "model_module": "@jupyter-widgets/controls",
      "model_module_version": "1.5.0",
      "model_name": "HTMLModel",
      "state": {
       "layout": "IPY_MODEL_cd62727a10594e7d8d0879a9d2d72afe",
       "style": "IPY_MODEL_dd57e8344071497488b8e15b4c5924a4",
       "value": "100%"
      }
     },
     "a102752bc6134b8985070babf8756a6d": {
      "model_module": "@jupyter-widgets/controls",
      "model_module_version": "1.5.0",
      "model_name": "DescriptionStyleModel",
      "state": {
       "description_width": ""
      }
     },
     "b13fb29a9b21404a9f5a49db00ebd87d": {
      "model_module": "@jupyter-widgets/base",
      "model_module_version": "1.2.0",
      "model_name": "LayoutModel",
      "state": {}
     },
     "ba1314be8e3a4eb980ad90c92e8ef2d6": {
      "model_module": "@jupyter-widgets/base",
      "model_module_version": "1.2.0",
      "model_name": "LayoutModel",
      "state": {}
     },
     "c54d296beee74963b4f3b5a2d5261e28": {
      "model_module": "@jupyter-widgets/controls",
      "model_module_version": "1.5.0",
      "model_name": "HBoxModel",
      "state": {
       "children": [
        "IPY_MODEL_2b40f5bf11d8449bab1eb8697d3cbd07",
        "IPY_MODEL_8bcb6c1797d048bb887cfc3ebeca2d68",
        "IPY_MODEL_eb07219593db411989fcf6c038816c4d"
       ],
       "layout": "IPY_MODEL_3ce10e718d8e4d3f9effeb30fe61fbd4"
      }
     },
     "c887309aa122469c994b38b37179b77f": {
      "model_module": "@jupyter-widgets/controls",
      "model_module_version": "1.5.0",
      "model_name": "DescriptionStyleModel",
      "state": {
       "description_width": ""
      }
     },
     "cd62727a10594e7d8d0879a9d2d72afe": {
      "model_module": "@jupyter-widgets/base",
      "model_module_version": "1.2.0",
      "model_name": "LayoutModel",
      "state": {}
     },
     "d44b10b846ab4a348ac4911257fe3c6c": {
      "model_module": "@jupyter-widgets/controls",
      "model_module_version": "1.5.0",
      "model_name": "ProgressStyleModel",
      "state": {
       "description_width": ""
      }
     },
     "d8b3f2e407a14b2daa5b3c1b5453468d": {
      "model_module": "@jupyter-widgets/base",
      "model_module_version": "1.2.0",
      "model_name": "LayoutModel",
      "state": {}
     },
     "dd57e8344071497488b8e15b4c5924a4": {
      "model_module": "@jupyter-widgets/controls",
      "model_module_version": "1.5.0",
      "model_name": "DescriptionStyleModel",
      "state": {
       "description_width": ""
      }
     },
     "df466c2c61964ba894178435dfccbd87": {
      "model_module": "@jupyter-widgets/controls",
      "model_module_version": "1.5.0",
      "model_name": "HBoxModel",
      "state": {
       "children": [
        "IPY_MODEL_a0568d2c5b1a4dd4a1a961575ee2f78d",
        "IPY_MODEL_38e547d0219e493fb4a1fb5719b7d1b4",
        "IPY_MODEL_11d1df64e9e54a6a9de4286de0bc9793"
       ],
       "layout": "IPY_MODEL_b13fb29a9b21404a9f5a49db00ebd87d"
      }
     },
     "eb07219593db411989fcf6c038816c4d": {
      "model_module": "@jupyter-widgets/controls",
      "model_module_version": "1.5.0",
      "model_name": "HTMLModel",
      "state": {
       "layout": "IPY_MODEL_2f0fbb9f526a4c38b57fe8059f147ec5",
       "style": "IPY_MODEL_a102752bc6134b8985070babf8756a6d",
       "value": " 7700/7700 [00:04&lt;00:00, 1735.74it/s]"
      }
     }
    },
    "version_major": 2,
    "version_minor": 0
   }
  }
 },
 "nbformat": 4,
 "nbformat_minor": 4
}
