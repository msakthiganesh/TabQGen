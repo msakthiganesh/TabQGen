{
 "cells": [
  {
   "cell_type": "code",
   "execution_count": 1,
   "metadata": {
    "id": "OlhhBdBbgHtd"
   },
   "outputs": [],
   "source": [
    "# !pip -q install transformers sentencepiece rouge nltk==3.6.2"
   ]
  },
  {
   "cell_type": "code",
   "execution_count": 2,
   "metadata": {
    "id": "jZrQ1Ymhf6r1"
   },
   "outputs": [],
   "source": [
    "# !wget -q https://storage.googleapis.com/tabqgen/tabqgen_processed_csv.zip"
   ]
  },
  {
   "cell_type": "code",
   "execution_count": 3,
   "metadata": {
    "id": "DjUsdVsXf_mP"
   },
   "outputs": [],
   "source": [
    "# !unzip tabqgen_processed_csv.zip -d ./datasets/"
   ]
  },
  {
   "cell_type": "code",
   "execution_count": 4,
   "metadata": {},
   "outputs": [
    {
     "name": "stdout",
     "output_type": "stream",
     "text": [
      "Tue Jun 15 16:48:41 2021       \n",
      "+-----------------------------------------------------------------------------+\n",
      "| NVIDIA-SMI 450.80.02    Driver Version: 450.80.02    CUDA Version: 11.0     |\n",
      "|-------------------------------+----------------------+----------------------+\n",
      "| GPU  Name        Persistence-M| Bus-Id        Disp.A | Volatile Uncorr. ECC |\n",
      "| Fan  Temp  Perf  Pwr:Usage/Cap|         Memory-Usage | GPU-Util  Compute M. |\n",
      "|                               |                      |               MIG M. |\n",
      "|===============================+======================+======================|\n",
      "|   0  Tesla T4            On   | 00000000:00:1E.0 Off |                    0 |\n",
      "| N/A   47C    P0    34W /  70W |      0MiB / 15109MiB |     13%      Default |\n",
      "|                               |                      |                  N/A |\n",
      "+-------------------------------+----------------------+----------------------+\n",
      "                                                                               \n",
      "+-----------------------------------------------------------------------------+\n",
      "| Processes:                                                                  |\n",
      "|  GPU   GI   CI        PID   Type   Process name                  GPU Memory |\n",
      "|        ID   ID                                                   Usage      |\n",
      "|=============================================================================|\n",
      "|  No running processes found                                                 |\n",
      "+-----------------------------------------------------------------------------+\n"
     ]
    }
   ],
   "source": [
    "!nvidia-smi"
   ]
  },
  {
   "cell_type": "code",
   "execution_count": 5,
   "metadata": {},
   "outputs": [],
   "source": [
    "datasets = './datasets/'"
   ]
  },
  {
   "cell_type": "code",
   "execution_count": 6,
   "metadata": {
    "id": "wdcYQJ0bZfPK"
   },
   "outputs": [],
   "source": [
    "save_path = './'"
   ]
  },
  {
   "cell_type": "code",
   "execution_count": 7,
   "metadata": {
    "id": "whVfeVXNgh0Z"
   },
   "outputs": [],
   "source": [
    "from transformers import get_linear_schedule_with_warmup, AdamW, T5TokenizerFast, T5ForConditionalGeneration\n",
    "import pandas as pd\n",
    "import numpy as np\n",
    "from tqdm.notebook import tqdm_notebook\n",
    "import torch\n",
    "from torch.utils.data import TensorDataset, Dataset, DataLoader\n",
    "import time, datetime\n",
    "import nltk\n",
    "from rouge import Rouge\n",
    "from sklearn.model_selection import train_test_split\n",
    "%matplotlib inline\n",
    "import matplotlib.pyplot as plt"
   ]
  },
  {
   "cell_type": "code",
   "execution_count": 8,
   "metadata": {
    "colab": {
     "base_uri": "https://localhost:8080/"
    },
    "id": "RjS9U_2dXXNf",
    "outputId": "b037b0ca-fe27-4287-d1d1-8aad9c73d865"
   },
   "outputs": [],
   "source": [
    "# nltk.download('wordnet')"
   ]
  },
  {
   "cell_type": "code",
   "execution_count": 9,
   "metadata": {
    "id": "moIT2SLZW3JL"
   },
   "outputs": [],
   "source": [
    "rouge_calculator = Rouge()"
   ]
  },
  {
   "cell_type": "code",
   "execution_count": 10,
   "metadata": {
    "id": "DS8sn-EEgGMe"
   },
   "outputs": [],
   "source": [
    "tokenizer = T5TokenizerFast.from_pretrained(\"t5-large\")"
   ]
  },
  {
   "cell_type": "code",
   "execution_count": 11,
   "metadata": {
    "id": "NOMTsGzmgR7U"
   },
   "outputs": [],
   "source": [
    "model = T5ForConditionalGeneration.from_pretrained(\"t5-large\").cuda()"
   ]
  },
  {
   "cell_type": "code",
   "execution_count": 12,
   "metadata": {
    "id": "lLmhFMTLgvz2"
   },
   "outputs": [],
   "source": [
    "totto_tokens = {'additional_special_tokens': ['<page_title>', '</page_title>', \n",
    "                                           '<section_title>', '</section_title>',\n",
    "                                           '<table>', '</table>',\n",
    "                                           '<cell>', '</cell>',\n",
    "                                           '<col_header>', '</col_header>',\n",
    "                                           '<highlighted_cell>','</highlighted_cell>',\n",
    "                                           '<row>','</row>',\n",
    "                                           '<row_header>','</row_header>',]}"
   ]
  },
  {
   "cell_type": "code",
   "execution_count": 13,
   "metadata": {
    "colab": {
     "base_uri": "https://localhost:8080/"
    },
    "id": "VN6oc6AOg5zw",
    "outputId": "d87a4f99-b8f8-4600-dbe2-6e6c1ea005fc"
   },
   "outputs": [
    {
     "data": {
      "text/plain": [
       "16"
      ]
     },
     "execution_count": 13,
     "metadata": {},
     "output_type": "execute_result"
    }
   ],
   "source": [
    "tokenizer.add_special_tokens(totto_tokens)"
   ]
  },
  {
   "cell_type": "code",
   "execution_count": 14,
   "metadata": {
    "colab": {
     "base_uri": "https://localhost:8080/"
    },
    "id": "Js0kLIFFZuEV",
    "outputId": "b1de9baf-089c-46d8-abd8-078703c85c5a"
   },
   "outputs": [
    {
     "data": {
      "text/plain": [
       "Embedding(32116, 1024)"
      ]
     },
     "execution_count": 14,
     "metadata": {},
     "output_type": "execute_result"
    }
   ],
   "source": [
    "model.resize_token_embeddings(len(tokenizer))"
   ]
  },
  {
   "cell_type": "code",
   "execution_count": 15,
   "metadata": {
    "id": "_HJr1XYdhHs9"
   },
   "outputs": [],
   "source": [
    "df = pd.read_csv(f'{datasets}/tabqgen_train.csv')"
   ]
  },
  {
   "cell_type": "code",
   "execution_count": 16,
   "metadata": {
    "id": "NeQU_q9uc8K9"
   },
   "outputs": [],
   "source": [
    "train, val = train_test_split(df, test_size=0.0828, random_state=42)"
   ]
  },
  {
   "cell_type": "code",
   "execution_count": 17,
   "metadata": {
    "colab": {
     "base_uri": "https://localhost:8080/"
    },
    "id": "iuU-LGh_dekc",
    "outputId": "28d544a0-760f-4b27-b2f7-7995e31d7940"
   },
   "outputs": [
    {
     "data": {
      "text/plain": [
       "((110761, 4), (10000, 4))"
      ]
     },
     "execution_count": 17,
     "metadata": {},
     "output_type": "execute_result"
    }
   ],
   "source": [
    "train.shape, val.shape"
   ]
  },
  {
   "cell_type": "code",
   "execution_count": 18,
   "metadata": {
    "colab": {
     "base_uri": "https://localhost:8080/"
    },
    "id": "PcqLv6vahp_J",
    "outputId": "d5ec76d0-846c-4a76-cc95-8e93dba0683f"
   },
   "outputs": [
    {
     "data": {
      "text/plain": [
       "(Index(['Unnamed: 0', 'subtable_text', 'label', 'questions'], dtype='object'),\n",
       " Index(['Unnamed: 0', 'subtable_text', 'label', 'questions'], dtype='object'))"
      ]
     },
     "execution_count": 18,
     "metadata": {},
     "output_type": "execute_result"
    }
   ],
   "source": [
    "train.columns, val.columns"
   ]
  },
  {
   "cell_type": "code",
   "execution_count": 19,
   "metadata": {
    "id": "knW3xZoJhuzV"
   },
   "outputs": [
    {
     "name": "stderr",
     "output_type": "stream",
     "text": [
      "/home/ubuntu/anaconda3/envs/torch/lib/python3.7/site-packages/pandas/core/frame.py:4315: SettingWithCopyWarning: \n",
      "A value is trying to be set on a copy of a slice from a DataFrame\n",
      "\n",
      "See the caveats in the documentation: https://pandas.pydata.org/pandas-docs/stable/user_guide/indexing.html#returning-a-view-versus-a-copy\n",
      "  errors=errors,\n"
     ]
    }
   ],
   "source": [
    "train.drop(columns = ['Unnamed: 0'], inplace = True)\n",
    "val.drop(columns = ['Unnamed: 0'], inplace = True)"
   ]
  },
  {
   "cell_type": "code",
   "execution_count": 20,
   "metadata": {
    "id": "il_mDiL-hxSw"
   },
   "outputs": [],
   "source": [
    "train_input_txt = train.subtable_text.values\n",
    "train_target_txt = train.questions.values\n",
    "\n",
    "val_input_txt = val.subtable_text.values\n",
    "val_target_txt = val.questions.values"
   ]
  },
  {
   "cell_type": "code",
   "execution_count": 21,
   "metadata": {
    "id": "VQXoruxYhzYh"
   },
   "outputs": [],
   "source": [
    "def encode_input(inp_txt):\n",
    "    enc_inp_ids = []\n",
    "    enc_inp_attn_mask = []\n",
    "\n",
    "    for in_txt in tqdm_notebook(inp_txt):\n",
    "        enc_input = tokenizer.encode_plus(in_txt, \n",
    "                                      add_special_tokens=True,\n",
    "                                      max_length = 128,\n",
    "                                      truncation = True,\n",
    "                                      return_tensors = 'pt',\n",
    "                                      return_attention_mask=True,\n",
    "                                      return_token_type_ids=False,\n",
    "                                      padding = 'max_length')\n",
    "        enc_inp_ids.append(enc_input.input_ids)\n",
    "        enc_inp_attn_mask.append(enc_input.attention_mask)\n",
    "\n",
    "    enc_inp_ids = torch.cat(enc_inp_ids, dim = 0)\n",
    "    enc_attn_mask = torch.cat(enc_inp_attn_mask, dim = 0)\n",
    "    \n",
    "    return(enc_inp_ids, enc_attn_mask)"
   ]
  },
  {
   "cell_type": "code",
   "execution_count": 22,
   "metadata": {
    "id": "Z3TT74mCjMk_"
   },
   "outputs": [],
   "source": [
    "def encode_target(targ_txt):\n",
    "    enc_out_ids = []\n",
    "    enc_out_attn_mask = []\n",
    "\n",
    "    for trg_txt in tqdm_notebook(targ_txt):\n",
    "        enc_output = tokenizer.encode_plus(trg_txt, \n",
    "                                       add_special_tokens=True,\n",
    "                                       max_length=48,\n",
    "                                       return_tensors='pt',\n",
    "                                       return_attention_mask=True,\n",
    "                                       return_token_type_ids=False,\n",
    "                                       padding = 'max_length',\n",
    "                                       truncation =True)\n",
    "\n",
    "        enc_out_ids.append(enc_output.input_ids)\n",
    "        enc_out_attn_mask.append(enc_output.attention_mask)\n",
    "\n",
    "    enc_out_ids = torch.cat(enc_out_ids, dim = 0)\n",
    "    enc_out_attn_mask = torch.cat(enc_out_attn_mask, dim = 0)\n",
    "    \n",
    "    return(enc_out_ids, enc_out_attn_mask)"
   ]
  },
  {
   "cell_type": "code",
   "execution_count": 23,
   "metadata": {
    "colab": {
     "base_uri": "https://localhost:8080/",
     "height": 406,
     "referenced_widgets": [
      "dd7a1f4cfe1e46b5a3850b49d34d5d25",
      "967be6587f58450085091d3509fafb19",
      "5f2939df7b43417f9b15dff5d1b63412",
      "63af33d4a224455aa300624b1619fca3",
      "73d408cb29e94c26bd49d7fdc5aa633d",
      "6ac16fe6a0e14620bd300d4e16b3a9f1",
      "e25ffe0dfa5a498aae3a7aee7f17c916",
      "eafa41760497412b905e52029109be2e"
     ]
    },
    "id": "kDmgLQW8jTsK",
    "outputId": "1312ba58-d4c2-46b5-fb58-ea49185f0ce9"
   },
   "outputs": [
    {
     "data": {
      "application/vnd.jupyter.widget-view+json": {
       "model_id": "6e84de67177e44a689aafd72074eb2e7",
       "version_major": 2,
       "version_minor": 0
      },
      "text/plain": [
       "  0%|          | 0/110761 [00:00<?, ?it/s]"
      ]
     },
     "metadata": {},
     "output_type": "display_data"
    },
    {
     "data": {
      "application/vnd.jupyter.widget-view+json": {
       "model_id": "24f0c048ef1f4ddb8a7c387bd3c38580",
       "version_major": 2,
       "version_minor": 0
      },
      "text/plain": [
       "  0%|          | 0/110761 [00:00<?, ?it/s]"
      ]
     },
     "metadata": {},
     "output_type": "display_data"
    },
    {
     "data": {
      "application/vnd.jupyter.widget-view+json": {
       "model_id": "2562fc5681eb4d7cafb9aad0617b67b1",
       "version_major": 2,
       "version_minor": 0
      },
      "text/plain": [
       "  0%|          | 0/10000 [00:00<?, ?it/s]"
      ]
     },
     "metadata": {},
     "output_type": "display_data"
    },
    {
     "data": {
      "application/vnd.jupyter.widget-view+json": {
       "model_id": "3b50395b37df4368976289714ad18196",
       "version_major": 2,
       "version_minor": 0
      },
      "text/plain": [
       "  0%|          | 0/10000 [00:00<?, ?it/s]"
      ]
     },
     "metadata": {},
     "output_type": "display_data"
    }
   ],
   "source": [
    "enc_inp_ids, enc_attn_mask = encode_input(train_input_txt)\n",
    "dec_inp_ids, dec_attn_mask = encode_target(train_target_txt)\n",
    "\n",
    "\n",
    "train_ds = TensorDataset(enc_inp_ids, enc_attn_mask,\n",
    "                  dec_inp_ids, dec_attn_mask, dec_inp_ids)\n",
    "\n",
    "\n",
    "val_enc_inp_ids, val_enc_attn_mask = encode_input(val_input_txt)\n",
    "val_dec_inp_ids, val_dec_attn_mask = encode_target(val_target_txt)\n",
    "\n",
    "val_ds = TensorDataset(val_enc_inp_ids, val_enc_attn_mask,\n",
    "                  val_dec_inp_ids, val_dec_attn_mask, val_dec_inp_ids)"
   ]
  },
  {
   "cell_type": "code",
   "execution_count": 24,
   "metadata": {
    "id": "0LTmXMbjjiH5"
   },
   "outputs": [
    {
     "data": {
      "text/plain": [
       "'What was the highest temperature ever recorded in Humboldt?'"
      ]
     },
     "execution_count": 24,
     "metadata": {},
     "output_type": "execute_result"
    }
   ],
   "source": [
    "tokenizer.decode(dec_inp_ids[1], skip_special_tokens=True)"
   ]
  },
  {
   "cell_type": "code",
   "execution_count": 25,
   "metadata": {
    "id": "RbxPZpFRjagP"
   },
   "outputs": [
    {
     "name": "stdout",
     "output_type": "stream",
     "text": [
      "Train dataset shapes: torch.Size([110761, 120]), torch.Size([110761, 48])\n",
      "Val dataset shapes: torch.Size([10000, 120]), torch.Size([10000, 48])\n"
     ]
    }
   ],
   "source": [
    "print('Train dataset shapes: {}, {}'.format(enc_inp_ids.shape, dec_inp_ids.shape))\n",
    "print('Val dataset shapes: {}, {}'.format(val_enc_inp_ids.shape, val_dec_inp_ids.shape))"
   ]
  },
  {
   "cell_type": "code",
   "execution_count": 26,
   "metadata": {
    "id": "xLR3yCovjfo0"
   },
   "outputs": [],
   "source": [
    "BATCH_SIZE = 4\n",
    "\n",
    "train_dataloader = DataLoader(train_ds, batch_size = BATCH_SIZE)\n",
    "val_dataloader = DataLoader(val_ds, batch_size = BATCH_SIZE)"
   ]
  },
  {
   "cell_type": "code",
   "execution_count": 27,
   "metadata": {
    "id": "NNsgAfsvkI_u"
   },
   "outputs": [],
   "source": [
    "EPOCHS = 3\n",
    "\n",
    "steps = len(train_dataloader) * EPOCHS\n",
    "\n",
    "optimizer = AdamW(model.parameters(), lr = 1e-4, eps=1e-8)\n",
    "\n",
    "scheduler = get_linear_schedule_with_warmup(optimizer, \n",
    "                                           num_warmup_steps = 0,\n",
    "                                           num_training_steps=steps)"
   ]
  },
  {
   "cell_type": "code",
   "execution_count": 28,
   "metadata": {
    "id": "U4QlJNnpuQrM"
   },
   "outputs": [],
   "source": [
    "def tot_bleu(ref_list_, pred_list_):\n",
    "    ref_list = []\n",
    "    pred_list = []\n",
    "    for idx, pred in enumerate(pred_list_):\n",
    "        if not len(pred.split())<=1:\n",
    "          ref_list.append(ref_list_[idx])\n",
    "          pred_list.append(pred_list_[idx])\n",
    "    if pred_list:\n",
    "      bleu = nltk.translate.bleu_score.corpus_bleu(ref_list, pred_list)\n",
    "      return bleu\n",
    "    else:\n",
    "      return 0"
   ]
  },
  {
   "cell_type": "code",
   "execution_count": 29,
   "metadata": {
    "id": "wfMz_eI0uU7D"
   },
   "outputs": [],
   "source": [
    "def tot_nist(ref_list_, pred_list_):\n",
    "    ref_list = []\n",
    "    pred_list = []\n",
    "    for idx, pred in enumerate(pred_list_):\n",
    "        if not len(pred.split())<=1:\n",
    "          ref_list.append(ref_list_[idx])\n",
    "          pred_list.append(pred_list_[idx])\n",
    "    \n",
    "    if pred_list:\n",
    "      nist = nltk.translate.nist_score.corpus_nist(ref_list, pred_list)\n",
    "      return nist\n",
    "    else:\n",
    "      return 0"
   ]
  },
  {
   "cell_type": "code",
   "execution_count": 30,
   "metadata": {
    "id": "3FThks0EuYGN"
   },
   "outputs": [],
   "source": [
    "def tot_rouge(ref_list_, pred_list_):\n",
    "    ref_list = []\n",
    "    pred_list = []\n",
    "    for idx, pred in enumerate(pred_list_):\n",
    "        if not len(pred.split())<=1:\n",
    "          ref_list.append(ref_list_[idx])\n",
    "          pred_list.append(pred_list_[idx])\n",
    "    if pred_list:\n",
    "      rouge_score = rouge_calculator.get_scores(pred_list, ref_list, avg=True, ignore_empty=True)\n",
    "      return rouge_score['rouge-l']['f']\n",
    "    else:\n",
    "      return 0"
   ]
  },
  {
   "cell_type": "code",
   "execution_count": 31,
   "metadata": {
    "id": "KYVTTuJ3uacs"
   },
   "outputs": [],
   "source": [
    "def tot_meteor(ref_list, pred_list):\n",
    "    # print(len(pred_list))\n",
    "    meteor_list = []\n",
    "    for idx in range(len(ref_list)):\n",
    "        if len(pred_list[idx].split())<=1:\n",
    "          meteor_list.append(0)\n",
    "        else:\n",
    "          meteor_list.append(nltk.translate.meteor_score.meteor_score(ref_list[idx], pred_list[idx]))\n",
    "    return sum(meteor_list)/len(meteor_list)"
   ]
  },
  {
   "cell_type": "code",
   "execution_count": 32,
   "metadata": {
    "id": "I0wwtLGRuc8K"
   },
   "outputs": [],
   "source": [
    "def compute_metrics(logits, gold):\n",
    "    preds = tokenizer.batch_decode(np.argmax(logits,axis=-1), skip_special_tokens=True)\n",
    "    labels = tokenizer.batch_decode(gold, skip_special_tokens=True)\n",
    "    corpus_refs = [[i] for i in labels]\n",
    "    \n",
    "    bbleu = tot_bleu(corpus_refs, preds)\n",
    "    bnist = tot_nist(corpus_refs, preds)\n",
    "    brouge = tot_rouge(labels, preds)\n",
    "    bmeteor = tot_meteor(corpus_refs, preds)\n",
    "    \n",
    "    return bbleu, bnist, brouge, bmeteor"
   ]
  },
  {
   "cell_type": "code",
   "execution_count": 33,
   "metadata": {
    "id": "gJ6zpWMDugnA"
   },
   "outputs": [],
   "source": [
    "def write_to_file(epoch, avg_train_loss, avg_vall_loss, avg_bleu_score, val_avg_bleu_score, avg_nist_score, val_avg_nist_score, avg_rouge_score, val_avg_rouge_score, avg_meteor_score, val_avg_meteor_score, training_time, validation_time, logits, gold):\n",
    "    pred_str = tokenizer.batch_decode(np.argmax(logits,axis=-1), skip_special_tokens=True)\n",
    "    label_str = tokenizer.batch_decode(gold, skip_special_tokens=True)\n",
    "    with open('log.txt', 'a') as f:\n",
    "        f.write(f'Epoch: {epoch + 1}; Avg Train Loss: {avg_train_loss}; Avg Val Loss: {avg_val_loss}; \\\n",
    "                Avg Train BLEU:{avg_bleu_score}; Avg Validation BLEU:{val_avg_bleu_score}; \\\n",
    "                Avg Train NIST:{avg_nist_score}; Avg Validation NIST:{val_avg_nist_score}; \\\n",
    "                Avg Train ROUGE:{avg_rouge_score}; Avg Validation ROUGE:{val_avg_rouge_score}; \\\n",
    "                Avg Train METEOR:{avg_meteor_score}; Avg Validation METEOR:{val_avg_meteor_score}; \\\n",
    "                Training Time: {training_time}; Validation Time: {validation_time}\\n\\n')\n",
    "        for i in range(len(pred_str)):\n",
    "            f.write(f\"TARGET    >>> {label_str[i]}\\n\")\n",
    "            f.write(f\"PREDICTED >>> {pred_str[i]}\\n\\n\")\n",
    "        f.write('\\n')\n",
    "        f.write(120 * '~')\n",
    "        f.write('\\n')"
   ]
  },
  {
   "cell_type": "code",
   "execution_count": 34,
   "metadata": {
    "id": "tFlB3Y91u1ip"
   },
   "outputs": [],
   "source": [
    "def format_time(elapsed):\n",
    "    '''\n",
    "    Takes a time in seconds and returns a string hh:mm:ss\n",
    "    '''\n",
    "    # Round to the nearest second.\n",
    "    elapsed_rounded = int(round((elapsed)))\n",
    "    \n",
    "    # Format as hh:mm:ss\n",
    "    return str(datetime.timedelta(seconds=elapsed_rounded))"
   ]
  },
  {
   "cell_type": "code",
   "execution_count": 35,
   "metadata": {
    "id": "eYxMoL77u33E"
   },
   "outputs": [
    {
     "name": "stdout",
     "output_type": "stream",
     "text": [
      "-------------------- EPOCH 1 / 3 --------------------\n",
      "========== TRAINING ==========\n"
     ]
    },
    {
     "data": {
      "application/vnd.jupyter.widget-view+json": {
       "model_id": "fa2da20257ee4b218d0511ed49e27d43",
       "version_major": 2,
       "version_minor": 0
      },
      "text/plain": [
       "  0%|          | 0/27691 [00:00<?, ?it/s]"
      ]
     },
     "metadata": {},
     "output_type": "display_data"
    },
    {
     "name": "stdout",
     "output_type": "stream",
     "text": [
      "\n",
      ">>>>> Average Train Loss : 0.22476949618959052\n",
      "\n",
      ">>>>> Average Train BLEU Score : 0.7255081075201976\n",
      "\n",
      ">>>>> Average Train NIST Score : 5.957369027498815\n",
      "\n",
      ">>>>> Average Train ROUGE Score : 0.6845695384494354\n",
      "\n",
      ">>>>> Average Train METEOR Score : 0.6408862752997021\n",
      "========== VALIDATION ==========\n"
     ]
    },
    {
     "data": {
      "application/vnd.jupyter.widget-view+json": {
       "model_id": "9bafe71ce56c4755a532574cd584354d",
       "version_major": 2,
       "version_minor": 0
      },
      "text/plain": [
       "  0%|          | 0/2500 [00:00<?, ?it/s]"
      ]
     },
     "metadata": {},
     "output_type": "display_data"
    },
    {
     "name": "stdout",
     "output_type": "stream",
     "text": [
      "\n",
      ">>>>> Average Validation Loss : 0.19095256988443435\n",
      "\n",
      ">>>>> Average Validation BLEU Score : 0.7512897162186644\n",
      "\n",
      ">>>>> Average Validation NIST Score : 6.085239622291655\n",
      "\n",
      ">>>>> Average Validation ROUGE Score : 0.7167521474919398\n",
      "\n",
      ">>>>> Average Validation METEOR Score : 0.6777258044567831\n",
      "-------------------- EPOCH 2 / 3 --------------------\n",
      "========== TRAINING ==========\n"
     ]
    },
    {
     "data": {
      "application/vnd.jupyter.widget-view+json": {
       "model_id": "f9e6c52a7b35432d94e4b9155676bc24",
       "version_major": 2,
       "version_minor": 0
      },
      "text/plain": [
       "  0%|          | 0/27691 [00:00<?, ?it/s]"
      ]
     },
     "metadata": {},
     "output_type": "display_data"
    },
    {
     "name": "stdout",
     "output_type": "stream",
     "text": [
      "\n",
      ">>>>> Average Train Loss : 0.17257925038793703\n",
      "\n",
      ">>>>> Average Train BLEU Score : 0.7657919808236254\n",
      "\n",
      ">>>>> Average Train NIST Score : 6.18409879192089\n",
      "\n",
      ">>>>> Average Train ROUGE Score : 0.7312060675877139\n",
      "\n",
      ">>>>> Average Train METEOR Score : 0.6949385851145927\n",
      "========== VALIDATION ==========\n"
     ]
    },
    {
     "data": {
      "application/vnd.jupyter.widget-view+json": {
       "model_id": "d2866df6092749b99d713df2cec13f82",
       "version_major": 2,
       "version_minor": 0
      },
      "text/plain": [
       "  0%|          | 0/2500 [00:00<?, ?it/s]"
      ]
     },
     "metadata": {},
     "output_type": "display_data"
    },
    {
     "name": "stdout",
     "output_type": "stream",
     "text": [
      "\n",
      ">>>>> Average Validation Loss : 0.1903091534037143\n",
      "\n",
      ">>>>> Average Validation BLEU Score : 0.7576434850787628\n",
      "\n",
      ">>>>> Average Validation NIST Score : 6.1232177986878265\n",
      "\n",
      ">>>>> Average Validation ROUGE Score : 0.7238377133397113\n",
      "\n",
      ">>>>> Average Validation METEOR Score : 0.6870182139866311\n",
      "-------------------- EPOCH 3 / 3 --------------------\n",
      "========== TRAINING ==========\n"
     ]
    },
    {
     "data": {
      "application/vnd.jupyter.widget-view+json": {
       "model_id": "0d896e9e3ec446a190a955855d78cd81",
       "version_major": 2,
       "version_minor": 0
      },
      "text/plain": [
       "  0%|          | 0/27691 [00:00<?, ?it/s]"
      ]
     },
     "metadata": {},
     "output_type": "display_data"
    },
    {
     "name": "stdout",
     "output_type": "stream",
     "text": [
      "\n",
      ">>>>> Average Train Loss : 0.14341038795624822\n",
      "\n",
      ">>>>> Average Train BLEU Score : 0.7926355282590537\n",
      "\n",
      ">>>>> Average Train NIST Score : 6.335687079433258\n",
      "\n",
      ">>>>> Average Train ROUGE Score : 0.7621316849609842\n",
      "\n",
      ">>>>> Average Train METEOR Score : 0.7312713720290552\n",
      "========== VALIDATION ==========\n"
     ]
    },
    {
     "data": {
      "application/vnd.jupyter.widget-view+json": {
       "model_id": "3b41565ad3304a7ba8218672b5e708ed",
       "version_major": 2,
       "version_minor": 0
      },
      "text/plain": [
       "  0%|          | 0/2500 [00:00<?, ?it/s]"
      ]
     },
     "metadata": {},
     "output_type": "display_data"
    },
    {
     "name": "stdout",
     "output_type": "stream",
     "text": [
      "\n",
      ">>>>> Average Validation Loss : 0.19705507156588137\n",
      "\n",
      ">>>>> Average Validation BLEU Score : 0.758678618379797\n",
      "\n",
      ">>>>> Average Validation NIST Score : 6.12063643816003\n",
      "\n",
      ">>>>> Average Validation ROUGE Score : 0.7249895666940586\n",
      "\n",
      ">>>>> Average Validation METEOR Score : 0.6894168357670257\n"
     ]
    }
   ],
   "source": [
    "training_stats = []\n",
    "best_accuracy = 0\n",
    "best_loss = 100   # dummy value\n",
    "\n",
    "hist_loss = []\n",
    "hist_bleu_scores = []\n",
    "hist_nist_scores = []\n",
    "hist_rouge_scores = []\n",
    "hist_meteor_scores = []\n",
    "\n",
    "val_hist_loss = []\n",
    "val_hist_bleu_scores = []\n",
    "val_hist_nist_scores = []\n",
    "val_hist_rouge_scores = []\n",
    "val_hist_meteor_scores = []\n",
    "\n",
    "for epoch in range(EPOCHS):\n",
    "    \n",
    "    t0 = time.time()\n",
    "    \n",
    "    total_blue = 0\n",
    "    total_nist = 0\n",
    "    total_rouge = 0\n",
    "    total_meteor = 0\n",
    "    \n",
    "    print(20 * \"-\" + \" EPOCH {} / {} \".format(epoch+1, EPOCHS) + 20 * \"-\")\n",
    "    print(10 * \"=\" + \" TRAINING \" + 10 * \"=\")\n",
    "    \n",
    "    total_train_loss = 0\n",
    "    \n",
    "    model.train()\n",
    "    \n",
    "    for nth_batch, batch in tqdm_notebook(enumerate(train_dataloader), total = len(train_dataloader)):       \n",
    "        inp_ids = batch[0].to('cuda')\n",
    "        inp_mask = batch[1].to('cuda')\n",
    "        decoder_input_ids = batch[2].to('cuda')\n",
    "        decoder_attention_mask = batch[3].to('cuda')\n",
    "        gold = batch[4].to('cuda')\n",
    "        \n",
    "        model.zero_grad()\n",
    "        \n",
    "        train_output = model(input_ids = inp_ids, attention_mask = inp_mask, labels = gold)\n",
    "        \n",
    "        loss = train_output.loss\n",
    "        logits = train_output.logits\n",
    "        \n",
    "        total_train_loss += loss.item()\n",
    "        \n",
    "        bleu, nist, rouge, meteor = compute_metrics(logits.detach().cpu().numpy(), gold.detach().cpu().numpy())\n",
    "        \n",
    "        total_blue+=bleu\n",
    "        total_nist+=nist\n",
    "        total_rouge+=rouge\n",
    "        total_meteor+=meteor\n",
    "        \n",
    "        loss.backward()\n",
    "        \n",
    "        torch.nn.utils.clip_grad_norm_(model.parameters(), 1.0)\n",
    "        \n",
    "        optimizer.step()\n",
    "\n",
    "    avg_train_loss = total_train_loss / len(train_dataloader)\n",
    "    avg_bleu_score = total_blue / len(train_dataloader)\n",
    "    avg_nist_score = total_nist / len(train_dataloader)\n",
    "    avg_rouge_score = total_rouge / len(train_dataloader)\n",
    "    avg_meteor_score = total_meteor / len(train_dataloader)\n",
    "    \n",
    "    training_time = format_time(time.time() - t0)\n",
    "    \n",
    "    hist_loss.append(avg_train_loss)\n",
    "    hist_bleu_scores.append(avg_bleu_score)\n",
    "    hist_nist_scores.append(avg_nist_score)\n",
    "    hist_rouge_scores.append(avg_rouge_score)\n",
    "    hist_meteor_scores.append(avg_meteor_score)\n",
    "    \n",
    "    print(\"\\n>>>>> Average Train Loss : {}\".format(str(avg_train_loss)))\n",
    "    print(\"\\n>>>>> Average Train BLEU Score : {}\".format(str(avg_bleu_score)))\n",
    "    print(\"\\n>>>>> Average Train NIST Score : {}\".format(str(avg_nist_score)))\n",
    "    print(\"\\n>>>>> Average Train ROUGE Score : {}\".format(str(avg_rouge_score)))\n",
    "    print(\"\\n>>>>> Average Train METEOR Score : {}\".format(str(avg_meteor_score)))\n",
    "    \n",
    "    \n",
    "\n",
    "    print(10*\"=\" + \" VALIDATION \" + 10*\"=\")\n",
    "    total_val_loss = 0\n",
    "\n",
    "    model.eval()\n",
    "    \n",
    "    val_total_blue = 0\n",
    "    val_total_nist = 0\n",
    "    val_total_rouge = 0\n",
    "    val_total_meteor = 0\n",
    "    \n",
    "    t0 = time.time()\n",
    "\n",
    "    for nth_batch, batch in tqdm_notebook(enumerate(val_dataloader), total = len(val_dataloader)):\n",
    "        inp_ids = batch[0].to('cuda')\n",
    "        inp_mask = batch[1].to('cuda')\n",
    "        decoder_input_ids = batch[2].to('cuda')\n",
    "        decoder_attention_mask = batch[3].to('cuda')\n",
    "        gold = batch[2].to('cuda')\n",
    "\n",
    "        with torch.no_grad():\n",
    "\n",
    "            val_output = model(input_ids = inp_ids, attention_mask = inp_mask,labels = gold)\n",
    "\n",
    "            loss = val_output.loss\n",
    "            logits = val_output.logits\n",
    "\n",
    "        total_val_loss += loss.item()\n",
    "\n",
    "        bleu, nist, rouge, meteor = compute_metrics(logits.detach().cpu().numpy(), gold.detach().cpu().numpy())\n",
    "        \n",
    "        val_total_blue+=bleu\n",
    "        val_total_nist+=nist\n",
    "        val_total_rouge+=rouge\n",
    "        val_total_meteor+=meteor\n",
    "\n",
    "\n",
    "    avg_val_loss = total_val_loss / len(val_dataloader)\n",
    "    val_avg_bleu_score = val_total_blue / len(val_dataloader)\n",
    "    val_avg_nist_score = val_total_nist / len(val_dataloader)\n",
    "    val_avg_rouge_score = val_total_rouge / len(val_dataloader)\n",
    "    val_avg_meteor_score = val_total_meteor / len(val_dataloader)\n",
    "    \n",
    "    validation_time = format_time(time.time() - t0)\n",
    "\n",
    "    val_hist_loss.append(avg_val_loss)\n",
    "    val_hist_bleu_scores.append(val_avg_bleu_score)\n",
    "    val_hist_nist_scores.append(val_avg_nist_score)\n",
    "    val_hist_rouge_scores.append(val_avg_rouge_score)\n",
    "    val_hist_meteor_scores.append(val_avg_meteor_score)\n",
    "    \n",
    "    print(\"\\n>>>>> Average Validation Loss : {}\".format(str(avg_val_loss)))\n",
    "    print(\"\\n>>>>> Average Validation BLEU Score : {}\".format(str(val_avg_bleu_score)))\n",
    "    print(\"\\n>>>>> Average Validation NIST Score : {}\".format(str(val_avg_nist_score)))\n",
    "    print(\"\\n>>>>> Average Validation ROUGE Score : {}\".format(str(val_avg_rouge_score)))\n",
    "    print(\"\\n>>>>> Average Validation METEOR Score : {}\".format(str(val_avg_meteor_score)))\n",
    "    \n",
    "    write_to_file(epoch, avg_train_loss, avg_val_loss, avg_bleu_score, val_avg_bleu_score, avg_nist_score, val_avg_nist_score, avg_rouge_score, val_avg_rouge_score, avg_meteor_score, val_avg_meteor_score, training_time, validation_time, logits.detach().cpu().numpy(), gold.detach().cpu().numpy())    "
   ]
  },
  {
   "cell_type": "code",
   "execution_count": 36,
   "metadata": {
    "id": "jjRs0igzu6uk"
   },
   "outputs": [
    {
     "name": "stdout",
     "output_type": "stream",
     "text": [
      "CPU times: user 1.97 s, sys: 1.99 s, total: 3.97 s\n",
      "Wall time: 3.97 s\n"
     ]
    }
   ],
   "source": [
    "%%time\n",
    "model.save_pretrained('table_qgen')"
   ]
  },
  {
   "cell_type": "code",
   "execution_count": 37,
   "metadata": {
    "id": "UYK3aglLvFWa"
   },
   "outputs": [
    {
     "data": {
      "text/plain": [
       "('table_qgen/tokenizer_config.json',\n",
       " 'table_qgen/special_tokens_map.json',\n",
       " 'table_qgen/spiece.model',\n",
       " 'table_qgen/added_tokens.json',\n",
       " 'table_qgen/tokenizer.json')"
      ]
     },
     "execution_count": 37,
     "metadata": {},
     "output_type": "execute_result"
    }
   ],
   "source": [
    "tokenizer.save_pretrained('table_qgen')"
   ]
  },
  {
   "cell_type": "code",
   "execution_count": 38,
   "metadata": {
    "id": "NfvWLNUzvQ04"
   },
   "outputs": [
    {
     "data": {
      "text/plain": [
       "[0.22476949618959052, 0.17257925038793703, 0.14341038795624822]"
      ]
     },
     "execution_count": 38,
     "metadata": {},
     "output_type": "execute_result"
    }
   ],
   "source": [
    "hist_loss"
   ]
  },
  {
   "cell_type": "code",
   "execution_count": 39,
   "metadata": {
    "id": "iDx9RwoCvRgF"
   },
   "outputs": [
    {
     "data": {
      "text/plain": [
       "[0.19095256988443435, 0.1903091534037143, 0.19705507156588137]"
      ]
     },
     "execution_count": 39,
     "metadata": {},
     "output_type": "execute_result"
    }
   ],
   "source": [
    "val_hist_loss"
   ]
  },
  {
   "cell_type": "code",
   "execution_count": 40,
   "metadata": {
    "id": "Jjw_gBt4vTjD"
   },
   "outputs": [
    {
     "data": {
      "text/plain": [
       "[0.7255081075201976, 0.7657919808236254, 0.7926355282590537]"
      ]
     },
     "execution_count": 40,
     "metadata": {},
     "output_type": "execute_result"
    }
   ],
   "source": [
    "hist_bleu_scores"
   ]
  },
  {
   "cell_type": "code",
   "execution_count": 41,
   "metadata": {
    "id": "OpEF7W88vWKv"
   },
   "outputs": [
    {
     "data": {
      "text/plain": [
       "[0.7512897162186644, 0.7576434850787628, 0.758678618379797]"
      ]
     },
     "execution_count": 41,
     "metadata": {},
     "output_type": "execute_result"
    }
   ],
   "source": [
    "val_hist_bleu_scores"
   ]
  },
  {
   "cell_type": "code",
   "execution_count": 42,
   "metadata": {
    "id": "ETZP_9tRvY-8"
   },
   "outputs": [
    {
     "data": {
      "text/plain": [
       "[5.957369027498815, 6.18409879192089, 6.335687079433258]"
      ]
     },
     "execution_count": 42,
     "metadata": {},
     "output_type": "execute_result"
    }
   ],
   "source": [
    "hist_nist_scores"
   ]
  },
  {
   "cell_type": "code",
   "execution_count": 43,
   "metadata": {
    "id": "qyNBTMjQvbe-"
   },
   "outputs": [
    {
     "data": {
      "text/plain": [
       "[6.085239622291655, 6.1232177986878265, 6.12063643816003]"
      ]
     },
     "execution_count": 43,
     "metadata": {},
     "output_type": "execute_result"
    }
   ],
   "source": [
    "val_hist_nist_scores"
   ]
  },
  {
   "cell_type": "code",
   "execution_count": 44,
   "metadata": {
    "id": "IxfZzoT6vbZJ"
   },
   "outputs": [
    {
     "data": {
      "text/plain": [
       "[0.6845695384494354, 0.7312060675877139, 0.7621316849609842]"
      ]
     },
     "execution_count": 44,
     "metadata": {},
     "output_type": "execute_result"
    }
   ],
   "source": [
    "hist_rouge_scores"
   ]
  },
  {
   "cell_type": "code",
   "execution_count": 45,
   "metadata": {
    "id": "ZisbL2d8vbRx"
   },
   "outputs": [
    {
     "data": {
      "text/plain": [
       "[0.7167521474919398, 0.7238377133397113, 0.7249895666940586]"
      ]
     },
     "execution_count": 45,
     "metadata": {},
     "output_type": "execute_result"
    }
   ],
   "source": [
    "val_hist_rouge_scores"
   ]
  },
  {
   "cell_type": "code",
   "execution_count": 46,
   "metadata": {
    "id": "3u54D-TgvfNW"
   },
   "outputs": [
    {
     "data": {
      "text/plain": [
       "[0.6408862752997021, 0.6949385851145927, 0.7312713720290552]"
      ]
     },
     "execution_count": 46,
     "metadata": {},
     "output_type": "execute_result"
    }
   ],
   "source": [
    "hist_meteor_scores"
   ]
  },
  {
   "cell_type": "code",
   "execution_count": 47,
   "metadata": {
    "id": "_FJHZBrzvjJL"
   },
   "outputs": [
    {
     "data": {
      "text/plain": [
       "[0.6777258044567831, 0.6870182139866311, 0.6894168357670257]"
      ]
     },
     "execution_count": 47,
     "metadata": {},
     "output_type": "execute_result"
    }
   ],
   "source": [
    "val_hist_meteor_scores"
   ]
  },
  {
   "cell_type": "code",
   "execution_count": 48,
   "metadata": {},
   "outputs": [],
   "source": [
    "def plot_graphs(train_scores, val_scores, name):\n",
    "  plt.plot(train_scores)\n",
    "  plt.plot(val_scores)\n",
    "  plt.xlabel(\"Epochs\")\n",
    "  plt.ylabel(name)\n",
    "  plt.legend(['train_'+name, 'val_'+name])\n",
    "  plt.show()"
   ]
  },
  {
   "cell_type": "code",
   "execution_count": 49,
   "metadata": {},
   "outputs": [
    {
     "data": {
      "image/png": "[encoded data removed]",
      "text/plain": [
       "<Figure size 432x288 with 1 Axes>"
      ]
     },
     "metadata": {
      "needs_background": "light"
     },
     "output_type": "display_data"
    }
   ],
   "source": [
    "plot_graphs(hist_loss, val_hist_loss, 'loss')"
   ]
  },
  {
   "cell_type": "code",
   "execution_count": 50,
   "metadata": {},
   "outputs": [
    {
     "data": {
      "image/png": "[encoded data removed]",
      "text/plain": [
       "<Figure size 432x288 with 1 Axes>"
      ]
     },
     "metadata": {
      "needs_background": "light"
     },
     "output_type": "display_data"
    }
   ],
   "source": [
    "plot_graphs(hist_bleu_scores, val_hist_bleu_scores, 'bleu_score')"
   ]
  },
  {
   "cell_type": "code",
   "execution_count": 51,
   "metadata": {},
   "outputs": [
    {
     "data": {
      "image/png": "[encoded data removed]",
      "text/plain": [
       "<Figure size 432x288 with 1 Axes>"
      ]
     },
     "metadata": {
      "needs_background": "light"
     },
     "output_type": "display_data"
    }
   ],
   "source": [
    "plot_graphs(hist_nist_scores, val_hist_nist_scores, 'nist_score')"
   ]
  },
  {
   "cell_type": "code",
   "execution_count": 52,
   "metadata": {},
   "outputs": [
    {
     "data": {
      "image/png": "[encoded data removed]",
      "text/plain": [
       "<Figure size 432x288 with 1 Axes>"
      ]
     },
     "metadata": {
      "needs_background": "light"
     },
     "output_type": "display_data"
    }
   ],
   "source": [
    "plot_graphs(hist_rouge_scores, val_hist_rouge_scores, 'rouge_score')"
   ]
  },
  {
   "cell_type": "code",
   "execution_count": 53,
   "metadata": {},
   "outputs": [
    {
     "data": {
      "image/png": "[encoded data removed]",
      "text/plain": [
       "<Figure size 432x288 with 1 Axes>"
      ]
     },
     "metadata": {
      "needs_background": "light"
     },
     "output_type": "display_data"
    }
   ],
   "source": [
    "plot_graphs(hist_meteor_scores, val_hist_meteor_scores, 'meteor_score')"
   ]
  },
  {
   "cell_type": "code",
   "execution_count": null,
   "metadata": {},
   "outputs": [],
   "source": []
  },
  {
   "cell_type": "code",
   "execution_count": null,
   "metadata": {},
   "outputs": [],
   "source": []
  }
 ],
 "metadata": {
  "accelerator": "GPU",
  "colab": {
   "collapsed_sections": [],
   "name": "t5_small_tabqgen.ipynb",
   "provenance": []
  },
  "kernelspec": {
   "display_name": "Python 3",
   "language": "python",
   "name": "python3"
  },
  "language_info": {
   "codemirror_mode": {
    "name": "ipython",
    "version": 3
   },
   "file_extension": ".py",
   "mimetype": "text/x-python",
   "name": "python",
   "nbconvert_exporter": "python",
   "pygments_lexer": "ipython3",
   "version": "3.7.9"
  },
  "widgets": {
   "application/vnd.jupyter.widget-state+json": {
    "state": {},
    "version_major": 2,
    "version_minor": 0
   }
  }
 },
 "nbformat": 4,
 "nbformat_minor": 4
}
