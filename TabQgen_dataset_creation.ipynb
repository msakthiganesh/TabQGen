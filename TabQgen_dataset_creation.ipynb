{
 "cells": [
  {
   "cell_type": "code",
   "execution_count": null,
   "metadata": {
    "ExecuteTime": {
     "end_time": "2021-05-07T11:46:25.229365Z",
     "start_time": "2021-05-07T11:46:20.786342Z"
    },
    "id": "6b775cf4"
   },
   "outputs": [],
   "source": [
    "from transformers import T5Model, T5ForConditionalGeneration, T5Tokenizer, get_linear_schedule_with_warmup, AdamW\n",
    "import pandas as pd\n",
    "import numpy as np\n",
    "from tqdm.notebook import tqdm_notebook\n",
    "import jsonlines"
   ]
  },
  {
   "cell_type": "code",
   "execution_count": null,
   "metadata": {
    "ExecuteTime": {
     "end_time": "2021-05-04T06:19:42.402299Z",
     "start_time": "2021-05-04T06:19:42.397727Z"
    },
    "id": "d9c982d2"
   },
   "outputs": [],
   "source": [
    "# %%time\n",
    "# !python -m language.totto.baseline_preprocessing.preprocess_data_main --input_path=\"./datasets/totto_data/totto_train_data.jsonl\" --output_path=\"./datasets/processed_train.jsonl\""
   ]
  },
  {
   "cell_type": "code",
   "execution_count": null,
   "metadata": {
    "id": "997e8d57"
   },
   "outputs": [],
   "source": [
    "# %%time\n",
    "# !python -m language.totto.baseline_preprocessing.preprocess_data_main --input_path=\"./datasets/totto_data/totto_dev_data.jsonl\" --output_path=\"./datasets/processed_dev.jsonl\""
   ]
  },
  {
   "cell_type": "code",
   "execution_count": null,
   "metadata": {
    "ExecuteTime": {
     "end_time": "2021-05-07T09:34:29.651270Z",
     "start_time": "2021-05-07T09:34:29.647361Z"
    },
    "id": "0012dd44",
    "scrolled": true
   },
   "outputs": [],
   "source": [
    "# %%time\n",
    "# !python -m language.totto.baseline_preprocessing.preprocess_data_main --input_path=\"./datasets/totto_data/unlabeled_totto_test_data.jsonl\" --output_path=\"./datasets/processed_test.jsonl\""
   ]
  },
  {
   "cell_type": "code",
   "execution_count": null,
   "metadata": {
    "ExecuteTime": {
     "end_time": "2021-05-07T11:46:59.526543Z",
     "start_time": "2021-05-07T11:46:37.159872Z"
    },
    "id": "89b72f29"
   },
   "outputs": [],
   "source": [
    "t5_tokenizer = T5Tokenizer.from_pretrained('text_qgen/')\n",
    "multi_qgen_model = T5ForConditionalGeneration.from_pretrained('text_qgen/')"
   ]
  },
  {
   "cell_type": "code",
   "execution_count": null,
   "metadata": {
    "ExecuteTime": {
     "end_time": "2021-05-07T11:47:20.079343Z",
     "start_time": "2021-05-07T11:47:15.264569Z"
    },
    "id": "6b64d8e0"
   },
   "outputs": [],
   "source": [
    "%%capture\n",
    "multi_qgen_model.to('cuda')"
   ]
  },
  {
   "cell_type": "code",
   "execution_count": null,
   "metadata": {
    "ExecuteTime": {
     "end_time": "2021-05-07T11:47:33.188050Z",
     "start_time": "2021-05-07T11:47:33.181574Z"
    },
    "id": "60cb8f73"
   },
   "outputs": [],
   "source": [
    "def encode_(text_to_encode:str):\n",
    "    return t5_tokenizer(text_to_encode, return_tensors='pt').input_ids"
   ]
  },
  {
   "cell_type": "code",
   "execution_count": null,
   "metadata": {
    "id": "j8JSDQdP-dcL"
   },
   "outputs": [],
   "source": [
    "cols = ['subtable_text', 'label']\n",
    "train_data = []\n",
    "test_data = []"
   ]
  },
  {
   "cell_type": "code",
   "execution_count": null,
   "metadata": {
    "ExecuteTime": {
     "end_time": "2021-05-08T07:52:15.486802Z",
     "start_time": "2021-05-07T11:49:14.309712Z"
    },
    "id": "7fa6370a",
    "scrolled": true
   },
   "outputs": [],
   "source": [
    "ct = 0\n",
    "with jsonlines.open('./datasets/processed_train.jsonl') as inpf, jsonlines.open('./datasets/TabQGen_train.jsonl', 'w') as outf:\n",
    "    for obj in tqdm_notebook(inpf, total=120761):\n",
    "        ct+=1\n",
    "        wr_obj = {}\n",
    "        wr_obj['table'] = obj['table']\n",
    "        wr_obj['table_webpage_url'] = obj['table_webpage_url']\n",
    "        wr_obj['table_page_title'] = obj['table_page_title']\n",
    "        wr_obj['table_section_title'] = obj['table_section_title']\n",
    "        wr_obj['table_section_text'] = obj['table_section_text']\n",
    "        wr_obj['highlighted_cells'] = obj['highlighted_cells']\n",
    "        wr_obj['example_id'] = obj['example_id']\n",
    "        wr_obj['sentence_annotations'] = []\n",
    "        subtable_txt = obj['subtable_str']\n",
    "\n",
    "        for s in obj['sentence_annotations']:\n",
    "            ann_obj = s.copy()\n",
    "            inp_txt = f\"qgen answer: {s['final_sentence']} context: {s['final_sentence']}\"\n",
    "            q = t5_tokenizer.batch_decode(multi_qgen_model.generate(encode_(inp_txt).to('cuda'), num_beams=4, max_length=512),\n",
    "                                                            skip_special_tokens=True)[0]\n",
    "            train_data.append([subtable_txt, q])\n",
    "            ann_obj['question'] = q\n",
    "            wr_obj['sentence_annotations'].append(ann_obj)\n",
    "        outf.write(wr_obj)  \n",
    "        if ct%100 == 0:\n",
    "            print(f'processed {ct} samples')"
   ]
  },
  {
   "cell_type": "code",
   "execution_count": null,
   "metadata": {
    "id": "jQsS6Tb4-Lhq"
   },
   "outputs": [],
   "source": [
    "train_tabqgen = pd.DataFrame(data=train_data, columns=cols)\n",
    "train_tabqgen.to_csv('./datasets/tabqgen_train.csv')"
   ]
  },
  {
   "cell_type": "code",
   "execution_count": null,
   "metadata": {
    "ExecuteTime": {
     "end_time": "2021-05-07T09:11:14.661905Z",
     "start_time": "2021-05-07T09:11:14.655970Z"
    },
    "id": "10344040"
   },
   "outputs": [],
   "source": [
    "ct = 0\n",
    "with jsonlines.open('./datasets/processed_dev.jsonl') as inpf, jsonlines.open('./datasets/TabQGen_test.jsonl', 'w') as outf:\n",
    "    for obj in tqdm_notebook(inpf, total=7700):\n",
    "        ct+=1\n",
    "        wr_obj = {}\n",
    "        wr_obj['table'] = obj['table']\n",
    "        wr_obj['table_webpage_url'] = obj['table_webpage_url']\n",
    "        wr_obj['table_page_title'] = obj['table_page_title']\n",
    "        wr_obj['table_section_title'] = obj['table_section_title']\n",
    "        wr_obj['table_section_text'] = obj['table_section_text']\n",
    "        wr_obj['highlighted_cells'] = obj['highlighted_cells']\n",
    "        wr_obj['example_id'] = obj['example_id']\n",
    "        wr_obj['overlap_subset'] = obj['overlap_subset']\n",
    "        wr_obj['sentence_annotations'] = []\n",
    "        subtable_txt = obj['subtable_str']\n",
    "\n",
    "        for s in obj['sentence_annotations']:\n",
    "            ann_obj = s.copy()\n",
    "            inp_txt = f\"qgen answer: {s['final_sentence']} context: {s['final_sentence']}\"\n",
    "            q = t5_tokenizer.batch_decode(multi_qgen_model.generate(encode_(inp_txt).to('cuda'), num_beams=4, max_length=512),\n",
    "                                                            skip_special_tokens=True)[0]\n",
    "            test_data.append([subtable_txt, q])\n",
    "            ann_obj['question'] = q\n",
    "            wr_obj['sentence_annotations'].append(ann_obj)\n",
    "        outf.write(wr_obj)  \n",
    "        if ct%100 == 0:\n",
    "            print(f'processed {ct} samples')"
   ]
  },
  {
   "cell_type": "code",
   "execution_count": null,
   "metadata": {
    "id": "948f88c8"
   },
   "outputs": [],
   "source": [
    "test_tabqgen = pd.DataFrame(data=test_data, columns=cols)\n",
    "test_tabqgen.to_csv('./datasets/tabqgen_test.csv')"
   ]
  },
  {
   "cell_type": "code",
   "execution_count": null,
   "metadata": {
    "id": "PfsEFLIsR9rO"
   },
   "outputs": [],
   "source": []
  },
  {
   "cell_type": "code",
   "execution_count": null,
   "metadata": {
    "id": "5NWYqS2TR9og"
   },
   "outputs": [],
   "source": []
  }
 ],
 "metadata": {
  "colab": {
   "collapsed_sections": [],
   "name": "TabQgen_dataset_creation.ipynb",
   "provenance": []
  },
  "kernelspec": {
   "display_name": "Python 3",
   "language": "python",
   "name": "python3"
  },
  "language_info": {
   "codemirror_mode": {
    "name": "ipython",
    "version": 3
   },
   "file_extension": ".py",
   "mimetype": "text/x-python",
   "name": "python",
   "nbconvert_exporter": "python",
   "pygments_lexer": "ipython3",
   "version": "3.7.9"
  },
  "varInspector": {
   "cols": {
    "lenName": 16,
    "lenType": 16,
    "lenVar": 40
   },
   "kernels_config": {
    "python": {
     "delete_cmd_postfix": "",
     "delete_cmd_prefix": "del ",
     "library": "var_list.py",
     "varRefreshCmd": "print(var_dic_list())"
    },
    "r": {
     "delete_cmd_postfix": ") ",
     "delete_cmd_prefix": "rm(",
     "library": "var_list.r",
     "varRefreshCmd": "cat(var_dic_list()) "
    }
   },
   "types_to_exclude": [
    "module",
    "function",
    "builtin_function_or_method",
    "instance",
    "_Feature"
   ],
   "window_display": false
  }
 },
 "nbformat": 4,
 "nbformat_minor": 5
}
