{
 "cells": [
  {
   "cell_type": "code",
   "execution_count": 2,
   "metadata": {},
   "outputs": [
    {
     "name": "stdout",
     "output_type": "stream",
     "text": [
      "Mon Jun 14 14:12:25 2021       \n",
      "+-----------------------------------------------------------------------------+\n",
      "| NVIDIA-SMI 450.80.02    Driver Version: 450.80.02    CUDA Version: 11.0     |\n",
      "|-------------------------------+----------------------+----------------------+\n",
      "| GPU  Name        Persistence-M| Bus-Id        Disp.A | Volatile Uncorr. ECC |\n",
      "| Fan  Temp  Perf  Pwr:Usage/Cap|         Memory-Usage | GPU-Util  Compute M. |\n",
      "|                               |                      |               MIG M. |\n",
      "|===============================+======================+======================|\n",
      "|   0  Tesla T4            On   | 00000000:00:1E.0 Off |                    0 |\n",
      "| N/A   31C    P8     9W /  70W |      0MiB / 15109MiB |      0%      Default |\n",
      "|                               |                      |                  N/A |\n",
      "+-------------------------------+----------------------+----------------------+\n",
      "                                                                               \n",
      "+-----------------------------------------------------------------------------+\n",
      "| Processes:                                                                  |\n",
      "|  GPU   GI   CI        PID   Type   Process name                  GPU Memory |\n",
      "|        ID   ID                                                   Usage      |\n",
      "|=============================================================================|\n",
      "|  No running processes found                                                 |\n",
      "+-----------------------------------------------------------------------------+\n"
     ]
    }
   ],
   "source": [
    "!nvidia-smi"
   ]
  },
  {
   "cell_type": "code",
   "execution_count": 4,
   "metadata": {
    "id": "2fk4bckXhPlV"
   },
   "outputs": [],
   "source": [
    "from transformers import T5ForConditionalGeneration, T5TokenizerFast\n",
    "import pandas as pd\n",
    "import numpy as np\n",
    "from tqdm.notebook import tqdm_notebook\n",
    "import torch\n",
    "from torch.utils.data import TensorDataset, Dataset, DataLoader\n",
    "import nltk\n",
    "from rouge import Rouge"
   ]
  },
  {
   "cell_type": "code",
   "execution_count": 5,
   "metadata": {
    "id": "lDtghkhlhXaz"
   },
   "outputs": [],
   "source": [
    "rouge = Rouge()"
   ]
  },
  {
   "cell_type": "code",
   "execution_count": 6,
   "metadata": {},
   "outputs": [],
   "source": [
    "datasets = './datasets/'"
   ]
  },
  {
   "cell_type": "code",
   "execution_count": 7,
   "metadata": {
    "id": "QlntPrvLhzoh"
   },
   "outputs": [],
   "source": [
    "model_loc = './table_qgen/'"
   ]
  },
  {
   "cell_type": "code",
   "execution_count": 9,
   "metadata": {
    "id": "H-kS8SEkhXXh"
   },
   "outputs": [],
   "source": [
    "tok = T5TokenizerFast.from_pretrained(model_loc)\n",
    "model = T5ForConditionalGeneration.from_pretrained(model_loc).cuda()"
   ]
  },
  {
   "cell_type": "code",
   "execution_count": 10,
   "metadata": {
    "id": "dC922XaKhXVT"
   },
   "outputs": [],
   "source": [
    "test = pd.read_csv(f'{datasets}/tabqgen_test.csv')\n",
    "test.drop(columns = ['Unnamed: 0'], inplace = True)"
   ]
  },
  {
   "cell_type": "code",
   "execution_count": 11,
   "metadata": {
    "id": "cHz_KEPHhXS9"
   },
   "outputs": [],
   "source": [
    "test_input_txt = test.subtable_text.values\n",
    "test_target_txt = test.questions.values"
   ]
  },
  {
   "cell_type": "code",
   "execution_count": 12,
   "metadata": {
    "id": "fep5-YKDhXQ2"
   },
   "outputs": [
    {
     "data": {
      "text/plain": [
       "('<page_title> Alma Jodorowsky </page_title> <section_title> Filmography </section_title> <table> <cell> 2016 <col_header> Year </col_header> </cell> <cell> Kids in Love <col_header> Title </col_header> </cell> <cell> Evelyn <col_header> Role </col_header> </cell> </table>',\n",
       " 'What role did Alma play in the movie Kids in Love?')"
      ]
     },
     "execution_count": 12,
     "metadata": {},
     "output_type": "execute_result"
    }
   ],
   "source": [
    "test_input_txt[1], test_target_txt[1]"
   ]
  },
  {
   "cell_type": "code",
   "execution_count": 13,
   "metadata": {
    "id": "i239ed_chXOf"
   },
   "outputs": [],
   "source": [
    "def encode_input(inp_txt):\n",
    "    enc_inp_ids = []\n",
    "    enc_inp_attn_mask = []\n",
    "\n",
    "    for in_txt in tqdm_notebook(inp_txt):\n",
    "        enc_input = tok.encode_plus(in_txt, \n",
    "                                      add_special_tokens=True,\n",
    "                                      max_length = 512,\n",
    "                                      truncation = True,\n",
    "                                      return_tensors = 'pt',\n",
    "                                      return_attention_mask=True,\n",
    "                                      return_token_type_ids=False,\n",
    "                                      padding = 'max_length')\n",
    "        enc_inp_ids.append(enc_input.input_ids)\n",
    "        enc_inp_attn_mask.append(enc_input.attention_mask)\n",
    "\n",
    "    enc_inp_ids = torch.cat(enc_inp_ids, dim = 0)\n",
    "    enc_attn_mask = torch.cat(enc_inp_attn_mask, dim = 0)\n",
    "    \n",
    "    return(enc_inp_ids, enc_attn_mask)"
   ]
  },
  {
   "cell_type": "code",
   "execution_count": 14,
   "metadata": {
    "id": "tGae3enKhXMD"
   },
   "outputs": [
    {
     "data": {
      "application/vnd.jupyter.widget-view+json": {
       "model_id": "a0b99789f4554151b7f5173bf1796771",
       "version_major": 2,
       "version_minor": 0
      },
      "text/plain": [
       "  0%|          | 0/7700 [00:00<?, ?it/s]"
      ]
     },
     "metadata": {},
     "output_type": "display_data"
    }
   ],
   "source": [
    "test_enc_inp_ids, test_enc_attn_mask = encode_input(test_input_txt)"
   ]
  },
  {
   "cell_type": "code",
   "execution_count": 15,
   "metadata": {
    "id": "AENPbmfwhXJW"
   },
   "outputs": [
    {
     "data": {
      "application/vnd.jupyter.widget-view+json": {
       "model_id": "9c5323b0d6724e4391aa161b4593d329",
       "version_major": 2,
       "version_minor": 0
      },
      "text/plain": [
       "  0%|          | 0/7700 [00:00<?, ?it/s]"
      ]
     },
     "metadata": {},
     "output_type": "display_data"
    }
   ],
   "source": [
    "outf = open(f'test_preds.txt', 'w')\n",
    "for idx in tqdm_notebook(range(len(test_enc_inp_ids))):\n",
    "    out = model.generate(input_ids=test_enc_inp_ids[idx].reshape(1,512).to('cuda'))\n",
    "    pred_q = tok.batch_decode(out.detach().cpu().numpy(), skip_special_tokens=True)[0]\n",
    "    outf.write(f'{pred_q}\\n')\n",
    "outf.close()"
   ]
  },
  {
   "cell_type": "code",
   "execution_count": null,
   "metadata": {
    "id": "byqh7PKWhXHC"
   },
   "outputs": [],
   "source": []
  }
 ],
 "metadata": {
  "colab": {
   "collapsed_sections": [],
   "name": "t5_evaluation.ipynb",
   "provenance": []
  },
  "kernelspec": {
   "display_name": "Python 3",
   "language": "python",
   "name": "python3"
  },
  "language_info": {
   "codemirror_mode": {
    "name": "ipython",
    "version": 3
   },
   "file_extension": ".py",
   "mimetype": "text/x-python",
   "name": "python",
   "nbconvert_exporter": "python",
   "pygments_lexer": "ipython3",
   "version": "3.7.9"
  }
 },
 "nbformat": 4,
 "nbformat_minor": 4
}
