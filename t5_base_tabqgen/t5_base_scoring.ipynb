{
 "cells": [
  {
   "cell_type": "code",
   "execution_count": 1,
   "metadata": {
    "id": "uksb5Y6TiP5P"
   },
   "outputs": [],
   "source": [
    "from rouge import Rouge\n",
    "import nltk\n",
    "import jsonlines\n",
    "import json\n",
    "from tqdm.notebook import tqdm_notebook"
   ]
  },
  {
   "cell_type": "code",
   "execution_count": 2,
   "metadata": {
    "id": "JmSH_h9Nigyg"
   },
   "outputs": [],
   "source": [
    "rouge = Rouge()"
   ]
  },
  {
   "cell_type": "code",
   "execution_count": 3,
   "metadata": {},
   "outputs": [],
   "source": [
    "datasets = './datasets/'"
   ]
  },
  {
   "cell_type": "code",
   "execution_count": 4,
   "metadata": {
    "id": "jlhnRO9oigvL"
   },
   "outputs": [],
   "source": [
    "ref_questions = []\n",
    "with jsonlines.open(f'{datasets}/TabQGen_test.jsonl') as inpf:\n",
    "    for idx, item in enumerate(inpf):\n",
    "        q_list = []\n",
    "        for q in item['sentence_annotations']:\n",
    "            q_list.append(q['question'])\n",
    "        ref_questions.append(q_list)"
   ]
  },
  {
   "cell_type": "code",
   "execution_count": 5,
   "metadata": {
    "id": "qt-Ti6qkigs5"
   },
   "outputs": [
    {
     "data": {
      "text/plain": [
       "(7700,\n",
       " ['Who was Ralph J. Parker?',\n",
       "  'Who was the Speaker of the Minnesota House of Representatives?',\n",
       "  'Who was Ralph J. Parke?'])"
      ]
     },
     "execution_count": 5,
     "metadata": {},
     "output_type": "execute_result"
    }
   ],
   "source": [
    "len(ref_questions), ref_questions[4]"
   ]
  },
  {
   "cell_type": "code",
   "execution_count": 6,
   "metadata": {
    "id": "R-oFOh8sigqq"
   },
   "outputs": [],
   "source": [
    "pred_questions = []\n",
    "with open('test_preds.txt') as predf:\n",
    "    for pred_q in predf:\n",
    "        pred_questions.append(pred_q.strip())"
   ]
  },
  {
   "cell_type": "code",
   "execution_count": 7,
   "metadata": {
    "id": "FLbTyzlZigeF"
   },
   "outputs": [
    {
     "data": {
      "text/plain": [
       "7700"
      ]
     },
     "execution_count": 7,
     "metadata": {},
     "output_type": "execute_result"
    }
   ],
   "source": [
    "len(pred_questions)"
   ]
  },
  {
   "cell_type": "markdown",
   "metadata": {
    "id": "1cepY7hBitN-"
   },
   "source": [
    "## BLUE"
   ]
  },
  {
   "cell_type": "code",
   "execution_count": 8,
   "metadata": {
    "id": "dJF1E4fRigav"
   },
   "outputs": [
    {
     "data": {
      "text/plain": [
       "0.7266710268241195"
      ]
     },
     "execution_count": 8,
     "metadata": {},
     "output_type": "execute_result"
    }
   ],
   "source": [
    "tot_bleu = nltk.translate.bleu_score.corpus_bleu(ref_questions, pred_questions)\n",
    "tot_bleu"
   ]
  },
  {
   "cell_type": "markdown",
   "metadata": {
    "id": "Ggboju1ci19T"
   },
   "source": [
    "# NIST"
   ]
  },
  {
   "cell_type": "code",
   "execution_count": 9,
   "metadata": {
    "id": "IAGNxnWSigYY"
   },
   "outputs": [
    {
     "data": {
      "text/plain": [
       "9.372351933185012"
      ]
     },
     "execution_count": 9,
     "metadata": {},
     "output_type": "execute_result"
    }
   ],
   "source": [
    "tot_nist = nltk.translate.nist_score.corpus_nist(ref_questions, pred_questions)\n",
    "tot_nist"
   ]
  },
  {
   "cell_type": "markdown",
   "metadata": {
    "id": "NVytnIs7i8Pu"
   },
   "source": [
    "# ROUGE"
   ]
  },
  {
   "cell_type": "code",
   "execution_count": 10,
   "metadata": {
    "id": "asE7H299igWR"
   },
   "outputs": [],
   "source": [
    "ref_list = [i[-1] for i in ref_questions]"
   ]
  },
  {
   "cell_type": "code",
   "execution_count": 11,
   "metadata": {
    "id": "e4nX1m4FigTx"
   },
   "outputs": [
    {
     "data": {
      "text/plain": [
       "{'rouge-1': {'f': 0.5211266299103943,\n",
       "  'p': 0.533412968699598,\n",
       "  'r': 0.527296689991981},\n",
       " 'rouge-2': {'f': 0.3546070685502542,\n",
       "  'p': 0.3637770593933675,\n",
       "  'r': 0.3576945067132229},\n",
       " 'rouge-l': {'f': 0.516908733899949,\n",
       "  'p': 0.5282907285291747,\n",
       "  'r': 0.5217745044636828}}"
      ]
     },
     "execution_count": 11,
     "metadata": {},
     "output_type": "execute_result"
    }
   ],
   "source": [
    "tot_rouge = rouge.get_scores(pred_questions, ref_list, avg=True)\n",
    "tot_rouge"
   ]
  },
  {
   "cell_type": "code",
   "execution_count": 12,
   "metadata": {
    "id": "B_OtiO9OigRz"
   },
   "outputs": [
    {
     "data": {
      "text/plain": [
       "0.516908733899949"
      ]
     },
     "execution_count": 12,
     "metadata": {},
     "output_type": "execute_result"
    }
   ],
   "source": [
    "tot_rouge['rouge-l']['f']"
   ]
  },
  {
   "cell_type": "markdown",
   "metadata": {
    "id": "jYELJvfJjEc4"
   },
   "source": [
    "# METEOR"
   ]
  },
  {
   "cell_type": "code",
   "execution_count": 13,
   "metadata": {
    "id": "GCAXL3NvjEJH"
   },
   "outputs": [],
   "source": [
    "meteor_list = []\n",
    "for idx in range(len(ref_questions)):\n",
    "    meteor_list.append(nltk.translate.meteor_score.meteor_score(ref_questions[idx], pred_questions[idx]))"
   ]
  },
  {
   "cell_type": "code",
   "execution_count": 14,
   "metadata": {
    "id": "OIKyBI6wjIs3"
   },
   "outputs": [
    {
     "data": {
      "text/plain": [
       "0.6015002775013296"
      ]
     },
     "execution_count": 14,
     "metadata": {},
     "output_type": "execute_result"
    }
   ],
   "source": [
    "tot_meteor = sum(meteor_list)/len(meteor_list)\n",
    "tot_meteor"
   ]
  },
  {
   "cell_type": "code",
   "execution_count": null,
   "metadata": {},
   "outputs": [],
   "source": []
  }
 ],
 "metadata": {
  "colab": {
   "collapsed_sections": [],
   "name": "scoring.ipynb",
   "provenance": []
  },
  "kernelspec": {
   "display_name": "Python 3",
   "language": "python",
   "name": "python3"
  },
  "language_info": {
   "codemirror_mode": {
    "name": "ipython",
    "version": 3
   },
   "file_extension": ".py",
   "mimetype": "text/x-python",
   "name": "python",
   "nbconvert_exporter": "python",
   "pygments_lexer": "ipython3",
   "version": "3.7.9"
  }
 },
 "nbformat": 4,
 "nbformat_minor": 4
}
